{
  "cells": [
    {
      "cell_type": "markdown",
      "metadata": {
        "id": "_lklGMpo7U-H"
      },
      "source": [
        "## week10: seq2seq practice\n",
        "### Generating names with recurrent neural networks\n",
        "\n",
        "This time you'll find yourself delving into the heart (and other intestines) of recurrent neural networks on a class of toy problems.\n",
        "\n",
        "Struggle to find a name for the variable? Let's see how you'll come up with a name for your son/daughter. Surely no human has expertize over what is a good child name, so let us train RNN instead;\n",
        "\n",
        "It's dangerous to go alone, take these:"
      ]
    },
    {
      "cell_type": "code",
      "execution_count": 1,
      "metadata": {
        "id": "Bu96E0km7U-J"
      },
      "outputs": [],
      "source": [
        "import numpy as np\n",
        "import matplotlib.pyplot as plt\n",
        "%matplotlib inline"
      ]
    },
    {
      "cell_type": "markdown",
      "metadata": {
        "id": "S_uw4l637U-L"
      },
      "source": [
        "# Our data\n",
        "The dataset contains ~8k earthling names from different cultures, all in latin transcript.\n",
        "\n",
        "This notebook has been designed so as to allow you to quickly swap names for something similar: deep learning article titles, IKEA furniture, pokemon names, etc."
      ]
    },
    {
      "cell_type": "code",
      "execution_count": 2,
      "metadata": {
        "colab": {
          "base_uri": "https://localhost:8080/"
        },
        "id": "EmnrDPbb7U-L",
        "outputId": "248a58a9-dbee-4b23-d115-a52212ee7ec9"
      },
      "outputs": [],
      "source": [
        "# Uncomment this cell in Colab\n",
        "\n",
        "# ! wget https://raw.githubusercontent.com/girafe-ai/ml-course/22f_basic/week0_09_embeddings_and_seq2seq/names -O names"
      ]
    },
    {
      "cell_type": "code",
      "execution_count": 3,
      "metadata": {
        "id": "pyO6KGjI7U-L"
      },
      "outputs": [],
      "source": [
        "import os\n",
        "start_token = \" \"\n",
        "\n",
        "with open(\"names\") as f:\n",
        "    names = f.read()[:-1].split('\\n')\n",
        "    names = [start_token + line for line in names]"
      ]
    },
    {
      "cell_type": "code",
      "execution_count": 4,
      "metadata": {
        "colab": {
          "base_uri": "https://localhost:8080/"
        },
        "id": "zk-hHjl87U-L",
        "outputId": "4e71f750-9829-4542-8c54-ad14573eacbc"
      },
      "outputs": [
        {
          "name": "stdout",
          "output_type": "stream",
          "text": [
            "n samples =  7944\n",
            " Abagael\n",
            " Claresta\n",
            " Glory\n",
            " Liliane\n",
            " Prissie\n",
            " Geeta\n",
            " Giovanne\n",
            " Piggy\n"
          ]
        }
      ],
      "source": [
        "print ('n samples = ',len(names))\n",
        "for x in names[::1000]:\n",
        "    print (x)"
      ]
    },
    {
      "cell_type": "code",
      "execution_count": 5,
      "metadata": {
        "colab": {
          "base_uri": "https://localhost:8080/",
          "height": 299
        },
        "id": "TxMUtRX87U-M",
        "outputId": "a04aa853-102d-414f-be78-0fba0d7ddbc0"
      },
      "outputs": [
        {
          "name": "stdout",
          "output_type": "stream",
          "text": [
            "max length = 16\n"
          ]
        },
        {
          "data": {
            "image/png": "[encoded data removed]",
            "text/plain": [
              "<Figure size 640x480 with 1 Axes>"
            ]
          },
          "metadata": {},
          "output_type": "display_data"
        }
      ],
      "source": [
        "MAX_LENGTH = max(map(len, names))\n",
        "print(\"max length =\", MAX_LENGTH)\n",
        "\n",
        "plt.title('Sequence length distribution')\n",
        "plt.hist(list(map(len, names)),bins=25);"
      ]
    },
    {
      "cell_type": "markdown",
      "metadata": {
        "id": "sxuScjCk7U-M"
      },
      "source": [
        "# Text processing\n",
        "\n",
        "First we need next to collect a \"vocabulary\" of all unique tokens i.e. unique characters. We can then encode inputs as a sequence of character ids."
      ]
    },
    {
      "cell_type": "code",
      "execution_count": 8,
      "metadata": {
        "colab": {
          "base_uri": "https://localhost:8080/"
        },
        "id": "ulxViVzD8Htd",
        "outputId": "5a1abce3-5241-4869-b6ca-9ac7fc65834b"
      },
      "outputs": [
        {
          "data": {
            "text/plain": [
              "{' ', 'A', 'a', 'b', 'e', 'g', 'l'}"
            ]
          },
          "execution_count": 8,
          "metadata": {},
          "output_type": "execute_result"
        }
      ],
      "source": []
    },
    {
      "cell_type": "code",
      "execution_count": 9,
      "metadata": {
        "colab": {
          "base_uri": "https://localhost:8080/"
        },
        "id": "ImGLa1Ok7U-N",
        "outputId": "d832f469-076e-4a76-91e0-af2eeef24d91"
      },
      "outputs": [
        {
          "name": "stdout",
          "output_type": "stream",
          "text": [
            "num_tokens =  55\n"
          ]
        }
      ],
      "source": [
        "#all unique characters go here\n",
        "tokens = set()\n",
        "for name in names:\n",
        "    tokens.update(set(name))\n",
        "\n",
        " #<all unique characters in the dataset>\n",
        "\n",
        "tokens = list(tokens)\n",
        "\n",
        "num_tokens = len(tokens)\n",
        "print ('num_tokens = ', num_tokens)\n",
        "\n",
        "assert 50 < num_tokens < 60, \"Names should contain within 50 and 60 unique tokens depending on encoding\""
      ]
    },
    {
      "cell_type": "markdown",
      "metadata": {
        "id": "x890Ttg57U-N"
      },
      "source": [
        "### Convert characters to integers\n",
        "\n",
        "Torch is built for crunching numbers, not strings. \n",
        "To train our neural network, we'll need to replace characters with their indices in tokens list.\n",
        "\n",
        "Let's compose a dictionary that does this mapping."
      ]
    },
    {
      "cell_type": "code",
      "execution_count": 10,
      "metadata": {
        "id": "NWdh2P0D-RmE"
      },
      "outputs": [],
      "source": [
        "tokens.append('<') # <SOS>\n",
        "tokens.append('>') # <EOS>\n",
        "tokens.append('_') # <PAD>"
      ]
    },
    {
      "cell_type": "code",
      "execution_count": 11,
      "metadata": {
        "id": "uZ7i9xMc7U-N"
      },
      "outputs": [],
      "source": [
        "token_to_id = {token: idx for idx, token in enumerate(tokens)} # <dictionary of symbol -> its identifier (index in tokens list)>"
      ]
    },
    {
      "cell_type": "code",
      "execution_count": 12,
      "metadata": {
        "colab": {
          "base_uri": "https://localhost:8080/"
        },
        "id": "meblXyEu7U-O",
        "outputId": "48df4371-05af-431f-9a31-d35cfab6305a"
      },
      "outputs": [
        {
          "name": "stdout",
          "output_type": "stream",
          "text": [
            "Seems alright!\n"
          ]
        }
      ],
      "source": [
        "assert len(tokens) == len(token_to_id), \"dictionaries must have same size\"\n",
        "\n",
        "for i in range(num_tokens):\n",
        "    assert token_to_id[tokens[i]] == i, \"token identifier must be it's position in tokens list\"\n",
        "\n",
        "print(\"Seems alright!\")"
      ]
    },
    {
      "cell_type": "code",
      "execution_count": 27,
      "metadata": {
        "id": "NL2bQK8S7U-O"
      },
      "outputs": [],
      "source": [
        "def to_matrix(\n",
        "    names, max_len=None, pad=token_to_id['_'], dtype='int32', batch_first=True\n",
        "    ):\n",
        "    \"\"\"Casts a list of names into rnn-digestable matrix\"\"\"\n",
        "    \n",
        "    max_len = max_len or max(map(len, names))\n",
        "    max_len += 1\n",
        "    names_ix = np.zeros([len(names), max_len], dtype) + pad\n",
        "    names_ix[:, 0] = token_to_id['<'] # <SOS>\n",
        "\n",
        "    for i in range(len(names)):\n",
        "        line_ix = [token_to_id[c] for c in names[i]]\n",
        "        names_ix[i, 1:len(line_ix)] = line_ix[1:]\n",
        "        names_ix[i, len(line_ix)] = token_to_id['>'] # <EOS>\n",
        "\n",
        "        \n",
        "    if not batch_first: # convert [batch, time] into [time, batch]\n",
        "        names_ix = np.transpose(names_ix)\n",
        "\n",
        "    return names_ix"
      ]
    },
    {
      "cell_type": "code",
      "execution_count": 32,
      "metadata": {},
      "outputs": [
        {
          "data": {
            "text/plain": [
              "[' Abagael', ' Abagail']"
            ]
          },
          "execution_count": 32,
          "metadata": {},
          "output_type": "execute_result"
        }
      ],
      "source": [
        "names[:2]"
      ]
    },
    {
      "cell_type": "code",
      "execution_count": 31,
      "metadata": {
        "colab": {
          "base_uri": "https://localhost:8080/"
        },
        "id": "m16OCJvh7U-P",
        "outputId": "587baca1-fdf4-4b41-b6dd-62ebf9144e9b"
      },
      "outputs": [
        {
          "name": "stdout",
          "output_type": "stream",
          "text": [
            "[[55 46 29  1  4  1  6 21 56]\n",
            " [55 46 29  1  4  1 11 21 56]]\n"
          ]
        }
      ],
      "source": [
        "#Example: cast 4 random names to matrices, pad with zeros\n",
        "# print('\\n'.join(names[::2000]))\n",
        "print(to_matrix(names[:2]))"
      ]
    },
    {
      "cell_type": "code",
      "execution_count": 15,
      "metadata": {
        "colab": {
          "base_uri": "https://localhost:8080/",
          "height": 37
        },
        "id": "Hp8vrNmbANfK",
        "outputId": "79dc131f-1032-4aec-d145-cf35a545030a"
      },
      "outputs": [
        {
          "data": {
            "text/plain": [
              "'<Giovanne>'"
            ]
          },
          "execution_count": 15,
          "metadata": {},
          "output_type": "execute_result"
        }
      ],
      "source": [
        "''.join([tokens[idx] for idx in to_matrix(names[::2000])[3]])"
      ]
    },
    {
      "cell_type": "code",
      "execution_count": 41,
      "metadata": {
        "colab": {
          "base_uri": "https://localhost:8080/",
          "height": 287
        },
        "id": "suZD2_cn_eUv",
        "outputId": "64e4dfd2-1c9c-4239-8189-e8b888547444"
      },
      "outputs": [
        {
          "data": {
            "text/plain": [
              "<matplotlib.collections.QuadMesh at 0x7fa7212eecd0>"
            ]
          },
          "execution_count": 41,
          "metadata": {},
          "output_type": "execute_result"
        },
        {
          "data": {
            "image/png": "[encoded data removed]",
            "text/plain": [
              "<Figure size 432x288 with 1 Axes>"
            ]
          },
          "metadata": {
            "needs_background": "light"
          },
          "output_type": "display_data"
        }
      ],
      "source": [
        "plt.pcolormesh(to_matrix(names[::2000]) == 57)"
      ]
    },
    {
      "cell_type": "code",
      "execution_count": 36,
      "metadata": {
        "colab": {
          "base_uri": "https://localhost:8080/",
          "height": 287
        },
        "id": "_wb8ZcAiAIN-",
        "outputId": "b4e13d68-b1df-42d6-b8e1-7e5bfc6339d0"
      },
      "outputs": [
        {
          "data": {
            "text/plain": [
              "<matplotlib.collections.QuadMesh at 0x7fa721374590>"
            ]
          },
          "execution_count": 36,
          "metadata": {},
          "output_type": "execute_result"
        },
        {
          "data": {
            "image/png": "[encoded data removed]",
            "text/plain": [
              "<Figure size 432x288 with 1 Axes>"
            ]
          },
          "metadata": {
            "needs_background": "light"
          },
          "output_type": "display_data"
        }
      ],
      "source": [
        "plt.pcolormesh(to_matrix(names[::2000]) == 56)"
      ]
    },
    {
      "cell_type": "code",
      "execution_count": 29,
      "metadata": {
        "colab": {
          "base_uri": "https://localhost:8080/",
          "height": 37
        },
        "id": "EaGDwQrn_bYv",
        "outputId": "71e081dd-5556-45d7-cbd2-5660f77ebfae"
      },
      "outputs": [
        {
          "data": {
            "application/vnd.google.colaboratory.intrinsic+json": {
              "type": "string"
            },
            "text/plain": [
              "'>'"
            ]
          },
          "execution_count": 29,
          "metadata": {},
          "output_type": "execute_result"
        }
      ],
      "source": [
        "tokens[56]"
      ]
    },
    {
      "cell_type": "markdown",
      "metadata": {
        "id": "c5TxEWa37U-P"
      },
      "source": [
        "# Recurrent neural network\n",
        "\n",
        "We can rewrite recurrent neural network as a consecutive application of dense layer to input $x_t$ and previous rnn state $h_t$. This is exactly what we're gonna do now.\n",
        "<img src=\"https://github.com/girafe-ai/ml-course/blob/22f_basic/week0_09_embeddings_and_seq2seq/rnn.png?raw=1\" width=480>\n",
        "\n",
        "Since we're training a language model, there should also be:\n",
        "* An embedding layer that converts character id x_t to a vector.\n",
        "* An output layer that predicts probabilities of next phoneme"
      ]
    },
    {
      "cell_type": "code",
      "execution_count": 21,
      "metadata": {
        "id": "49NEDWNF7U-P"
      },
      "outputs": [],
      "source": [
        "import torch, torch.nn as nn\n",
        "import torch.nn.functional as F"
      ]
    },
    {
      "cell_type": "code",
      "execution_count": 22,
      "metadata": {
        "id": "mTj8WJ26Bew-"
      },
      "outputs": [],
      "source": [
        "embed = nn.Embedding(4, 2)"
      ]
    },
    {
      "cell_type": "code",
      "execution_count": 23,
      "metadata": {
        "colab": {
          "base_uri": "https://localhost:8080/"
        },
        "id": "bR5Bid9OBhAH",
        "outputId": "cad4daa5-9233-4f9d-a7c0-8da933fdc34d"
      },
      "outputs": [
        {
          "data": {
            "text/plain": [
              "Parameter containing:\n",
              "tensor([[-0.2957, -0.2948],\n",
              "        [-0.3464, -0.1998],\n",
              "        [-0.3400, -0.7910],\n",
              "        [-0.8698, -0.7503]], requires_grad=True)"
            ]
          },
          "execution_count": 23,
          "metadata": {},
          "output_type": "execute_result"
        }
      ],
      "source": [
        "next(embed.parameters())"
      ]
    },
    {
      "cell_type": "code",
      "execution_count": 24,
      "metadata": {
        "colab": {
          "base_uri": "https://localhost:8080/"
        },
        "id": "PkgzebOPBhIM",
        "outputId": "368d56a2-9476-41f4-d27b-2d6b5811e221"
      },
      "outputs": [
        {
          "data": {
            "text/plain": [
              "tensor([[-0.3400, -0.7910],\n",
              "        [-0.8698, -0.7503]], grad_fn=<EmbeddingBackward0>)"
            ]
          },
          "execution_count": 24,
          "metadata": {},
          "output_type": "execute_result"
        }
      ],
      "source": [
        "embed(torch.LongTensor([2,3]))"
      ]
    },
    {
      "cell_type": "code",
      "execution_count": null,
      "metadata": {
        "id": "h5OW5TEMBhMq"
      },
      "outputs": [],
      "source": []
    },
    {
      "cell_type": "code",
      "execution_count": 95,
      "metadata": {
        "id": "HzQ9KxSx7U-P"
      },
      "outputs": [],
      "source": [
        "class CharRNNCell(nn.Module):\n",
        "    \"\"\"\n",
        "    Implement the scheme above as torch module\n",
        "    \"\"\"\n",
        "    def __init__(self, num_tokens=len(tokens), embedding_size=18, rnn_num_units=64):\n",
        "        super(self.__class__,self).__init__()\n",
        "        self.num_units = rnn_num_units\n",
        "        \n",
        "        self.embedding = nn.Embedding(num_tokens, embedding_size)\n",
        "        self.rnn_update = nn.Linear(embedding_size + rnn_num_units, rnn_num_units)\n",
        "        self.rnn_to_logits = nn.Linear(rnn_num_units, num_tokens)\n",
        "        \n",
        "    def forward(self, x, h_prev):\n",
        "        \"\"\"\n",
        "        This method computes h_next(x, h_prev) and log P(x_next | h_next)\n",
        "        We'll call it repeatedly to produce the whole sequence.\n",
        "        \n",
        "        :param x: batch of character ids, containing vector of int64\n",
        "        :param h_prev: previous rnn hidden states, containing matrix [batch, rnn_num_units] of float32\n",
        "        \"\"\"\n",
        "        # get vector embedding of x\n",
        "        x_emb = self.embedding(x)\n",
        "        \n",
        "        # compute next hidden state using self.rnn_update\n",
        "        # hint: use torch.cat(..., dim=...) for concatenation\n",
        "        x_and_h = torch.cat([x_emb, h_prev], dim=-1) #YOUR CODE HERE\n",
        "        h_next = self.rnn_update(x_and_h)\n",
        "        \n",
        "        h_next = torch.tanh(h_next) #YOUR CODE HERE\n",
        "        \n",
        "        assert h_next.size() == h_prev.size()\n",
        "        \n",
        "        #compute logits for next character probs\n",
        "        logits = self.rnn_to_logits(h_next) #YOUR CODE\n",
        "        \n",
        "        return h_next, logits\n",
        "    \n",
        "    def initial_state(self, batch_size):\n",
        "        \"\"\" return rnn state before it processes first input (aka h0) \"\"\"\n",
        "        return torch.zeros(batch_size, self.num_units, requires_grad=True)"
      ]
    },
    {
      "cell_type": "code",
      "execution_count": 96,
      "metadata": {
        "id": "ZGXN7JznDWN8"
      },
      "outputs": [],
      "source": [
        "hyperparams = {\n",
        "    'depth': 11,\n",
        "    'length': 24\n",
        "}"
      ]
    },
    {
      "cell_type": "code",
      "execution_count": 97,
      "metadata": {
        "id": "fufXRDof7U-P"
      },
      "outputs": [],
      "source": [
        "char_rnn = CharRNNCell()"
      ]
    },
    {
      "cell_type": "markdown",
      "metadata": {
        "id": "JIqMfCJ87U-Q"
      },
      "source": [
        "### RNN loop\n",
        "\n",
        "Once we've defined a single RNN step, we can apply it in a loop to get predictions on each step."
      ]
    },
    {
      "cell_type": "code",
      "execution_count": 98,
      "metadata": {
        "id": "V8erGzfN7U-Q"
      },
      "outputs": [],
      "source": [
        "def rnn_loop(char_rnn, batch_ix):\n",
        "    \"\"\"\n",
        "    Computes log P(next_character) for all time-steps in names_ix\n",
        "    :param names_ix: an int32 matrix of shape [batch, time], output of to_matrix(names)\n",
        "    \"\"\"\n",
        "    batch_size, max_length = batch_ix.size()\n",
        "    hid_state = char_rnn.initial_state(batch_size)\n",
        "    logits = []\n",
        "\n",
        "    for x_t in batch_ix.transpose(0,1):\n",
        "        hid_state, logits_next = char_rnn(x_t, hid_state)  # <-- here we call your one-step code\n",
        "        logits.append(logits_next)\n",
        "        \n",
        "    return torch.stack(logits, dim=1)"
      ]
    },
    {
      "cell_type": "code",
      "execution_count": 99,
      "metadata": {
        "id": "IUqXHw3KDzJ-"
      },
      "outputs": [],
      "source": [
        "num_tokens = len(tokens)"
      ]
    },
    {
      "cell_type": "code",
      "execution_count": 104,
      "metadata": {
        "id": "lrjlv1JS7U-Q"
      },
      "outputs": [],
      "source": [
        "batch_ix = to_matrix(names[:5])\n",
        "batch_ix = torch.tensor(batch_ix, dtype=torch.int64)\n",
        "\n",
        "logit_seq = rnn_loop(char_rnn, batch_ix)\n",
        "\n",
        "# assert torch.max(logp_seq).data.numpy() <= 0\n",
        "# assert tuple(logp_seq.size()) ==  batch_ix.shape + (num_tokens,)"
      ]
    },
    {
      "cell_type": "markdown",
      "metadata": {
        "id": "KsTqsveb7U-Q"
      },
      "source": [
        "### Likelihood and gradients\n",
        "\n",
        "We can now train our neural network to minimize crossentropy (maximize log-likelihood) with the actual next tokens.\n",
        "\n",
        "To do so in a vectorized manner, we take `batch_ix[:, 1:]` - a matrix of token ids shifted i step to the left so i-th element is acutally the \"next token\" for i-th prediction"
      ]
    },
    {
      "cell_type": "code",
      "execution_count": 105,
      "metadata": {
        "id": "gXCU3ig-7U-Q"
      },
      "outputs": [],
      "source": [
        "predictions_logits = logit_seq[:, :-1]\n",
        "actual_next_tokens = batch_ix[:, 1:]\n",
        "\n",
        "# logp_next = torch.gather(\n",
        "#     predictions_logp,\n",
        "#     dim=2, \n",
        "#     index=actual_next_tokens[:,:,None]\n",
        "#     )\n",
        "\n",
        "# loss = -logp_next.mean()"
      ]
    },
    {
      "cell_type": "code",
      "execution_count": 106,
      "metadata": {
        "id": "irrDsnxoEMgX"
      },
      "outputs": [],
      "source": [
        "loss_func = nn.CrossEntropyLoss(ignore_index=token_to_id['_'])\n",
        "loss2 = loss_func(\n",
        "    predictions_logits.reshape((-1, num_tokens)),\n",
        "    actual_next_tokens.reshape(-1)\n",
        "    )"
      ]
    },
    {
      "cell_type": "code",
      "execution_count": 107,
      "metadata": {
        "id": "4R1zC8EA7U-R"
      },
      "outputs": [],
      "source": [
        "loss2.backward()"
      ]
    },
    {
      "cell_type": "code",
      "execution_count": 108,
      "metadata": {
        "id": "JsoiL3yU7U-R"
      },
      "outputs": [],
      "source": [
        "for w in char_rnn.parameters():\n",
        "    assert w.grad is not None and torch.max(torch.abs(w.grad)).data.numpy() != 0, \\\n",
        "        \"Loss is not differentiable w.r.t. a weight with shape %s. Check forward method.\" % (w.size(),)"
      ]
    },
    {
      "cell_type": "markdown",
      "metadata": {
        "id": "M6yofcJ47U-R"
      },
      "source": [
        "### The training loop\n",
        "\n",
        "We train our char-rnn exactly the same way we train any deep learning model: by minibatch sgd.\n",
        "\n",
        "The only difference is that this time we sample strings, not images or sound."
      ]
    },
    {
      "cell_type": "code",
      "execution_count": 16,
      "metadata": {},
      "outputs": [],
      "source": [
        "from IPython.display import clear_output\n",
        "from random import sample"
      ]
    },
    {
      "cell_type": "code",
      "execution_count": 109,
      "metadata": {
        "id": "rLNjQ7BA7U-R"
      },
      "outputs": [],
      "source": [
        "\n",
        "\n",
        "char_rnn = CharRNNCell()\n",
        "opt = torch.optim.Adam(char_rnn.parameters())\n",
        "loss_func = nn.CrossEntropyLoss(ignore_index=token_to_id['_'])\n",
        "\n",
        "history = []"
      ]
    },
    {
      "cell_type": "code",
      "execution_count": 110,
      "metadata": {
        "colab": {
          "base_uri": "https://localhost:8080/",
          "height": 265
        },
        "id": "tj308uh_7U-R",
        "outputId": "6c289e48-8669-4852-ac5b-03114c8535e2"
      },
      "outputs": [
        {
          "data": {
            "image/png": "[encoded data removed]",
            "text/plain": [
              "<Figure size 432x288 with 1 Axes>"
            ]
          },
          "metadata": {
            "needs_background": "light"
          },
          "output_type": "display_data"
        }
      ],
      "source": [
        "MAX_LENGTH = 16\n",
        "\n",
        "for i in range(1000):\n",
        "    batch_ix = to_matrix(sample(names, 32), max_len=MAX_LENGTH)\n",
        "    batch_ix = torch.tensor(batch_ix, dtype=torch.int64)\n",
        "    \n",
        "    logits_seq = rnn_loop(char_rnn, batch_ix)\n",
        "    \n",
        "    # compute loss\n",
        "    #<YOUR CODE>\n",
        "    predictions_logits = logits_seq[:, :-1]\n",
        "    actual_next_tokens = batch_ix[:, 1:]\n",
        "\n",
        "    loss = loss_func(\n",
        "    predictions_logits.reshape((-1, num_tokens)),\n",
        "    actual_next_tokens.reshape(-1)\n",
        "    )\n",
        "    loss.backward()\n",
        "    opt.step()\n",
        "    \n",
        "    opt.zero_grad()\n",
        "    \n",
        "    history.append(loss.data.numpy())\n",
        "    if (i+1)%100==0:\n",
        "        clear_output(True)\n",
        "        plt.plot(history,label='loss')\n",
        "        plt.legend()\n",
        "        plt.show()\n",
        "\n",
        "assert np.mean(history[:10]) > np.mean(history[-10:]), \"RNN didn't converge.\""
      ]
    },
    {
      "cell_type": "markdown",
      "metadata": {
        "id": "ZfqMqTVK7U-S"
      },
      "source": [
        "### RNN: sampling\n",
        "Once we've trained our network a bit, let's get to actually generating stuff. \n",
        "All we need is the single rnn step function you have defined in `char_rnn.forward`."
      ]
    },
    {
      "cell_type": "code",
      "execution_count": 111,
      "metadata": {
        "id": "Paf2TWkG7U-S"
      },
      "outputs": [],
      "source": [
        "def generate_sample(char_rnn, seed_phrase='<', max_length=MAX_LENGTH, temperature=1.0):\n",
        "    '''\n",
        "    The function generates text given a phrase of length at least SEQ_LENGTH.\n",
        "    :param seed_phrase: prefix characters. The RNN is asked to continue the phrase\n",
        "    :param max_length: maximum output length, including seed_phrase\n",
        "    :param temperature: coefficient for sampling.  higher temperature produces more chaotic outputs,\n",
        "                        smaller temperature converges to the single most likely output\n",
        "    '''\n",
        "    \n",
        "    x_sequence = [token_to_id[token] for token in seed_phrase]\n",
        "    x_sequence = torch.tensor([x_sequence], dtype=torch.int64)\n",
        "    hid_state = char_rnn.initial_state(batch_size=1)\n",
        "    \n",
        "    #feed the seed phrase, if any\n",
        "    for i in range(len(seed_phrase) - 1):\n",
        "        hid_state, _ = char_rnn(x_sequence[:, i], hid_state)\n",
        "    \n",
        "    #start generating\n",
        "    for _ in range(max_length - len(seed_phrase)):\n",
        "        hid_state, logits_next = char_rnn(x_sequence[:, -1], hid_state)\n",
        "        p_next = F.softmax(logits_next / temperature, dim=-1).data.numpy()[0]\n",
        "        \n",
        "        # sample next token and push it back into x_sequence\n",
        "        next_ix = np.random.choice(num_tokens, p=p_next)\n",
        "        next_ix = torch.tensor([[next_ix]], dtype=torch.int64)\n",
        "        x_sequence = torch.cat([x_sequence, next_ix], dim=1)\n",
        "        if next_ix == token_to_id['>']:\n",
        "          break\n",
        "    return ''.join([tokens[ix] for ix in x_sequence.data.numpy()[0]])"
      ]
    },
    {
      "cell_type": "code",
      "execution_count": 120,
      "metadata": {
        "id": "i0C4ibfeIWEx"
      },
      "outputs": [],
      "source": [
        "def softmax(x, temp=1.):\n",
        "  exps = np.exp((x - x.max()) / temp)\n",
        "  return exps / exps.sum()"
      ]
    },
    {
      "cell_type": "code",
      "execution_count": 124,
      "metadata": {
        "colab": {
          "base_uri": "https://localhost:8080/",
          "height": 283
        },
        "id": "XOMPGAf5IcId",
        "outputId": "6819d894-0b69-448b-ce2a-a4278c66d2f2"
      },
      "outputs": [
        {
          "data": {
            "text/plain": [
              "<BarContainer object of 5 artists>"
            ]
          },
          "execution_count": 124,
          "metadata": {},
          "output_type": "execute_result"
        },
        {
          "data": {
            "image/png": "[encoded data removed]",
            "text/plain": [
              "<Figure size 432x288 with 1 Axes>"
            ]
          },
          "metadata": {
            "needs_background": "light"
          },
          "output_type": "display_data"
        }
      ],
      "source": [
        "plt.bar(np.arange(5), softmax(np.array([1, 3 , 4, 7, 9]), 1))"
      ]
    },
    {
      "cell_type": "code",
      "execution_count": 126,
      "metadata": {
        "colab": {
          "base_uri": "https://localhost:8080/"
        },
        "id": "iyQQQyid7U-S",
        "outputId": "57db2a23-6914-438a-a785-f4cfc8cadd0f"
      },
      "outputs": [
        {
          "name": "stdout",
          "output_type": "stream",
          "text": [
            "Berrie\n",
            "Alenna\n",
            "Annelle\n",
            "Allin\n",
            "Alenna\n",
            "Aline\n",
            "Sherie\n",
            "Alenne\n",
            "Alenna\n",
            "Sharie\n"
          ]
        }
      ],
      "source": [
        "for _ in range(10):\n",
        "    print(generate_sample(char_rnn, temperature=0.1)[1:-1])"
      ]
    },
    {
      "cell_type": "code",
      "execution_count": 130,
      "metadata": {
        "colab": {
          "base_uri": "https://localhost:8080/"
        },
        "id": "rtuS90g57U-S",
        "outputId": "4433c33a-5735-47e4-e693-be0d61aaf785"
      },
      "outputs": [
        {
          "name": "stdout",
          "output_type": "stream",
          "text": [
            "<Rada-eranna>\n",
            "<Radey>\n",
            "<Radise>\n",
            "<Radde>\n",
            "<Rad>\n",
            "<Rady>\n",
            "<Rady>\n",
            "<Radeic>\n",
            "<Radaphr>\n",
            "<Rady>\n",
            "<Radbda>\n",
            "<Raddie>\n",
            "<Radde>\n",
            "<Rad>\n",
            "<Radorina>\n",
            "<Radlinde>\n",
            "<Radpia>\n",
            "<Rada>\n",
            "<Radollp>\n",
            "<Radina>\n",
            "<Raditie>\n",
            "<Radssa>\n",
            "<Radaq>\n",
            "<Radel>\n",
            "<Radie>\n",
            "<Radien>\n",
            "<Radele>\n",
            "<Rader>\n",
            "<Radie>\n",
            "<Rad>\n",
            "<Radsoo>\n",
            "<Radfy>\n",
            "<Rad>\n",
            "<Radrohor>\n",
            "<Radias>\n",
            "<Rad>\n",
            "<Radfi>\n",
            "<Radie>\n",
            "<Rad>\n",
            "<Radarint>\n",
            "<Raddie>\n",
            "<Radvie>\n",
            "<Radlie>\n",
            "<Radseut>\n",
            "<Raditta>\n",
            "<Radu>\n",
            "<Radder>\n",
            "<Radgipa>\n",
            "<Radelmon>\n",
            "<Radar>\n"
          ]
        }
      ],
      "source": [
        "for _ in range(50):\n",
        "    print(generate_sample(char_rnn, seed_phrase='<Rad'))"
      ]
    },
    {
      "cell_type": "markdown",
      "metadata": {
        "collapsed": true,
        "id": "AaigNvI_7U-T"
      },
      "source": [
        "### More seriously\n",
        "\n",
        "What we just did is a manual low-level implementation of RNN. While it's cool, i guess you won't like the idea of re-writing it from scratch on every occasion. \n",
        "\n",
        "As you might have guessed, torch has a solution for this. To be more specific, there are two options:\n",
        "* `nn.RNNCell(emb_size, rnn_num_units)` - implements a single step of RNN just like you did. Basically concat-linear-tanh\n",
        "* `nn.RNN(emb_size, rnn_num_units` - implements the whole rnn_loop for you.\n",
        "\n",
        "There's also `nn.LSTMCell` vs `nn.LSTM`, `nn.GRUCell` vs `nn.GRU`, etc. etc.\n",
        "\n",
        "In this example we'll rewrite the char_rnn and rnn_loop using high-level rnn API."
      ]
    },
    {
      "cell_type": "code",
      "execution_count": 19,
      "metadata": {
        "id": "BSvZua9Y7U-T"
      },
      "outputs": [],
      "source": [
        "class CharRNNLoop(nn.Module):\n",
        "    def __init__(self, num_tokens=num_tokens, emb_size=16, rnn_num_units=64):\n",
        "        super(self.__class__, self).__init__()\n",
        "        self.emb = nn.Embedding(num_tokens, emb_size)\n",
        "        self.rnn = nn.RNN(emb_size, rnn_num_units, batch_first=True)\n",
        "        self.hid_to_logits = nn.Linear(rnn_num_units, num_tokens)\n",
        "        \n",
        "    def forward(self, x):\n",
        "        assert isinstance(x.data, torch.LongTensor)\n",
        "        h_seq, _ = self.rnn(self.emb(x))\n",
        "        next_logits = self.hid_to_logits(h_seq)\n",
        "        next_logp = F.log_softmax(next_logits, dim=-1)\n",
        "        return next_logp\n",
        "    \n",
        "model = CharRNNLoop()\n",
        "opt = torch.optim.Adam(model.parameters())\n",
        "history = []"
      ]
    },
    {
      "cell_type": "code",
      "execution_count": 20,
      "metadata": {
        "id": "oqIs6JXy7U-U"
      },
      "outputs": [
        {
          "ename": "IndexError",
          "evalue": "index out of range in self",
          "output_type": "error",
          "traceback": [
            "\u001b[0;31m---------------------------------------------------------------------------\u001b[0m",
            "\u001b[0;31mIndexError\u001b[0m                                Traceback (most recent call last)",
            "Cell \u001b[0;32mIn [20], line 5\u001b[0m\n\u001b[1;32m      2\u001b[0m batch_ix \u001b[39m=\u001b[39m to_matrix(sample(names, \u001b[39m32\u001b[39m), max_len\u001b[39m=\u001b[39mMAX_LENGTH)\n\u001b[1;32m      3\u001b[0m batch_ix \u001b[39m=\u001b[39m torch\u001b[39m.\u001b[39mLongTensor(batch_ix)\n\u001b[0;32m----> 5\u001b[0m logp_seq \u001b[39m=\u001b[39m model(batch_ix)\n\u001b[1;32m      7\u001b[0m \u001b[39m# compute loss. \u001b[39;00m\n\u001b[1;32m      8\u001b[0m loss \u001b[39m=\u001b[39m F\u001b[39m.\u001b[39mnll_loss(logp_seq[:, \u001b[39m1\u001b[39m:]\u001b[39m.\u001b[39mcontiguous()\u001b[39m.\u001b[39mview(\u001b[39m-\u001b[39m\u001b[39m1\u001b[39m, num_tokens), \n\u001b[1;32m      9\u001b[0m                   batch_ix[:, :\u001b[39m-\u001b[39m\u001b[39m1\u001b[39m]\u001b[39m.\u001b[39mcontiguous()\u001b[39m.\u001b[39mview(\u001b[39m-\u001b[39m\u001b[39m1\u001b[39m))\n",
            "File \u001b[0;32m~/anaconda3/envs/ml_env/lib/python3.10/site-packages/torch/nn/modules/module.py:1130\u001b[0m, in \u001b[0;36mModule._call_impl\u001b[0;34m(self, *input, **kwargs)\u001b[0m\n\u001b[1;32m   1126\u001b[0m \u001b[39m# If we don't have any hooks, we want to skip the rest of the logic in\u001b[39;00m\n\u001b[1;32m   1127\u001b[0m \u001b[39m# this function, and just call forward.\u001b[39;00m\n\u001b[1;32m   1128\u001b[0m \u001b[39mif\u001b[39;00m \u001b[39mnot\u001b[39;00m (\u001b[39mself\u001b[39m\u001b[39m.\u001b[39m_backward_hooks \u001b[39mor\u001b[39;00m \u001b[39mself\u001b[39m\u001b[39m.\u001b[39m_forward_hooks \u001b[39mor\u001b[39;00m \u001b[39mself\u001b[39m\u001b[39m.\u001b[39m_forward_pre_hooks \u001b[39mor\u001b[39;00m _global_backward_hooks\n\u001b[1;32m   1129\u001b[0m         \u001b[39mor\u001b[39;00m _global_forward_hooks \u001b[39mor\u001b[39;00m _global_forward_pre_hooks):\n\u001b[0;32m-> 1130\u001b[0m     \u001b[39mreturn\u001b[39;00m forward_call(\u001b[39m*\u001b[39;49m\u001b[39minput\u001b[39;49m, \u001b[39m*\u001b[39;49m\u001b[39m*\u001b[39;49mkwargs)\n\u001b[1;32m   1131\u001b[0m \u001b[39m# Do not call functions when jit is used\u001b[39;00m\n\u001b[1;32m   1132\u001b[0m full_backward_hooks, non_full_backward_hooks \u001b[39m=\u001b[39m [], []\n",
            "Cell \u001b[0;32mIn [19], line 10\u001b[0m, in \u001b[0;36mCharRNNLoop.forward\u001b[0;34m(self, x)\u001b[0m\n\u001b[1;32m      8\u001b[0m \u001b[39mdef\u001b[39;00m \u001b[39mforward\u001b[39m(\u001b[39mself\u001b[39m, x):\n\u001b[1;32m      9\u001b[0m     \u001b[39massert\u001b[39;00m \u001b[39misinstance\u001b[39m(x\u001b[39m.\u001b[39mdata, torch\u001b[39m.\u001b[39mLongTensor)\n\u001b[0;32m---> 10\u001b[0m     h_seq, _ \u001b[39m=\u001b[39m \u001b[39mself\u001b[39m\u001b[39m.\u001b[39mrnn(\u001b[39mself\u001b[39;49m\u001b[39m.\u001b[39;49memb(x))\n\u001b[1;32m     11\u001b[0m     next_logits \u001b[39m=\u001b[39m \u001b[39mself\u001b[39m\u001b[39m.\u001b[39mhid_to_logits(h_seq)\n\u001b[1;32m     12\u001b[0m     next_logp \u001b[39m=\u001b[39m F\u001b[39m.\u001b[39mlog_softmax(next_logits, dim\u001b[39m=\u001b[39m\u001b[39m-\u001b[39m\u001b[39m1\u001b[39m)\n",
            "File \u001b[0;32m~/anaconda3/envs/ml_env/lib/python3.10/site-packages/torch/nn/modules/module.py:1130\u001b[0m, in \u001b[0;36mModule._call_impl\u001b[0;34m(self, *input, **kwargs)\u001b[0m\n\u001b[1;32m   1126\u001b[0m \u001b[39m# If we don't have any hooks, we want to skip the rest of the logic in\u001b[39;00m\n\u001b[1;32m   1127\u001b[0m \u001b[39m# this function, and just call forward.\u001b[39;00m\n\u001b[1;32m   1128\u001b[0m \u001b[39mif\u001b[39;00m \u001b[39mnot\u001b[39;00m (\u001b[39mself\u001b[39m\u001b[39m.\u001b[39m_backward_hooks \u001b[39mor\u001b[39;00m \u001b[39mself\u001b[39m\u001b[39m.\u001b[39m_forward_hooks \u001b[39mor\u001b[39;00m \u001b[39mself\u001b[39m\u001b[39m.\u001b[39m_forward_pre_hooks \u001b[39mor\u001b[39;00m _global_backward_hooks\n\u001b[1;32m   1129\u001b[0m         \u001b[39mor\u001b[39;00m _global_forward_hooks \u001b[39mor\u001b[39;00m _global_forward_pre_hooks):\n\u001b[0;32m-> 1130\u001b[0m     \u001b[39mreturn\u001b[39;00m forward_call(\u001b[39m*\u001b[39;49m\u001b[39minput\u001b[39;49m, \u001b[39m*\u001b[39;49m\u001b[39m*\u001b[39;49mkwargs)\n\u001b[1;32m   1131\u001b[0m \u001b[39m# Do not call functions when jit is used\u001b[39;00m\n\u001b[1;32m   1132\u001b[0m full_backward_hooks, non_full_backward_hooks \u001b[39m=\u001b[39m [], []\n",
            "File \u001b[0;32m~/anaconda3/envs/ml_env/lib/python3.10/site-packages/torch/nn/modules/sparse.py:158\u001b[0m, in \u001b[0;36mEmbedding.forward\u001b[0;34m(self, input)\u001b[0m\n\u001b[1;32m    157\u001b[0m \u001b[39mdef\u001b[39;00m \u001b[39mforward\u001b[39m(\u001b[39mself\u001b[39m, \u001b[39minput\u001b[39m: Tensor) \u001b[39m-\u001b[39m\u001b[39m>\u001b[39m Tensor:\n\u001b[0;32m--> 158\u001b[0m     \u001b[39mreturn\u001b[39;00m F\u001b[39m.\u001b[39;49membedding(\n\u001b[1;32m    159\u001b[0m         \u001b[39minput\u001b[39;49m, \u001b[39mself\u001b[39;49m\u001b[39m.\u001b[39;49mweight, \u001b[39mself\u001b[39;49m\u001b[39m.\u001b[39;49mpadding_idx, \u001b[39mself\u001b[39;49m\u001b[39m.\u001b[39;49mmax_norm,\n\u001b[1;32m    160\u001b[0m         \u001b[39mself\u001b[39;49m\u001b[39m.\u001b[39;49mnorm_type, \u001b[39mself\u001b[39;49m\u001b[39m.\u001b[39;49mscale_grad_by_freq, \u001b[39mself\u001b[39;49m\u001b[39m.\u001b[39;49msparse)\n",
            "File \u001b[0;32m~/anaconda3/envs/ml_env/lib/python3.10/site-packages/torch/nn/functional.py:2199\u001b[0m, in \u001b[0;36membedding\u001b[0;34m(input, weight, padding_idx, max_norm, norm_type, scale_grad_by_freq, sparse)\u001b[0m\n\u001b[1;32m   2193\u001b[0m     \u001b[39m# Note [embedding_renorm set_grad_enabled]\u001b[39;00m\n\u001b[1;32m   2194\u001b[0m     \u001b[39m# XXX: equivalent to\u001b[39;00m\n\u001b[1;32m   2195\u001b[0m     \u001b[39m# with torch.no_grad():\u001b[39;00m\n\u001b[1;32m   2196\u001b[0m     \u001b[39m#   torch.embedding_renorm_\u001b[39;00m\n\u001b[1;32m   2197\u001b[0m     \u001b[39m# remove once script supports set_grad_enabled\u001b[39;00m\n\u001b[1;32m   2198\u001b[0m     _no_grad_embedding_renorm_(weight, \u001b[39minput\u001b[39m, max_norm, norm_type)\n\u001b[0;32m-> 2199\u001b[0m \u001b[39mreturn\u001b[39;00m torch\u001b[39m.\u001b[39;49membedding(weight, \u001b[39minput\u001b[39;49m, padding_idx, scale_grad_by_freq, sparse)\n",
            "\u001b[0;31mIndexError\u001b[0m: index out of range in self"
          ]
        }
      ],
      "source": [
        "# the model applies over the whole sequence\n",
        "batch_ix = to_matrix(sample(names, 32), max_len=MAX_LENGTH)\n",
        "batch_ix = torch.LongTensor(batch_ix)\n",
        "\n",
        "logp_seq = model(batch_ix)\n",
        "\n",
        "# compute loss. \n",
        "loss = F.nll_loss(logp_seq[:, 1:].contiguous().view(-1, num_tokens), \n",
        "                  batch_ix[:, :-1].contiguous().view(-1))\n",
        "\n",
        "loss.backward()"
      ]
    },
    {
      "cell_type": "code",
      "execution_count": 1,
      "metadata": {
        "id": "J23VMguX7U-U"
      },
      "outputs": [],
      "source": [
        "# MAX_LENGTH = 16\n",
        "\n",
        "# for i in range(1000):\n",
        "#     batch_ix = to_matrix(sample(names, 32), max_len=MAX_LENGTH)\n",
        "#     batch_ix = torch.tensor(batch_ix, dtype=torch.int64)\n",
        "    \n",
        "#     logp_seq = model(batch_ix)\n",
        "    \n",
        "#     # compute loss\n",
        "#     #<YOUR CODE>\n",
        "#     predictions_logp = #<YOUR CODE>\n",
        "#     actual_next_tokens = #<YOUR CODE>\n",
        "\n",
        "#     loss = ###YOUR CODE\n",
        "    \n",
        "#     # train with backprop\n",
        "\n",
        "#     #<YOUR CODE>\n",
        "    \n",
        "#     history.append(loss.data.numpy())\n",
        "#     if (i+1)%100==0:\n",
        "#         clear_output(True)\n",
        "#         plt.plot(history,label='loss')\n",
        "#         plt.legend()\n",
        "#         plt.show()\n",
        "\n",
        "# assert np.mean(history[:10]) > np.mean(history[-10:]), \"RNN didn't converge.\""
      ]
    },
    {
      "cell_type": "markdown",
      "metadata": {
        "id": "loB6HpHR7U-U"
      },
      "source": [
        "### To sum up:\n",
        "- PyTorch is convenient both for prototyping and production\n",
        "- There are a lot of pre-implemented methods/layers/activations out of the box\n",
        "- It's much easier (*really easier*) to use PyTorch than TensorFlow on entry level. \n",
        "- Neural networks are not *black boxes*, they are pretty nice and easy to use (almost always)."
      ]
    },
    {
      "cell_type": "markdown",
      "metadata": {
        "id": "0PnRzymk7U-V"
      },
      "source": [
        "### Try it out!\n",
        "You've just implemented a recurrent language model that can be tasked with generating any kind of sequence, so there's plenty of data you can try it on:\n",
        "\n",
        "* Novels/poems/songs of your favorite author\n",
        "* News titles/clickbait titles\n",
        "* Source code of Linux or Tensorflow\n",
        "* Molecules in [smiles](https://en.wikipedia.org/wiki/Simplified_molecular-input_line-entry_system) format\n",
        "* Melody in notes/chords format\n",
        "* Ikea catalog titles\n",
        "* Pokemon names\n",
        "* Cards from Magic, the Gathering / Hearthstone\n",
        "\n",
        "If you're willing to give it a try, here's what you wanna look at:\n",
        "* Current data format is a sequence of lines, so a novel can be formatted as a list of sentences. Alternatively, you can change data preprocessing altogether.\n",
        "* While some datasets are readily available, others can only be scraped from the web. Try `Selenium` or `Scrapy` for that.\n",
        "* Make sure MAX_LENGTH is adjusted for longer datasets. There's also a bonus section about dynamic RNNs at the bottom.\n",
        "* More complex tasks require larger RNN architecture, try more neurons or several layers. It would also require more training iterations.\n",
        "* Long-term dependencies in music, novels or molecules are better handled with LSTM or GRU\n",
        "\n",
        "__Good hunting!__"
      ]
    }
  ],
  "metadata": {
    "colab": {
      "provenance": []
    },
    "kernelspec": {
      "display_name": "ml_env",
      "language": "python",
      "name": "python3"
    },
    "language_info": {
      "codemirror_mode": {
        "name": "ipython",
        "version": 3
      },
      "file_extension": ".py",
      "mimetype": "text/x-python",
      "name": "python",
      "nbconvert_exporter": "python",
      "pygments_lexer": "ipython3",
      "version": "3.10.4 (main, Mar 31 2022, 08:41:55) [GCC 7.5.0]"
    },
    "vscode": {
      "interpreter": {
        "hash": "fa07ad33c54a894ea7d24f3c1dad19cdf64ec61ab9d7a8aa3a6e4bc6596667f2"
      }
    }
  },
  "nbformat": 4,
  "nbformat_minor": 0
}
