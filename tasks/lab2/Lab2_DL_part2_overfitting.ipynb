{
  "cells": [
    {
      "attachments": {},
      "cell_type": "markdown",
      "metadata": {},
      "source": [
        "**Marfa Zakirova, B06-906a**"
      ]
    },
    {
      "cell_type": "markdown",
      "metadata": {
        "id": "NFmOh482SyEF"
      },
      "source": [
        "## Lab 2\n",
        "### Part 2: Dealing with overfitting"
      ]
    },
    {
      "cell_type": "markdown",
      "metadata": {
        "id": "AjzAuO3oSvsI"
      },
      "source": [
        "Today we work with [Fashion-MNIST dataset](https://github.com/zalandoresearch/fashion-mnist) (*hint: it is available in `torchvision`*).\n",
        "\n",
        "Your goal for today:\n",
        "1. Train a FC (fully-connected) network that achieves >= 0.885 test accuracy.\n",
        "2. Cause considerable overfitting by modifying the network (e.g. increasing the number of network parameters and/or layers) and demonstrate in in the appropriate way (e.g. plot loss and accurasy on train and validation set w.r.t. network complexity).\n",
        "3. Try to deal with overfitting (at least partially) by using regularization techniques (Dropout/Batchnorm/...) and demonstrate the results.\n",
        "\n",
        "__Please, write a small report describing your ideas, tries and achieved results in the end of this file.__\n",
        "\n",
        "*Note*: Tasks 2 and 3 are interrelated, in task 3 your goal is to make the network from task 2 less prone to overfitting. Task 1 is independent from 2 and 3.\n",
        "\n",
        "*Note 2*: We recomment to use Google Colab or other machine with GPU acceleration."
      ]
    },
    {
      "cell_type": "code",
      "execution_count": 85,
      "metadata": {
        "id": "_KBld6VOSwhW"
      },
      "outputs": [],
      "source": [
        "import torch\n",
        "import torch.nn as nn\n",
        "import torchvision\n",
        "import torchvision.transforms as transforms\n",
        "import torchsummary\n",
        "from IPython.display import clear_output\n",
        "from matplotlib import pyplot as plt\n",
        "from matplotlib.pyplot import figure\n",
        "import numpy as np\n",
        "import os\n",
        "\n",
        "from torch.utils.data import DataLoader, Subset\n",
        "\n",
        "device = 'cuda:0' if torch.cuda.is_available() else 'cpu'"
      ]
    },
    {
      "cell_type": "code",
      "execution_count": 86,
      "metadata": {
        "colab": {
          "base_uri": "https://localhost:8080/"
        },
        "id": "EdLOG0XqS_g5",
        "outputId": "25c53024-9157-42b1-9584-23c70ce4323b"
      },
      "outputs": [
        {
          "name": "stdout",
          "output_type": "stream",
          "text": [
            "Directory fmnist already exists!\n"
          ]
        }
      ],
      "source": [
        "# Technical function\n",
        "def mkdir(path):\n",
        "    if not os.path.exists(root_path):\n",
        "        os.mkdir(root_path)\n",
        "        print('Directory', path, 'is created!')\n",
        "    else:\n",
        "        print('Directory', path, 'already exists!')\n",
        "        \n",
        "root_path = 'fmnist'\n",
        "mkdir(root_path)"
      ]
    },
    {
      "cell_type": "code",
      "execution_count": 98,
      "metadata": {
        "id": "qt6LE7XaTDT9"
      },
      "outputs": [],
      "source": [
        "download = True\n",
        "train_transform = transforms.ToTensor()\n",
        "test_transform = transforms.ToTensor()\n",
        "transforms.Compose((transforms.ToTensor()))\n",
        "\n",
        "\n",
        "fmnist_dataset_train = torchvision.datasets.FashionMNIST(root_path, \n",
        "                                                        train=True, \n",
        "                                                        transform=train_transform,\n",
        "                                                        target_transform=None,\n",
        "                                                        download=download)\n",
        "fmnist_dataset_test = torchvision.datasets.FashionMNIST(root_path, \n",
        "                                                       train=False, \n",
        "                                                       transform=test_transform,\n",
        "                                                       target_transform=None,\n",
        "                                                       download=download)"
      ]
    },
    {
      "cell_type": "code",
      "execution_count": 99,
      "metadata": {
        "id": "H__d61-tE-Mn"
      },
      "outputs": [],
      "source": [
        "def subset_inds(dataset, ratio):\n",
        "  return np.random.choice(len(dataset), size = int(len(dataset) * ratio), replace = False)"
      ]
    },
    {
      "cell_type": "code",
      "execution_count": 101,
      "metadata": {
        "colab": {
          "base_uri": "https://localhost:8080/"
        },
        "id": "rzrZAdioUb-d",
        "outputId": "80f529d5-5707-47d9-d32f-d31b9f98d4ea"
      },
      "outputs": [
        {
          "data": {
            "text/plain": [
              "(12000,)"
            ]
          },
          "execution_count": 101,
          "metadata": {},
          "output_type": "execute_result"
        }
      ],
      "source": [
        "inds_val.shape"
      ]
    },
    {
      "cell_type": "code",
      "execution_count": 100,
      "metadata": {
        "colab": {
          "base_uri": "https://localhost:8080/"
        },
        "id": "OwEhAx-8EF_i",
        "outputId": "6a3016fc-4158-46f4-cd04-de4efc46d28d"
      },
      "outputs": [
        {
          "name": "stdout",
          "output_type": "stream",
          "text": [
            "Train set size: 48000\n",
            "Valisation set size: 9619\n"
          ]
        }
      ],
      "source": [
        "# i need validation set for validation \n",
        "\n",
        "inds_val = subset_inds(fmnist_dataset_train, 0.2)\n",
        "fmnist_dataset_train = Subset(fmnist_dataset_train, [i for i in range(len(fmnist_dataset_train)) if i not in inds_val])\n",
        "fmnist_dataset_valid = Subset(fmnist_dataset_train, [i for i in range(len(fmnist_dataset_train)) if i in inds_val])\n",
        "\n",
        "print(f'Train set size: {len(fmnist_dataset_train)}')\n",
        "print(f'Valisation set size: {len(fmnist_dataset_valid)}')"
      ]
    },
    {
      "cell_type": "code",
      "execution_count": 102,
      "metadata": {
        "id": "71YP0SPwTIxD"
      },
      "outputs": [],
      "source": [
        "train_loader = DataLoader(fmnist_dataset_train, \n",
        "                          batch_size=128,\n",
        "                          shuffle=True,\n",
        "                          num_workers=2)\n",
        "\n",
        "val_loader = DataLoader(fmnist_dataset_valid, \n",
        "                          batch_size=128,\n",
        "                          shuffle=True,\n",
        "                          num_workers=2)\n",
        "\n",
        "test_loader = DataLoader(fmnist_dataset_test,\n",
        "                          batch_size=256,\n",
        "                          shuffle=False,\n",
        "                          num_workers=2)"
      ]
    },
    {
      "cell_type": "code",
      "execution_count": 103,
      "metadata": {
        "colab": {
          "base_uri": "https://localhost:8080/"
        },
        "id": "v_YFmF7NTWrQ",
        "outputId": "9b354228-27c2-4a96-9b7e-f5447273dd27"
      },
      "outputs": [
        {
          "data": {
            "text/plain": [
              "10000"
            ]
          },
          "execution_count": 103,
          "metadata": {},
          "output_type": "execute_result"
        }
      ],
      "source": [
        "len(fmnist_dataset_test)"
      ]
    },
    {
      "cell_type": "code",
      "execution_count": 104,
      "metadata": {
        "colab": {
          "base_uri": "https://localhost:8080/"
        },
        "id": "aHca15bOTY4B",
        "outputId": "127e77f5-3782-4217-f2b2-2df53640c579"
      },
      "outputs": [
        {
          "name": "stdout",
          "output_type": "stream",
          "text": [
            "torch.Size([128, 1, 28, 28])\n",
            "torch.Size([128])\n",
            "128\n"
          ]
        }
      ],
      "source": [
        "for img, label in train_loader:\n",
        "    print(img.shape)\n",
        "    # print(img)\n",
        "    print(label.shape)\n",
        "    print(label.size(0))\n",
        "    break"
      ]
    },
    {
      "cell_type": "markdown",
      "metadata": {
        "id": "b6OOOffHTfX5"
      },
      "source": [
        "### Task 1\n",
        "Train a network that achieves $\\geq 0.885$ test accuracy. It's fine to use only Linear (`nn.Linear`) layers and activations/dropout/batchnorm. Convolutional layers might be a great use, but we will meet them a bit later."
      ]
    },
    {
      "cell_type": "code",
      "execution_count": 162,
      "metadata": {
        "id": "ftpkTjxlTcFx"
      },
      "outputs": [],
      "source": [
        "class TinyNeuralNetwork(nn.Module):\n",
        "    def __init__(self, input_shape=28*28, num_classes=10, input_channels=1):\n",
        "        super(self.__class__, self).__init__()\n",
        "        self.model = nn.Sequential(\n",
        "            nn.Flatten(), # This layer converts image into a vector to use Linear layers afterwards\n",
        "            # Your network structure comes here\n",
        "            nn.Linear(input_shape, 324),\n",
        "            nn.BatchNorm1d(324),\n",
        "            nn.ReLU(),\n",
        "            nn.Linear(324, 100),\n",
        "            nn.ReLU(),\n",
        "            nn.Linear(100, num_classes)\n",
        "        )\n",
        "        \n",
        "    def forward(self, inp):       \n",
        "        return self.model(inp)\n",
        "      "
      ]
    },
    {
      "cell_type": "code",
      "execution_count": 2,
      "metadata": {
        "colab": {
          "base_uri": "https://localhost:8080/"
        },
        "id": "HD7Ig86nADJT",
        "outputId": "005148d5-fb44-4a9f-8cc7-7025d9a45a09"
      },
      "outputs": [
        {
          "ename": "NameError",
          "evalue": "name 'TinyNeuralNetwork' is not defined",
          "output_type": "error",
          "traceback": [
            "\u001b[0;31m---------------------------------------------------------------------------\u001b[0m",
            "\u001b[0;31mNameError\u001b[0m                                 Traceback (most recent call last)",
            "Cell \u001b[0;32mIn [2], line 1\u001b[0m\n\u001b[0;32m----> 1\u001b[0m torchsummary\u001b[39m.\u001b[39msummary(TinyNeuralNetwork()\u001b[39m.\u001b[39mto(device), (\u001b[39m28\u001b[39m\u001b[39m*\u001b[39m\u001b[39m28\u001b[39m,))\n",
            "\u001b[0;31mNameError\u001b[0m: name 'TinyNeuralNetwork' is not defined"
          ]
        }
      ],
      "source": [
        "torchsummary.summary(TinyNeuralNetwork().to(device), (28*28,))"
      ]
    },
    {
      "cell_type": "markdown",
      "metadata": {
        "id": "544PGKEnjPr5"
      },
      "source": [
        "Your experiments come here:"
      ]
    },
    {
      "cell_type": "code",
      "execution_count": 120,
      "metadata": {
        "id": "ovOyb647DPTO"
      },
      "outputs": [],
      "source": [
        "# Your experiments, training and validation loops here\n",
        "\n",
        "def train_model(model, train_loader, val_loader, loss_fn, optimizer, n_epochs):\n",
        "    train_loss = []\n",
        "    val_loss = []\n",
        "    val_accuracy = []\n",
        "\n",
        "    for epoch in range(n_epochs):\n",
        "        ep_train_loss = []\n",
        "        ep_val_loss = []\n",
        "        ep_val_accuracy = []\n",
        "\n",
        "        model.train(True)\n",
        "        for x_batch, y_batch in train_loader:\n",
        "            optimizer.zero_grad()\n",
        "\n",
        "            x_batch = x_batch.to(device)\n",
        "            y_batch = y_batch.to(device)\n",
        "\n",
        "            predictions = model.forward(x_batch)\n",
        "            loss = loss_fn(predictions, y_batch)\n",
        "            loss.backward()\n",
        "\n",
        "            optimizer.step()\n",
        "\n",
        "            ep_train_loss.append(loss.item())\n",
        "        \n",
        "        model.train(False)\n",
        "        with torch.no_grad():\n",
        "            for x_batch, y_batch in val_loader:\n",
        "\n",
        "                x_batch = x_batch.to(device)\n",
        "                y_batch = y_batch.to(device)\n",
        "\n",
        "                predictions = model.forward(x_batch)\n",
        "                loss = loss_fn(predictions, y_batch)\n",
        "                ep_val_loss.append(loss.item())\n",
        "\n",
        "                y_pred = predictions.argmax(axis = 1)\n",
        "                ep_val_accuracy.append(np.mean((y_pred == y_batch).cpu().numpy()))\n",
        "        \n",
        "        train_loss.append(np.mean(ep_train_loss))\n",
        "        val_loss.append(np.mean(ep_val_loss))\n",
        "        val_accuracy.append(np.mean(ep_val_accuracy))\n",
        "        \n",
        "        print(f'Epoch #{epoch+1} / {n_epochs}')\n",
        "        print(f'train loss: {np.round(train_loss[-1], 5)}')\n",
        "        print(f'validation loss: {np.round(val_loss[-1], 5)}')\n",
        "        print(f'validation accuracy: {np.round(val_accuracy[-1], 5)}', '\\n')\n",
        "\n",
        "    return train_loss, val_loss, val_accuracy\n"
      ]
    },
    {
      "cell_type": "code",
      "execution_count": 154,
      "metadata": {
        "id": "b5PoOYhPWNqS"
      },
      "outputs": [],
      "source": [
        "def plot_train_process(train_loss, val_loss, val_accuracy):\n",
        "  fig, axes = plt.subplots(1,2, figsize = (20,6))\n",
        "  axes[0].set_title('Loss')\n",
        "  axes[0].set_xlabel('# epochs')\n",
        "  axes[0].set_ylabel('loss value')\n",
        "  axes[0].plot(train_loss,label='train')\n",
        "  axes[0].plot(val_loss,label='validation')\n",
        "  axes[0].legend()\n",
        "  axes[0].grid(which = 'major')\n",
        "\n",
        "  axes[1].set_title('Validation accuracy')\n",
        "  axes[1].plot(val_accuracy)\n",
        "  axes[1].set_xlabel('# epochs')\n",
        "  axes[1].set_ylabel('accuracy value')\n",
        "  axes[1].grid(which = 'major')\n",
        "\n",
        "def accuracy_test(model, test_loader):\n",
        "  model.train(False)\n",
        "  y_predictions = np.array([])\n",
        "  y_label = np.array([])\n",
        "  with torch.no_grad():\n",
        "      for x_batch, y_batch in test_loader:\n",
        "          x_batch = x_batch.to(device)\n",
        "\n",
        "          predictions = model.forward(x_batch).cpu()\n",
        "          y_pred = predictions.argmax(axis = 1)\n",
        "\n",
        "          y_predictions = np.concatenate((y_predictions, y_pred.numpy()))\n",
        "          y_label = np.concatenate((y_label, y_batch.cpu()))\n",
        "\n",
        "  print(f\"Accuracy on test set: {np.round(np.mean(y_label == y_predictions),5)}\")"
      ]
    },
    {
      "cell_type": "code",
      "execution_count": 164,
      "metadata": {
        "colab": {
          "base_uri": "https://localhost:8080/"
        },
        "id": "i3POFj90Ti-6",
        "outputId": "0f5cf6a9-ffcd-4c1d-e5bf-119f1f53160c"
      },
      "outputs": [
        {
          "name": "stdout",
          "output_type": "stream",
          "text": [
            "Epoch #1 / 30\n",
            "train loss: 0.58178\n",
            "validation loss: 0.39068\n",
            "validation accuracy: 0.85696 \n",
            "\n",
            "Epoch #2 / 30\n",
            "train loss: 0.35883\n",
            "validation loss: 0.3226\n",
            "validation accuracy: 0.88035 \n",
            "\n",
            "Epoch #3 / 30\n",
            "train loss: 0.31685\n",
            "validation loss: 0.28856\n",
            "validation accuracy: 0.89487 \n",
            "\n",
            "Epoch #4 / 30\n",
            "train loss: 0.28767\n",
            "validation loss: 0.30473\n",
            "validation accuracy: 0.88557 \n",
            "\n",
            "Epoch #5 / 30\n",
            "train loss: 0.2636\n",
            "validation loss: 0.30647\n",
            "validation accuracy: 0.88112 \n",
            "\n",
            "Epoch #6 / 30\n",
            "train loss: 0.2466\n",
            "validation loss: 0.21927\n",
            "validation accuracy: 0.91926 \n",
            "\n",
            "Epoch #7 / 30\n",
            "train loss: 0.22772\n",
            "validation loss: 0.22861\n",
            "validation accuracy: 0.91368 \n",
            "\n",
            "Epoch #8 / 30\n",
            "train loss: 0.21588\n",
            "validation loss: 0.20239\n",
            "validation accuracy: 0.92499 \n",
            "\n",
            "Epoch #9 / 30\n",
            "train loss: 0.2015\n",
            "validation loss: 0.19041\n",
            "validation accuracy: 0.93095 \n",
            "\n",
            "Epoch #10 / 30\n",
            "train loss: 0.18851\n",
            "validation loss: 0.17095\n",
            "validation accuracy: 0.93956 \n",
            "\n",
            "Epoch #11 / 30\n",
            "train loss: 0.1755\n",
            "validation loss: 0.20924\n",
            "validation accuracy: 0.92129 \n",
            "\n",
            "Epoch #12 / 30\n",
            "train loss: 0.16585\n",
            "validation loss: 0.15498\n",
            "validation accuracy: 0.94562 \n",
            "\n",
            "Epoch #13 / 30\n",
            "train loss: 0.15454\n",
            "validation loss: 0.17054\n",
            "validation accuracy: 0.93611 \n",
            "\n",
            "Epoch #14 / 30\n",
            "train loss: 0.14603\n",
            "validation loss: 0.18572\n",
            "validation accuracy: 0.93146 \n",
            "\n",
            "Epoch #15 / 30\n",
            "train loss: 0.14028\n",
            "validation loss: 0.12597\n",
            "validation accuracy: 0.95593 \n",
            "\n",
            "Epoch #16 / 30\n",
            "train loss: 0.13228\n",
            "validation loss: 0.13773\n",
            "validation accuracy: 0.94822 \n",
            "\n",
            "Epoch #17 / 30\n",
            "train loss: 0.12198\n",
            "validation loss: 0.14745\n",
            "validation accuracy: 0.94521 \n",
            "\n",
            "Epoch #18 / 30\n",
            "train loss: 0.11486\n",
            "validation loss: 0.11281\n",
            "validation accuracy: 0.95611 \n",
            "\n",
            "Epoch #19 / 30\n",
            "train loss: 0.1085\n",
            "validation loss: 0.1199\n",
            "validation accuracy: 0.95446 \n",
            "\n",
            "Epoch #20 / 30\n",
            "train loss: 0.10485\n",
            "validation loss: 0.11956\n",
            "validation accuracy: 0.95485 \n",
            "\n",
            "Epoch #21 / 30\n",
            "train loss: 0.09909\n",
            "validation loss: 0.10971\n",
            "validation accuracy: 0.95981 \n",
            "\n",
            "Epoch #22 / 30\n",
            "train loss: 0.08949\n",
            "validation loss: 0.11787\n",
            "validation accuracy: 0.95796 \n",
            "\n",
            "Epoch #23 / 30\n",
            "train loss: 0.08826\n",
            "validation loss: 0.1\n",
            "validation accuracy: 0.96569 \n",
            "\n",
            "Epoch #24 / 30\n",
            "train loss: 0.08621\n",
            "validation loss: 0.10734\n",
            "validation accuracy: 0.95953 \n",
            "\n",
            "Epoch #25 / 30\n",
            "train loss: 0.07798\n",
            "validation loss: 0.08463\n",
            "validation accuracy: 0.96623 \n",
            "\n",
            "Epoch #26 / 30\n",
            "train loss: 0.0774\n",
            "validation loss: 0.08433\n",
            "validation accuracy: 0.96713 \n",
            "\n",
            "Epoch #27 / 30\n",
            "train loss: 0.07224\n",
            "validation loss: 0.1568\n",
            "validation accuracy: 0.94637 \n",
            "\n",
            "Epoch #28 / 30\n",
            "train loss: 0.07238\n",
            "validation loss: 0.09531\n",
            "validation accuracy: 0.96454 \n",
            "\n",
            "Epoch #29 / 30\n",
            "train loss: 0.06555\n",
            "validation loss: 0.06917\n",
            "validation accuracy: 0.97649 \n",
            "\n",
            "Epoch #30 / 30\n",
            "train loss: 0.06396\n",
            "validation loss: 0.08135\n",
            "validation accuracy: 0.97001 \n",
            "\n"
          ]
        }
      ],
      "source": [
        "tiny_model = TinyNeuralNetwork()\n",
        "tiny_model = tiny_model.to(device)\n",
        "\n",
        "# YOUR CODE HERE\n",
        "loss_func = nn.CrossEntropyLoss()\n",
        "optim = torch.optim.Adam(tiny_model.parameters(), lr = 3e-4)    \n",
        "\n",
        "train_loss_tiny, val_loss_tiny, val_accuracy_tiny = train_model(tiny_model, train_loader, val_loader, loss_fn = loss_func, optimizer = optim, n_epochs = 30)"
      ]
    },
    {
      "cell_type": "code",
      "execution_count": 165,
      "metadata": {
        "colab": {
          "base_uri": "https://localhost:8080/",
          "height": 404
        },
        "id": "Ne_CsSpWX_Ja",
        "outputId": "fd91d097-1564-49ad-bf54-6730ffb17e50"
      },
      "outputs": [
        {
          "data": {
            "image/png": "[encoded data removed]",
            "text/plain": [
              "<Figure size 1440x432 with 2 Axes>"
            ]
          },
          "metadata": {
            "needs_background": "light"
          },
          "output_type": "display_data"
        }
      ],
      "source": [
        "plot_train_process(train_loss_tiny, val_loss_tiny, val_accuracy_tiny)"
      ]
    },
    {
      "cell_type": "code",
      "execution_count": 166,
      "metadata": {
        "colab": {
          "base_uri": "https://localhost:8080/"
        },
        "id": "GZhOFiqhbmaS",
        "outputId": "d95cf63f-fcf0-4e95-e212-9e4c29c622a8"
      },
      "outputs": [
        {
          "name": "stdout",
          "output_type": "stream",
          "text": [
            "Accuracy on test set: 0.8794\n"
          ]
        }
      ],
      "source": [
        "accuracy_test(tiny_model, test_loader)"
      ]
    },
    {
      "cell_type": "markdown",
      "metadata": {
        "id": "L7ISqkjmCPB1"
      },
      "source": [
        "### Task 2: Overfit it.\n",
        "Build a network that will overfit to this dataset. Demonstrate the overfitting in the appropriate way (e.g. plot loss and accurasy on train and test set w.r.t. network complexity).\n",
        "\n",
        "*Note:* you also might decrease the size of `train` dataset to enforce the overfitting and speed up the computations."
      ]
    },
    {
      "cell_type": "code",
      "execution_count": 177,
      "metadata": {
        "colab": {
          "base_uri": "https://localhost:8080/"
        },
        "id": "02D2sAxdhazX",
        "outputId": "37e68ab4-5618-48df-ca3f-bc4c32682391"
      },
      "outputs": [
        {
          "name": "stdout",
          "output_type": "stream",
          "text": [
            "Train set size: 24000\n",
            "Valisation set size: 24000\n"
          ]
        }
      ],
      "source": [
        "# let's reduce the size of train dataset\n",
        "inds_val_overfit = subset_inds(fmnist_dataset_train, 0.5)\n",
        "fmnist_dataset_train_overfit = Subset(fmnist_dataset_train, [i for i in range(len(fmnist_dataset_train)) if i not in inds_val_overfit])\n",
        "fmnist_dataset_valid_overfit = Subset(fmnist_dataset_train, [i for i in range(len(fmnist_dataset_train)) if i in inds_val_overfit])\n",
        "\n",
        "print(f'Train set size: {len(fmnist_dataset_train_overfit)}')\n",
        "print(f'Valisation set size: {len(fmnist_dataset_valid_overfit)}')\n",
        "\n",
        "train_loader_overfit = DataLoader(fmnist_dataset_train_overfit, \n",
        "                          batch_size=128,\n",
        "                          shuffle=True,\n",
        "                          num_workers=2)\n",
        "\n",
        "val_loader_overfit = DataLoader(fmnist_dataset_valid_overfit, \n",
        "                          batch_size=128,\n",
        "                          shuffle=True,\n",
        "                          num_workers=2)\n",
        "\n",
        "test_loader_overfit = DataLoader(fmnist_dataset_test,\n",
        "                          batch_size=256,\n",
        "                          shuffle=False,\n",
        "                          num_workers=2)"
      ]
    },
    {
      "cell_type": "code",
      "execution_count": 167,
      "metadata": {
        "id": "H12uAWiGBwJx"
      },
      "outputs": [],
      "source": [
        "class OverfittingNeuralNetwork(nn.Module):\n",
        "    def __init__(self, input_shape=28*28, num_classes=10, input_channels=1):\n",
        "        super(self.__class__, self).__init__()\n",
        "        self.model = nn.Sequential(\n",
        "            nn.Flatten(), # This layer converts image into a vector to use Linear layers afterwards\n",
        "            # Your network structure comes here\n",
        "            nn.Linear(input_shape, input_shape),\n",
        "            nn.ReLU(),\n",
        "            nn.Linear(input_shape, 500),\n",
        "            nn.ReLU(),\n",
        "            nn.Linear(500, 500),\n",
        "            nn.ELU(),\n",
        "            nn.Linear(500, 500),\n",
        "            nn.ELU(),\n",
        "            nn.Linear(500, 324),\n",
        "            nn.ReLU(),\n",
        "            nn.Linear(324, 100),\n",
        "            nn.ReLU(),\n",
        "            nn.Linear(100, num_classes)\n",
        "        )\n",
        "        \n",
        "    def forward(self, inp):       \n",
        "        out = self.model(inp)\n",
        "        return out"
      ]
    },
    {
      "cell_type": "code",
      "execution_count": 168,
      "metadata": {
        "colab": {
          "base_uri": "https://localhost:8080/"
        },
        "id": "JgXAKCpvCwqH",
        "outputId": "027381c3-f3de-48e5-8bdc-76e5add895bf"
      },
      "outputs": [
        {
          "name": "stdout",
          "output_type": "stream",
          "text": [
            "----------------------------------------------------------------\n",
            "        Layer (type)               Output Shape         Param #\n",
            "================================================================\n",
            "           Flatten-1                  [-1, 784]               0\n",
            "            Linear-2                  [-1, 784]         615,440\n",
            "              ReLU-3                  [-1, 784]               0\n",
            "            Linear-4                  [-1, 500]         392,500\n",
            "              ReLU-5                  [-1, 500]               0\n",
            "            Linear-6                  [-1, 500]         250,500\n",
            "               ELU-7                  [-1, 500]               0\n",
            "            Linear-8                  [-1, 500]         250,500\n",
            "               ELU-9                  [-1, 500]               0\n",
            "           Linear-10                  [-1, 324]         162,324\n",
            "             ReLU-11                  [-1, 324]               0\n",
            "           Linear-12                  [-1, 100]          32,500\n",
            "             ReLU-13                  [-1, 100]               0\n",
            "           Linear-14                   [-1, 10]           1,010\n",
            "================================================================\n",
            "Total params: 1,704,774\n",
            "Trainable params: 1,704,774\n",
            "Non-trainable params: 0\n",
            "----------------------------------------------------------------\n",
            "Input size (MB): 0.00\n",
            "Forward/backward pass size (MB): 0.05\n",
            "Params size (MB): 6.50\n",
            "Estimated Total Size (MB): 6.55\n",
            "----------------------------------------------------------------\n"
          ]
        }
      ],
      "source": [
        "torchsummary.summary(OverfittingNeuralNetwork().to(device), (28*28,))"
      ]
    },
    {
      "cell_type": "code",
      "execution_count": 178,
      "metadata": {
        "colab": {
          "base_uri": "https://localhost:8080/"
        },
        "id": "EmRTP4qsADJV",
        "outputId": "9f06b879-a1aa-4a17-ca6b-4b1625af895e"
      },
      "outputs": [
        {
          "name": "stdout",
          "output_type": "stream",
          "text": [
            "Epoch #1 / 30\n",
            "train loss: 0.86852\n",
            "validation loss: 0.54289\n",
            "validation accuracy: 0.80839 \n",
            "\n",
            "Epoch #2 / 30\n",
            "train loss: 0.517\n",
            "validation loss: 0.50561\n",
            "validation accuracy: 0.81753 \n",
            "\n",
            "Epoch #3 / 30\n",
            "train loss: 0.45623\n",
            "validation loss: 0.44117\n",
            "validation accuracy: 0.84134 \n",
            "\n",
            "Epoch #4 / 30\n",
            "train loss: 0.40064\n",
            "validation loss: 0.41715\n",
            "validation accuracy: 0.8487 \n",
            "\n",
            "Epoch #5 / 30\n",
            "train loss: 0.37131\n",
            "validation loss: 0.3832\n",
            "validation accuracy: 0.8627 \n",
            "\n",
            "Epoch #6 / 30\n",
            "train loss: 0.34314\n",
            "validation loss: 0.38177\n",
            "validation accuracy: 0.86669 \n",
            "\n",
            "Epoch #7 / 30\n",
            "train loss: 0.32846\n",
            "validation loss: 0.3761\n",
            "validation accuracy: 0.86378 \n",
            "\n",
            "Epoch #8 / 30\n",
            "train loss: 0.30775\n",
            "validation loss: 0.36661\n",
            "validation accuracy: 0.86843 \n",
            "\n",
            "Epoch #9 / 30\n",
            "train loss: 0.29901\n",
            "validation loss: 0.35462\n",
            "validation accuracy: 0.87247 \n",
            "\n",
            "Epoch #10 / 30\n",
            "train loss: 0.27976\n",
            "validation loss: 0.34322\n",
            "validation accuracy: 0.87579 \n",
            "\n",
            "Epoch #11 / 30\n",
            "train loss: 0.26509\n",
            "validation loss: 0.35318\n",
            "validation accuracy: 0.87192 \n",
            "\n",
            "Epoch #12 / 30\n",
            "train loss: 0.25014\n",
            "validation loss: 0.37397\n",
            "validation accuracy: 0.87276 \n",
            "\n",
            "Epoch #13 / 30\n",
            "train loss: 0.2428\n",
            "validation loss: 0.35633\n",
            "validation accuracy: 0.87928 \n",
            "\n",
            "Epoch #14 / 30\n",
            "train loss: 0.23388\n",
            "validation loss: 0.37226\n",
            "validation accuracy: 0.87155 \n",
            "\n",
            "Epoch #15 / 30\n",
            "train loss: 0.22793\n",
            "validation loss: 0.37319\n",
            "validation accuracy: 0.86981 \n",
            "\n",
            "Epoch #16 / 30\n",
            "train loss: 0.2159\n",
            "validation loss: 0.35672\n",
            "validation accuracy: 0.87907 \n",
            "\n",
            "Epoch #17 / 30\n",
            "train loss: 0.20672\n",
            "validation loss: 0.37186\n",
            "validation accuracy: 0.87404 \n",
            "\n",
            "Epoch #18 / 30\n",
            "train loss: 0.19841\n",
            "validation loss: 0.3597\n",
            "validation accuracy: 0.88119 \n",
            "\n",
            "Epoch #19 / 30\n",
            "train loss: 0.19889\n",
            "validation loss: 0.36948\n",
            "validation accuracy: 0.88294 \n",
            "\n",
            "Epoch #20 / 30\n",
            "train loss: 0.18431\n",
            "validation loss: 0.40429\n",
            "validation accuracy: 0.8777 \n",
            "\n",
            "Epoch #21 / 30\n",
            "train loss: 0.17486\n",
            "validation loss: 0.39311\n",
            "validation accuracy: 0.87907 \n",
            "\n",
            "Epoch #22 / 30\n",
            "train loss: 0.16556\n",
            "validation loss: 0.42255\n",
            "validation accuracy: 0.87039 \n",
            "\n",
            "Epoch #23 / 30\n",
            "train loss: 0.16311\n",
            "validation loss: 0.44335\n",
            "validation accuracy: 0.8644 \n",
            "\n",
            "Epoch #24 / 30\n",
            "train loss: 0.16844\n",
            "validation loss: 0.43034\n",
            "validation accuracy: 0.87276 \n",
            "\n",
            "Epoch #25 / 30\n",
            "train loss: 0.15501\n",
            "validation loss: 0.40127\n",
            "validation accuracy: 0.88082 \n",
            "\n",
            "Epoch #26 / 30\n",
            "train loss: 0.14471\n",
            "validation loss: 0.4037\n",
            "validation accuracy: 0.87891 \n",
            "\n",
            "Epoch #27 / 30\n",
            "train loss: 0.14628\n",
            "validation loss: 0.42287\n",
            "validation accuracy: 0.87832 \n",
            "\n",
            "Epoch #28 / 30\n",
            "train loss: 0.14744\n",
            "validation loss: 0.4249\n",
            "validation accuracy: 0.87666 \n",
            "\n",
            "Epoch #29 / 30\n",
            "train loss: 0.13001\n",
            "validation loss: 0.44779\n",
            "validation accuracy: 0.87924 \n",
            "\n",
            "Epoch #30 / 30\n",
            "train loss: 0.1275\n",
            "validation loss: 0.41435\n",
            "validation accuracy: 0.88348 \n",
            "\n"
          ]
        }
      ],
      "source": [
        "model_overfit = OverfittingNeuralNetwork().to(device)\n",
        "\n",
        "oss_func = nn.CrossEntropyLoss()\n",
        "optim = torch.optim.Adam(model_overfit.parameters(), lr = 3e-4)  \n",
        "\n",
        "# Your experiments, come here\n",
        "\n",
        "train_loss_overfit, val_loss_overfir, val_accuracy_overfit = train_model(model_overfit, train_loader_overfit, val_loader_overfit, loss_fn = loss_func, optimizer = optim, n_epochs = 30)"
      ]
    },
    {
      "cell_type": "code",
      "execution_count": 179,
      "metadata": {
        "colab": {
          "base_uri": "https://localhost:8080/",
          "height": 404
        },
        "id": "ZViLuXM-bxIV",
        "outputId": "649a06b5-228a-400d-8da3-792b346a9f57"
      },
      "outputs": [
        {
          "data": {
            "image/png": "[encoded data removed]",
            "text/plain": [
              "<Figure size 1440x432 with 2 Axes>"
            ]
          },
          "metadata": {
            "needs_background": "light"
          },
          "output_type": "display_data"
        }
      ],
      "source": [
        "plot_train_process(train_loss_overfit, val_loss_overfir, val_accuracy_overfit)"
      ]
    },
    {
      "cell_type": "code",
      "execution_count": 180,
      "metadata": {
        "colab": {
          "base_uri": "https://localhost:8080/"
        },
        "id": "Dhok1PTbbxl3",
        "outputId": "c960c2eb-4c98-4662-9a3b-5b5fb9c45f57"
      },
      "outputs": [
        {
          "name": "stdout",
          "output_type": "stream",
          "text": [
            "Accuracy on test set: 0.875\n"
          ]
        }
      ],
      "source": [
        "accuracy_test(model_overfit, test_loader_overfit)"
      ]
    },
    {
      "cell_type": "markdown",
      "metadata": {
        "id": "Fw6du_txADJV"
      },
      "source": [
        "### Task 3: Fix it.\n",
        "Fix the overfitted network from the previous step (at least partially) by using regularization techniques (Dropout/Batchnorm/...) and demonstrate the results. "
      ]
    },
    {
      "cell_type": "code",
      "execution_count": 181,
      "metadata": {
        "id": "J3DyxVhof1V3"
      },
      "outputs": [],
      "source": [
        "class FixedNeuralNetwork(nn.Module):\n",
        "    def __init__(self, input_shape=28*28, num_classes=10, input_channels=1):\n",
        "        super(self.__class__, self).__init__()\n",
        "\n",
        "        self.model = nn.Sequential(\n",
        "            nn.Flatten(), # This layer converts image into a vector to use Linear layers afterwards\n",
        "            # Your network structure comes here\n",
        "            nn.Linear(input_shape, input_shape),\n",
        "            nn.ReLU(),\n",
        "            nn.Linear(input_shape, 500),\n",
        "            nn.BatchNorm1d(500),\n",
        "            nn.ReLU(),\n",
        "            nn.Linear(500, 500),\n",
        "            nn.ELU(),\n",
        "            nn.Linear(500, 500),\n",
        "            nn.BatchNorm1d(500),\n",
        "            nn.ELU(),\n",
        "            nn.Linear(500, 324),\n",
        "            nn.ReLU(),\n",
        "            nn.Linear(324, 100),\n",
        "            nn.BatchNorm1d(100),\n",
        "            nn.ReLU(),\n",
        "            nn.Dropout(),\n",
        "            nn.Linear(100, num_classes)\n",
        "        )\n",
        "    def forward(self, inp):       \n",
        "        out = self.model(inp)\n",
        "        return out"
      ]
    },
    {
      "cell_type": "code",
      "execution_count": 182,
      "metadata": {
        "colab": {
          "base_uri": "https://localhost:8080/"
        },
        "id": "eUw1-_pQADJV",
        "outputId": "370d3b92-c586-4d46-c5c2-939673c3349c"
      },
      "outputs": [
        {
          "name": "stdout",
          "output_type": "stream",
          "text": [
            "----------------------------------------------------------------\n",
            "        Layer (type)               Output Shape         Param #\n",
            "================================================================\n",
            "           Flatten-1                  [-1, 784]               0\n",
            "            Linear-2                  [-1, 784]         615,440\n",
            "              ReLU-3                  [-1, 784]               0\n",
            "            Linear-4                  [-1, 500]         392,500\n",
            "       BatchNorm1d-5                  [-1, 500]           1,000\n",
            "              ReLU-6                  [-1, 500]               0\n",
            "            Linear-7                  [-1, 500]         250,500\n",
            "               ELU-8                  [-1, 500]               0\n",
            "            Linear-9                  [-1, 500]         250,500\n",
            "      BatchNorm1d-10                  [-1, 500]           1,000\n",
            "              ELU-11                  [-1, 500]               0\n",
            "           Linear-12                  [-1, 324]         162,324\n",
            "             ReLU-13                  [-1, 324]               0\n",
            "           Linear-14                  [-1, 100]          32,500\n",
            "      BatchNorm1d-15                  [-1, 100]             200\n",
            "             ReLU-16                  [-1, 100]               0\n",
            "          Dropout-17                  [-1, 100]               0\n",
            "           Linear-18                   [-1, 10]           1,010\n",
            "================================================================\n",
            "Total params: 1,706,974\n",
            "Trainable params: 1,706,974\n",
            "Non-trainable params: 0\n",
            "----------------------------------------------------------------\n",
            "Input size (MB): 0.00\n",
            "Forward/backward pass size (MB): 0.06\n",
            "Params size (MB): 6.51\n",
            "Estimated Total Size (MB): 6.57\n",
            "----------------------------------------------------------------\n"
          ]
        }
      ],
      "source": [
        "torchsummary.summary(FixedNeuralNetwork().to(device), (28*28,))"
      ]
    },
    {
      "cell_type": "code",
      "execution_count": 183,
      "metadata": {
        "colab": {
          "base_uri": "https://localhost:8080/"
        },
        "id": "MA5NVIEPADJW",
        "outputId": "1930f260-c36e-4c05-9fac-0f861b71ed78"
      },
      "outputs": [
        {
          "name": "stdout",
          "output_type": "stream",
          "text": [
            "Epoch #1 / 30\n",
            "train loss: 0.61855\n",
            "validation loss: 0.43484\n",
            "validation accuracy: 0.84519 \n",
            "\n",
            "Epoch #2 / 30\n",
            "train loss: 0.40805\n",
            "validation loss: 0.3494\n",
            "validation accuracy: 0.87141 \n",
            "\n",
            "Epoch #3 / 30\n",
            "train loss: 0.36125\n",
            "validation loss: 0.28708\n",
            "validation accuracy: 0.89463 \n",
            "\n",
            "Epoch #4 / 30\n",
            "train loss: 0.33052\n",
            "validation loss: 0.27761\n",
            "validation accuracy: 0.89528 \n",
            "\n",
            "Epoch #5 / 30\n",
            "train loss: 0.30328\n",
            "validation loss: 0.2855\n",
            "validation accuracy: 0.89456 \n",
            "\n",
            "Epoch #6 / 30\n",
            "train loss: 0.28859\n",
            "validation loss: 0.24637\n",
            "validation accuracy: 0.90759 \n",
            "\n",
            "Epoch #7 / 30\n",
            "train loss: 0.26946\n",
            "validation loss: 0.23205\n",
            "validation accuracy: 0.91327 \n",
            "\n",
            "Epoch #8 / 30\n",
            "train loss: 0.25662\n",
            "validation loss: 0.2218\n",
            "validation accuracy: 0.91717 \n",
            "\n",
            "Epoch #9 / 30\n",
            "train loss: 0.24316\n",
            "validation loss: 0.21762\n",
            "validation accuracy: 0.91748 \n",
            "\n",
            "Epoch #10 / 30\n",
            "train loss: 0.23715\n",
            "validation loss: 0.22297\n",
            "validation accuracy: 0.9135 \n",
            "\n",
            "Epoch #11 / 30\n",
            "train loss: 0.2225\n",
            "validation loss: 0.22359\n",
            "validation accuracy: 0.91813 \n",
            "\n",
            "Epoch #12 / 30\n",
            "train loss: 0.21445\n",
            "validation loss: 0.19804\n",
            "validation accuracy: 0.92792 \n",
            "\n",
            "Epoch #13 / 30\n",
            "train loss: 0.20372\n",
            "validation loss: 0.17999\n",
            "validation accuracy: 0.92861 \n",
            "\n",
            "Epoch #14 / 30\n",
            "train loss: 0.19072\n",
            "validation loss: 0.26742\n",
            "validation accuracy: 0.89988 \n",
            "\n",
            "Epoch #15 / 30\n",
            "train loss: 0.18824\n",
            "validation loss: 0.15958\n",
            "validation accuracy: 0.93812 \n",
            "\n",
            "Epoch #16 / 30\n",
            "train loss: 0.18161\n",
            "validation loss: 0.16457\n",
            "validation accuracy: 0.93814 \n",
            "\n",
            "Epoch #17 / 30\n",
            "train loss: 0.16903\n",
            "validation loss: 0.16886\n",
            "validation accuracy: 0.93791 \n",
            "\n",
            "Epoch #18 / 30\n",
            "train loss: 0.16308\n",
            "validation loss: 0.14786\n",
            "validation accuracy: 0.94202 \n",
            "\n",
            "Epoch #19 / 30\n",
            "train loss: 0.15799\n",
            "validation loss: 0.14303\n",
            "validation accuracy: 0.94606 \n",
            "\n",
            "Epoch #20 / 30\n",
            "train loss: 0.15437\n",
            "validation loss: 0.13517\n",
            "validation accuracy: 0.95033 \n",
            "\n",
            "Epoch #21 / 30\n",
            "train loss: 0.14923\n",
            "validation loss: 0.13956\n",
            "validation accuracy: 0.94356 \n",
            "\n",
            "Epoch #22 / 30\n",
            "train loss: 0.14594\n",
            "validation loss: 0.11573\n",
            "validation accuracy: 0.95356 \n",
            "\n",
            "Epoch #23 / 30\n",
            "train loss: 0.13146\n",
            "validation loss: 0.10454\n",
            "validation accuracy: 0.95819 \n",
            "\n",
            "Epoch #24 / 30\n",
            "train loss: 0.13479\n",
            "validation loss: 0.12041\n",
            "validation accuracy: 0.9549 \n",
            "\n",
            "Epoch #25 / 30\n",
            "train loss: 0.12164\n",
            "validation loss: 0.14227\n",
            "validation accuracy: 0.94868 \n",
            "\n",
            "Epoch #26 / 30\n",
            "train loss: 0.12404\n",
            "validation loss: 0.10319\n",
            "validation accuracy: 0.95873 \n",
            "\n",
            "Epoch #27 / 30\n",
            "train loss: 0.1161\n",
            "validation loss: 0.12097\n",
            "validation accuracy: 0.95441 \n",
            "\n",
            "Epoch #28 / 30\n",
            "train loss: 0.11625\n",
            "validation loss: 0.10274\n",
            "validation accuracy: 0.96066 \n",
            "\n",
            "Epoch #29 / 30\n",
            "train loss: 0.10964\n",
            "validation loss: 0.08634\n",
            "validation accuracy: 0.96721 \n",
            "\n",
            "Epoch #30 / 30\n",
            "train loss: 0.1045\n",
            "validation loss: 0.09049\n",
            "validation accuracy: 0.96731 \n",
            "\n"
          ]
        }
      ],
      "source": [
        "fixed_model = FixedNeuralNetwork().to(device)\n",
        "\n",
        "loss_func = nn.CrossEntropyLoss()\n",
        "optim = torch.optim.Adam(fixed_model.parameters(), lr = 3e-4)  \n",
        "\n",
        "# Your experiments, come here\n",
        "\n",
        "train_loss_fixed, val_loss_fixed, val_accuracy_fixed = train_model(fixed_model, train_loader, val_loader, loss_fn = loss_func, optimizer = optim, n_epochs = 30)"
      ]
    },
    {
      "cell_type": "code",
      "execution_count": 184,
      "metadata": {
        "colab": {
          "base_uri": "https://localhost:8080/",
          "height": 404
        },
        "id": "qL3skiUDf6k1",
        "outputId": "20d69ffb-c417-42be-ac0e-2cedf6932f6a"
      },
      "outputs": [
        {
          "data": {
            "image/png": "[encoded data removed]",
            "text/plain": [
              "<Figure size 1440x432 with 2 Axes>"
            ]
          },
          "metadata": {
            "needs_background": "light"
          },
          "output_type": "display_data"
        }
      ],
      "source": [
        "plot_train_process(train_loss_fixed, val_loss_fixed, val_accuracy_fixed)"
      ]
    },
    {
      "cell_type": "code",
      "execution_count": 185,
      "metadata": {
        "colab": {
          "base_uri": "https://localhost:8080/"
        },
        "id": "964x5eV4f_Rx",
        "outputId": "f1dacae8-6b95-4a23-e0bb-90ea3817c7c0"
      },
      "outputs": [
        {
          "name": "stdout",
          "output_type": "stream",
          "text": [
            "Accuracy on test set: 0.8921\n"
          ]
        }
      ],
      "source": [
        "accuracy_test(fixed_model, test_loader)"
      ]
    },
    {
      "cell_type": "markdown",
      "metadata": {
        "id": "dMui_uLJ7G0d"
      },
      "source": [
        "### Conclusions:\n",
        "_Write down small report with your conclusions and your ideas._"
      ]
    },
    {
      "cell_type": "markdown",
      "metadata": {
        "id": "3lt_xmzOlgMI"
      },
      "source": [
        "* In fact, it was not very easy for me to overfit the model. <br>\n",
        "Having put, as it seemed to me, many layers for this task, it still gave out good accuracy. Any significant overfitting was achieved by reducing the size of the training sample from 80% to 50% of the original test dataset\n",
        "\n",
        "* As expected, after using Batchnorm and Dropout retraining has been reduced"
      ]
    }
  ],
  "metadata": {
    "accelerator": "GPU",
    "colab": {
      "provenance": []
    },
    "gpuClass": "standard",
    "kernelspec": {
      "display_name": "ml_env",
      "language": "python",
      "name": "python3"
    },
    "language_info": {
      "codemirror_mode": {
        "name": "ipython",
        "version": 3
      },
      "file_extension": ".py",
      "mimetype": "text/x-python",
      "name": "python",
      "nbconvert_exporter": "python",
      "pygments_lexer": "ipython3",
      "version": "3.10.4 (main, Mar 31 2022, 08:41:55) [GCC 7.5.0]"
    },
    "vscode": {
      "interpreter": {
        "hash": "fa07ad33c54a894ea7d24f3c1dad19cdf64ec61ab9d7a8aa3a6e4bc6596667f2"
      }
    }
  },
  "nbformat": 4,
  "nbformat_minor": 0
}
