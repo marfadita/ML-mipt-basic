{
  "cells": [
    {
      "cell_type": "markdown",
      "source": [
        "**Marfa Zakirova, B06-906a**"
      ],
      "metadata": {
        "id": "JHRWMTVBtjWi"
      }
    },
    {
      "cell_type": "markdown",
      "metadata": {
        "id": "Oom7eFb0tfrM"
      },
      "source": [
        "## Lab 2"
      ]
    },
    {
      "cell_type": "markdown",
      "metadata": {
        "id": "lIg1Na1wtfrR"
      },
      "source": [
        "### Part 3. Poetry generation\n",
        "\n",
        "Let's try to generate some poetry using RNNs. \n",
        "\n",
        "You have several choices here: \n",
        "\n",
        "* The Shakespeare sonnets, file `sonnets.txt` available in the notebook directory.\n",
        "\n",
        "* Роман в стихах \"Евгений Онегин\" Александра Сергеевича Пушкина. В предобработанном виде доступен по [ссылке](https://github.com/attatrol/data_sources/blob/master/onegin.txt).\n",
        "\n",
        "* Some other text source, if it will be approved by the course staff.\n",
        "\n",
        "Text generation can be designed in several steps:\n",
        "    \n",
        "1. Data loading.\n",
        "2. Dictionary generation.\n",
        "3. Data preprocessing.\n",
        "4. Model (neural network) training.\n",
        "5. Text generation (model evaluation).\n"
      ]
    },
    {
      "cell_type": "code",
      "execution_count": 1,
      "metadata": {
        "id": "3hOUKkSXtfrV"
      },
      "outputs": [],
      "source": [
        "import string\n",
        "import os\n",
        "import torch, torch.nn as nn\n",
        "import numpy as np\n",
        "from random import sample\n",
        "import torch.nn.functional as F\n",
        "from torch.utils.data import Subset, DataLoader\n",
        "import torchsummary\n",
        "from matplotlib import pyplot as plt\n",
        "from tqdm import tqdm\n",
        "\n",
        "device = 'cuda:0' if torch.cuda.is_available() else 'cpu'"
      ]
    },
    {
      "cell_type": "markdown",
      "metadata": {
        "id": "Pl1fPXretfrW"
      },
      "source": [
        "### Data loading: Shakespeare"
      ]
    },
    {
      "cell_type": "markdown",
      "metadata": {
        "id": "y97dAAoxtfrX"
      },
      "source": [
        "Shakespeare sonnets are awailable at this [link](http://www.gutenberg.org/ebooks/1041?msg=welcome_stranger). In addition, they are stored in the same directory as this notebook (`sonnetes.txt`). Simple preprocessing is already done for you in the next cell: all technical info is dropped."
      ]
    },
    {
      "cell_type": "code",
      "execution_count": 37,
      "metadata": {
        "collapsed": true,
        "id": "a1Lo_DJdtfrX",
        "colab": {
          "base_uri": "https://localhost:8080/",
          "height": 265
        },
        "outputId": "5fd3cb90-a302-49a2-9fd2-b0ab2e3fd90a"
      },
      "outputs": [
        {
          "output_type": "display_data",
          "data": {
            "text/plain": [
              "<Figure size 432x288 with 1 Axes>"
            ],
            "image/png": "[encoded data removed]"
          },
          "metadata": {
            "needs_background": "light"
          }
        }
      ],
      "source": [
        "# if not os.path.exists('sonnets.txt'):\n",
        "#     !wget https://raw.githubusercontent.com/girafe-ai/ml-course/22f_basic/homeworks_basic/lab02_deep_learning/sonnets.txt\n",
        "\n",
        "with open('sonnets.txt', 'r') as iofile:\n",
        "    text = iofile.readlines()\n",
        "    import os\n",
        "\n",
        "TEXT_START = 45\n",
        "TEXT_END = -368\n",
        "text = text[TEXT_START : TEXT_END]\n",
        "\n",
        "start_token = \"<\"\n",
        "text = [start_token + line[:-2] for line in text] # to remove '\\n'\n",
        "\n",
        "MAX_LENGTH = max(map(len, text))\n",
        "assert len(text) == 2616\n",
        "plt.hist(list(map(len, text)),bins=MAX_LENGTH)\n",
        "None"
      ]
    },
    {
      "cell_type": "markdown",
      "source": [
        "**Rows that are shorter than 30 symbols do not contain the semantic load of the sonnet, most likely they are needed for the organization of the text. We will remove them, since the model must first solve a simpler task: generate sonnet strings**"
      ],
      "metadata": {
        "id": "8k0vl7UYiksB"
      }
    },
    {
      "cell_type": "code",
      "source": [
        "text = [text[i].lower() for i in range(len(text)) if len(text[i]) >= 30]\n",
        "plt.hist(list(map(len, text)),bins=MAX_LENGTH)\n",
        "None"
      ],
      "metadata": {
        "colab": {
          "base_uri": "https://localhost:8080/",
          "height": 265
        },
        "id": "sZ5mOPNFjFRt",
        "outputId": "8cad366e-0cba-4d3d-ddfb-647610c0aaeb"
      },
      "execution_count": 39,
      "outputs": [
        {
          "output_type": "display_data",
          "data": {
            "text/plain": [
              "<Figure size 432x288 with 1 Axes>"
            ],
            "image/png": "[encoded data removed]"
          },
          "metadata": {
            "needs_background": "light"
          }
        }
      ]
    },
    {
      "cell_type": "code",
      "source": [
        "print(text)"
      ],
      "metadata": {
        "colab": {
          "base_uri": "https://localhost:8080/"
        },
        "id": "sQaQj26BkXUY",
        "outputId": "c3c40880-0939-4ff6-8c2e-1f2fdfbf7b03"
      },
      "execution_count": 40,
      "outputs": [
        {
          "output_type": "stream",
          "name": "stdout",
          "text": [
            "['<  from fairest creatures we desire increase', \"<  that thereby beauty's rose might never die\", '<  but as the riper should by time decease', '<  his tender heir might bear his memory', '<  but thou, contracted to thine own bright eyes', \"<  feed'st thy light's flame with self-substantial fuel\", '<  making a famine where abundance lies', '<  thy self thy foe, to thy sweet self too cruel', \"<  thou that art now the world's fresh ornament\", '<  and only herald to the gaudy spring', '<  within thine own bud buriest thy content', \"<  and tender churl mak'st waste in niggarding\", '<    pity the world, or else this glutton be', \"<    to eat the world's due, by the grave and thee\", '<  when forty winters shall besiege thy brow', \"<  and dig deep trenches in thy beauty's field\", \"<  thy youth's proud livery so gazed on now\", \"<  will be a tatter'd weed of small worth held\", '<  then being asked, where all thy beauty lies', '<  where all the treasure of thy lusty days', '<  to say, within thine own deep sunken eyes', '<  were an all-eating shame, and thriftless praise', \"<  how much more praise deserv'd thy beauty's use\", \"<  if thou couldst answer 'this fair child of min\", '<  shall sum my count, and make my old excuse,', '<  proving his beauty by succession thine', '<    this were to be new made when thou art old', \"<    and see thy blood warm when thou feel'st it cold\", '<  look in thy glass and tell the face thou viewes', '<  now is the time that face should form another', '<  whose fresh repair if now thou not renewest', '<  thou dost beguile the world, unbless some mother', \"<  for where is she so fair whose unear'd wom\", '<  disdains the tillage of thy husbandry', '<  or who is he so fond will be the tomb', '<  of his self-love to stop posterity', \"<  thou art thy mother's glass and she in the\", '<  calls back the lovely april of her prime', '<  so thou through windows of thine age shalt see', '<  despite of wrinkles this thy golden time', \"<    but if thou live, remember'd not to be\", '<    die single and thine image dies with thee', '<  unthrifty loveliness, why dost thou spen', \"<  upon thy self thy beauty's legacy\", \"<  nature's bequest gives nothing, but doth lend\", '<  and being frank she lends to those are free', '<  then, beauteous niggard, why dost thou abus', '<  the bounteous largess given thee to give', '<  profitless usurer, why dost thou us', '<  so great a sum of sums, yet canst not live', '<  for having traffic with thy self alone', '<  thou of thy self thy sweet self dost deceive', '<  then how when nature calls thee to be gone', '<  what acceptable audit canst thou leave', '<    thy unused beauty must be tombed with thee', \"<    which, used, lives th' executor to be\", '<  those hours, that with gentle work did fram', '<  the lovely gaze where every eye doth dwell', '<  will play the tyrants to the very sam', '<  and that unfair which fairly doth excel', '<  for never-resting time leads summer o', '<  to hideous winter, and confounds him there', '<  sap checked with frost, and lusty leaves quite gone', \"<  beauty o'er-snowed and bareness every where\", \"<  then were not summer's distillation left\", '<  a liquid prisoner pent in walls of glass', \"<  beauty's effect with beauty were bereft\", '<  nor it, nor no remembrance what it was', \"<    but flowers distill'd, though they with winter meet\", '<    leese but their show; their substance still lives sweet', \"<  then let not winter's ragged hand deface\", \"<  in thee thy summer, ere thou be distill'd\", '<  make sweet some vial; treasure thou some plac', \"<  with beauty's treasure ere it be self-kill'd\", '<  that use is not forbidden usury', '<  which happies those that pay the willing loan', \"<  that's for thy self to breed another thee\", '<  or ten times happier, be it ten for one', '<  ten times thy self were happier than thou art', \"<  if ten of thine ten times refigur'd thee\", '<  then what could death do if thou shouldst depart', '<  leaving thee living in posterity', \"<    be not self-will'd, for thou art much too fai\", \"<    to be death's conquest and make worms thine heir\", '<  lo! in the orient when the gracious ligh', '<  lifts up his burning head, each under ey', '<  doth homage to his new-appearing sight', '<  serving with looks his sacred majesty', \"<  and having climb'd the steep-up heavenly hill\", '<  resembling strong youth in his middle age', '<  yet mortal looks adore his beauty still', '<  attending on his golden pilgrimage', '<  but when from highmost pitch, with weary car', '<  like feeble age, he reeleth from the day', \"<  the eyes, 'fore duteous, now converted ar\", '<  from his low tract, and look another way', '<    so thou, thyself outgoing in thy noon', \"<    unlook'd, on diest unless thou get a son\", \"<  music to hear, why hear'st thou music sadly\", '<  sweets with sweets war not, joy delights in joy', \"<  why lov'st thou that which thou receiv'st not gladly\", \"<  or else receiv'st with pleasure thine annoy\", '<  if the true concord of well-tuned sounds', '<  by unions married, do offend thine ear', '<  they do but sweetly chide thee, who confound', '<  in singleness the parts that thou shouldst bear', '<  mark how one string, sweet husband to another', '<  strikes each in each by mutual ordering', '<  resembling sire and child and happy mother', '<  who, all in one, one pleasing note do sing', '<    whose speechless song being many, seeming one', \"<    sings this to thee: 'thou single wilt prove none.\", \"<  is it for fear to wet a widow's eye\", \"<  that thou consum'st thy self in single life\", '<  ah! if thou issueless shalt hap to die', '<  the world will wail thee like a makeless wife', '<  the world will be thy widow and still wee', '<  that thou no form of thee hast left behind', '<  when every private widow well may kee', \"<  by children's eyes, her husband's shape in mind\", '<  look! what an unthrift in the world doth spen', '<  shifts but his place, for still the world enjoys it', \"<  but beauty's waste hath in the world an end\", '<  and kept unused the user so destroys it', '<    no love toward others in that bosom sit', \"<    that on himself such murd'rous shame commits\", \"<  for shame! deny that thou bear'st love to any\", '<  who for thy self art so unprovident', \"<  grant, if thou wilt, thou art belov'd of many\", \"<  but that thou none lov'st is most evident\", \"<  for thou art so possess'd with murderous hate\", \"<  that 'gainst thy self thou stick'st not to conspire\", '<  seeking that beauteous roof to ruinat', '<  which to repair should be thy chief desire', '<  o! change thy thought, that i may change my mind', \"<  shall hate be fairer lodg'd than gentle love\", '<  be, as thy presence is, gracious and kind', '<  or to thyself at least kind-hearted prove', '<    make thee another self for love of me', '<    that beauty still may live in thine or thee', \"<  as fast as thou shalt wane, so fast thou grow'st\", '<  in one of thine, from that which thou departest', \"<  and that fresh blood which youngly thou bestow'st\", '<  thou mayst call thine when thou from youth convertest', '<  herein lives wisdom, beauty, and increase', '<  without this folly, age, and cold decay', '<  if all were minded so, the times should ceas', '<  and threescore year would make the world away', '<  let those whom nature hath not made for store', '<  harsh, featureless, and rude, barrenly perish', \"<  look, whom she best endow'd, she gave thee more\", '<  which bounteous gift thou shouldst in bounty cherish', \"<    she carv'd thee for her seal, and meant thereby\", '<    thou shouldst print more, not let that copy die', '<  when i do count the clock that tells the time', '<  and see the brave day sunk in hideous night', '<  when i behold the violet past prime', \"<  and sable curls, all silvered o'er with white\", '<  when lofty trees i see barren of leaves', '<  which erst from heat did canopy the herd', \"<  and summer's green all girded up in sheaves\", '<  borne on the bier with white and bristly beard', '<  then of thy beauty do i question make', '<  that thou among the wastes of time must go', '<  since sweets and beauties do themselves forsak', '<  and die as fast as they see others grow', \"<    and nothing 'gainst time's scythe can make defenc\", '<    save breed, to brave him when he takes thee hence', '<  o! that you were your self; but, love you ar', '<  no longer yours, than you your self here live', '<  against this coming end you should prepare', '<  and your sweet semblance to some other give', '<  so should that beauty which you hold in leas', '<  find no determination; then you wer', \"<  yourself again, after yourself's decease\", '<  when your sweet issue your sweet form should bear', '<  who lets so fair a house fall to decay', '<  which husbandry in honour might uphold', \"<  against the stormy gusts of winter's da\", \"<  and barren rage of death's eternal cold\", '<    o! none but unthrifts. dear my love, you know', '<    you had a father: let your son say so', '<  not from the stars do i my judgement pluck', '<  and yet methinks i have astronomy', '<  but not to tell of good or evil luck', \"<  of plagues, of dearths, or seasons' quality\", '<  nor can i fortune to brief minutes tell', '<  pointing to each his thunder, rain and wind', '<  or say with princes if it shall go wel', '<  by oft predict that i in heaven find', '<  but from thine eyes my knowledge i derive', '<  and constant stars in them i read such ar', \"<  as 'truth and beauty shall together thrive\", \"<  if from thyself, to store thou wouldst convert'\", '<    or else of thee this i prognosticate', \"<    'thy end is truth's and beauty's doom and date.\", '<  when i consider every thing that grow', '<  holds in perfection but a little moment', '<  that this huge stage presenteth nought but show', '<  whereon the stars in secret influence comment', '<  when i perceive that men as plants increase', '<  cheered and checked even by the self-same sky', '<  vaunt in their youthful sap, at height decrease', '<  and wear their brave state out of memory', '<  then the conceit of this inconstant sta', '<  sets you most rich in youth before my sight', '<  where wasteful time debateth with deca', '<  to change your day of youth to sullied night', '<    and all in war with time for love of you', '<    as he takes from you, i engraft you new', '<  but wherefore do not you a mightier wa', '<  make war upon this bloody tyrant, time', '<  and fortify your self in your deca', '<  with means more blessed than my barren rhyme', '<  now stand you on the top of happy hours', '<  and many maiden gardens, yet unset', '<  with virtuous wish would bear you living flowers', '<  much liker than your painted counterfeit', '<  so should the lines of life that life repair', \"<  which this, time's pencil, or my pupil pen\", '<  neither in inward worth nor outward fair', '<  can make you live your self in eyes of men', '<    to give away yourself, keeps yourself still', '<    and you must live, drawn by your own sweet skill', '<  who will believe my verse in time to come', \"<  if it were fill'd with your most high deserts\", '<  though yet heaven knows it is but as a tom', '<  which hides your life, and shows not half your parts', '<  if i could write the beauty of your eyes', '<  and in fresh numbers number all your graces', \"<  the age to come would say 'this poet lies\", \"<  such heavenly touches ne'er touch'd earthly faces.\", \"<  so should my papers, yellow'd with their age\", \"<  be scorn'd, like old men of less truth than tongue\", \"<  and your true rights be term'd a poet's rag\", '<  and stretched metre of an antique song', '<    but were some child of yours alive that time', '<    you should live twice,--in it, and in my rhyme', \"<  shall i compare thee to a summer's day\", '<  thou art more lovely and more temperate', '<  rough winds do shake the darling buds of may', \"<  and summer's lease hath all too short a date\", '<  sometime too hot the eye of heaven shines', \"<  and often is his gold complexion dimm'd\", '<  and every fair from fair sometime declines', \"<  by chance, or nature's changing course untrimm'd\", '<  but thy eternal summer shall not fade', \"<  nor lose possession of that fair thou ow'st\", \"<  nor shall death brag thou wander'st in his shade\", \"<  when in eternal lines to time thou grow'st\", '<    so long as men can breathe, or eyes can see', '<    so long lives this, and this gives life to thee', \"<  devouring time, blunt thou the lion's paws\", '<  and make the earth devour her own sweet brood', \"<  pluck the keen teeth from the fierce tiger's jaws\", \"<  and burn the long-liv'd phoenix, in her blood\", '<  make glad and sorry seasons as thou fleets', \"<  and do whate'er thou wilt, swift-footed time\", '<  to the wide world and all her fading sweets', '<  but i forbid thee one most heinous crime', \"<  o! carve not with thy hours my love's fair brow\", '<  nor draw no lines there with thine antique pen', '<  him in thy course untainted do allo', \"<  for beauty's pattern to succeeding men\", '<    yet, do thy worst old time: despite thy wrong', '<    my love shall in my verse ever live young', \"<  a woman's face with nature's own hand painted\", '<  hast thou, the master mistress of my passion', \"<  a woman's gentle heart, but not acquainte\", \"<  with shifting change, as is false women's fashion\", '<  an eye more bright than theirs, less false in rolling', '<  gilding the object whereupon it gazeth', \"<  a man in hue all 'hues' in his controlling\", \"<  which steals men's eyes and women's souls amazeth\", '<  and for a woman wert thou first created', '<  till nature, as she wrought thee, fell a-doting', '<  and by addition me of thee defeated', '<  by adding one thing to my purpose nothing', \"<    but since she prick'd thee out for women's pleasure\", \"<    mine be thy love and thy love's use their treasure\", '<  so is it not with me as with that muse', \"<  stirr'd by a painted beauty to his verse\", '<  who heaven itself for ornament doth us', '<  and every fair with his fair doth rehearse', '<  making a couplement of proud compare', \"<  with sun and moon, with earth and sea's rich gems\", \"<  with april's first-born flowers, and all things rare\", \"<  that heaven's air in this huge rondure hems\", '<  o! let me, true in love, but truly write', '<  and then believe me, my love is as fai', \"<  as any mother's child, though not so brigh\", \"<  as those gold candles fix'd in heaven's air\", '<    let them say more that like of hearsay well', '<    i will not praise that purpose not to sell', '<  my glass shall not persuade me i am old', '<  so long as youth and thou are of one date', \"<  but when in thee time's furrows i behold\", '<  then look i death my days should expiate', '<  for all that beauty that doth cover thee', '<  is but the seemly raiment of my heart', '<  which in thy breast doth live, as thine in me', '<  how can i then be elder than thou art', '<  o! therefore love, be of thyself so war', '<  as i, not for myself, but for thee will', '<  bearing thy heart, which i will keep so char', '<  as tender nurse her babe from faring ill', '<    presume not on thy heart when mine is slain', \"<    thou gav'st me thine not to give back again\", '<  as an unperfect actor on the stage', '<  who with his fear is put beside his part', '<  or some fierce thing replete with too much rage', \"<  whose strength's abundance weakens his own heart\", '<  so i, for fear of trust, forget to sa', \"<  the perfect ceremony of love's rite\", \"<  and in mine own love's strength seem to decay\", \"<  o'ercharg'd with burthen of mine own love's might\", '<  o! let my looks be then the eloquenc', '<  and dumb presagers of my speaking breast', '<  who plead for love, and look for recompense', \"<  more than that tongue that more hath more express'd\", '<    o! learn to read what silent love hath writ', \"<    to hear with eyes belongs to love's fine wit\", \"<  mine eye hath play'd the painter and hath stell'd\", \"<  thy beauty's form in table of my heart\", \"<  my body is the frame wherein 'tis held\", \"<  and perspective it is best painter's art\", '<  for through the painter must you see his skill', \"<  to find where your true image pictur'd lies\", \"<  which in my bosom's shop is hanging still\", '<  that hath his windows glazed with thine eyes', '<  now see what good turns eyes for eyes have done', '<  mine eyes have drawn thy shape, and thine for m', '<  are windows to my breast, where-through the su', '<  delights to peep, to gaze therein on thee', '<    yet eyes this cunning want to grace their art', '<    they draw but what they see, know not the heart', '<  let those who are in favour with their star', '<  of public honour and proud titles boast', '<  whilst i, whom fortune of such triumph bar', \"<  unlook'd for joy in that i honour most\", \"<  great princes' favourites their fair leaves sprea\", \"<  but as the marigold at the sun's eye\", '<  and in themselves their pride lies buried', '<  for at a frown they in their glory die', '<  the painful warrior famoused for fight', \"<  after a thousand victories once foil'd\", '<  is from the book of honour razed quite', \"<  and all the rest forgot for which he toil'd\", \"<    then happy i, that love and am belov'd\", \"<    where i may not remove nor be remov'd\", '<  lord of my love, to whom in vassalag', '<  thy merit hath my duty strongly knit', '<  to thee i send this written embassage', '<  to witness duty, not to show my wit', '<  duty so great, which wit so poor as min', '<  may make seem bare, in wanting words to show it', '<  but that i hope some good conceit of thin', \"<  in thy soul's thought, all naked, will bestow it\", '<  till whatsoever star that guides my moving', '<  points on me graciously with fair aspect', \"<  and puts apparel on my tatter'd loving\", '<  to show me worthy of thy sweet respect', '<    then may i dare to boast how i do love thee', '<    till then, not show my head where thou mayst prove me', '<  weary with toil, i haste me to my bed', \"<  the dear respose for limbs with travel tir'd\", '<  but then begins a journey in my hea', \"<  to work my mind, when body's work's expired\", '<  for then my thoughts--from far where i abide-', '<  intend a zealous pilgrimage to thee', '<  and keep my drooping eyelids open wide', '<  looking on darkness which the blind do see', \"<  save that my soul's imaginary sigh\", '<  presents thy shadow to my sightless view', '<  which, like a jewel hung in ghastly night', '<  makes black night beauteous, and her old face new', '<    lo! thus, by day my limbs, by night my mind', '<    for thee, and for myself, no quiet find', '<  how can i then return in happy plight', \"<  that am debarre'd the benefit of rest\", \"<  when day's oppression is not eas'd by night\", \"<  but day by night and night by day oppress'd\", \"<  and each, though enemies to either's reign\", '<  do in consent shake hands to torture me', '<  the one by toil, the other to complai', '<  how far i toil, still farther off from thee', '<  i tell the day, to please him thou art bright', '<  and dost him grace when clouds do blot the heaven', \"<  so flatter i the swart-complexion'd night\", \"<  when sparkling stars twire not thou gild'st the even\", '<    but day doth daily draw my sorrows longer', \"<    and night doth nightly make grief's length seem stronger\", \"<  when in disgrace with fortune and men's eye\", '<  i all alone beweep my outcast state', '<  and trouble deaf heaven with my bootless cries', '<  and look upon myself, and curse my fate', '<  wishing me like to one more rich in hope', \"<  featur'd like him, like him with friends possess'd\", \"<  desiring this man's art, and that man's scope\", '<  with what i most enjoy contented least', '<  yet in these thoughts my self almost despising', '<  haply i think on thee,-- and then my state', '<  like to the lark at break of day arisin', \"<  from sullen earth, sings hymns at heaven's gate\", \"<    for thy sweet love remember'd such wealth bring\", '<    that then i scorn to change my state with kings', '<  when to the sessions of sweet silent though', '<  i summon up remembrance of things past', '<  i sigh the lack of many a thing i sought', \"<  and with old woes new wail my dear time's waste\", '<  then can i drown an eye, unused to flow', \"<  for precious friends hid in death's dateless night\", \"<  and weep afresh love's long since cancell'd woe\", \"<  and moan the expense of many a vanish'd sight\", '<  then can i grieve at grievances foregone', \"<  and heavily from woe to woe tell o'e\", '<  the sad account of fore-bemoaned moan', '<  which i new pay as if not paid before', '<    but if the while i think on thee, dear friend', \"<    all losses are restor'd and sorrows end\", '<  thy bosom is endeared with all hearts', '<  which i by lacking have supposed dead', \"<  and there reigns love, and all love's loving parts\", '<  and all those friends which i thought buried', '<  how many a holy and obsequious tea', \"<  hath dear religious love stol'n from mine eye\", '<  as interest of the dead, which now appea', \"<  but things remov'd that hidden in thee lie\", '<  thou art the grave where buried love doth live', '<  hung with the trophies of my lovers gone', '<  who all their parts of me to thee did give', '<  that due of many now is thine alone', \"<    their images i lov'd, i view in thee\", '<    and thou--all they--hast all the all of me', '<  if thou survive my well-contented day', '<  when that churl death my bones with dust shall cove', '<  and shalt by fortune once more re-surve', '<  these poor rude lines of thy deceased lover', \"<  compare them with the bett'ring of the time\", \"<  and though they be outstripp'd by every pen\", '<  reserve them for my love, not for their rhyme', '<  exceeded by the height of happier men', '<  o! then vouchsafe me but this loving thought', \"<  'had my friend's muse grown with this growing age\", '<  a dearer birth than this his love had brought', '<  to march in ranks of better equipage', '<    but since he died and poets better prove', \"<    theirs for their style i'll read, his for his love'\", '<  full many a glorious morning have i see', '<  flatter the mountain tops with sovereign eye', '<  kissing with golden face the meadows green', '<  gilding pale streams with heavenly alchemy', '<  anon permit the basest clouds to rid', '<  with ugly rack on his celestial face', '<  and from the forlorn world his visage hide', '<  stealing unseen to west with this disgrace', '<  even so my sun one early morn did shine', '<  with all triumphant splendour on my brow', '<  but out! alack! he was but one hour mine', \"<  the region cloud hath mask'd him from me now\", '<    yet him for this my love no whit disdaineth', \"<    suns of the world may stain when heaven's sun staineth\", '<  why didst thou promise such a beauteous day', '<  and make me travel forth without my cloak', \"<  to let base clouds o'ertake me in my way\", '<  hiding thy bravery in their rotten smoke', \"<  'tis not enough that through the cloud thou break\", '<  to dry the rain on my storm-beaten face', '<  for no man well of such a salve can speak', '<  that heals the wound, and cures not the disgrace', '<  nor can thy shame give physic to my grief', '<  though thou repent, yet i have still the loss', \"<  the offender's sorrow lends but weak relie\", \"<  to him that bears the strong offence's cross\", '<    ah! but those tears are pearl which thy love sheds', '<    and they are rich and ransom all ill deeds', \"<  no more be griev'd at that which thou hast done\", '<  roses have thorns, and silver fountains mud', '<  clouds and eclipses stain both moon and sun', '<  and loathsome canker lives in sweetest bud', '<  all men make faults, and even i in this', '<  authorizing thy trespass with compare', '<  myself corrupting, salving thy amiss', '<  excusing thy sins more than thy sins are', '<  for to thy sensual fault i bring in sense,-', '<  thy adverse party is thy advocate,-', \"<  and 'gainst myself a lawful plea commence\", '<  such civil war is in my love and hate', '<    that i an accessary needs must be', '<    to that sweet thief which sourly robs from me', '<  let me confess that we two must be twain', '<  although our undivided loves are one', '<  so shall those blots that do with me remain', '<  without thy help, by me be borne alone', '<  in our two loves there is but one respect', '<  though in our lives a separable spite', \"<  which though it alter not love's sole effect\", \"<  yet doth it steal sweet hours from love's delight\", '<  i may not evermore acknowledge thee', '<  lest my bewailed guilt should do thee shame', '<  nor thou with public kindness honour me', '<  unless thou take that honour from thy name', '<    but do not so, i love thee in such sort', '<    as thou being mine, mine is thy good report', '<  as a decrepit father takes deligh', '<  to see his active child do deeds of youth', \"<  so i, made lame by fortune's dearest spite\", '<  take all my comfort of thy worth and truth', '<  for whether beauty, birth, or wealth, or wit', '<  or any of these all, or all, or more', '<  entitled in thy parts, do crowned sit', '<  i make my love engrafted, to this store', \"<  so then i am not lame, poor, nor despis'd\", '<  whilst that this shadow doth such substance giv', \"<  that i in thy abundance am suffic'd\", '<  and by a part of all thy glory live', '<    look what is best, that best i wish in thee', '<    this wish i have; then ten times happy me', '<  how can my muse want subject to invent', \"<  while thou dost breathe, that pour'st into my vers\", '<  thine own sweet argument, too excellen', '<  for every vulgar paper to rehearse', '<  o! give thy self the thanks, if aught in m', '<  worthy perusal stand against thy sight', \"<  for who's so dumb that cannot write to thee\", '<  when thou thy self dost give invention light', '<  be thou the tenth muse, ten times more in wort', '<  than those old nine which rhymers invocate', '<  and he that calls on thee, let him bring fort', '<  eternal numbers to outlive long date', '<    if my slight muse do please these curious days', '<    the pain be mine, but thine shall be the praise', '<  o! how thy worth with manners may i sing', '<  when thou art all the better part of me', '<  what can mine own praise to mine own self bring', \"<  and what is't but mine own when i praise thee\", '<  even for this, let us divided live', '<  and our dear love lose name of single one', '<  that by this separation i may giv', \"<  that due to thee which thou deserv'st alone\", '<  o absence! what a torment wouldst thou prove', '<  were it not thy sour leisure gave sweet leave', '<  to entertain the time with thoughts of love', '<  which time and thoughts so sweetly doth deceive', '<    and that thou teachest how to make one twain', '<    by praising him here who doth hence remain', '<  take all my loves, my love, yea take them all', '<  what hast thou then more than thou hadst before', '<  no love, my love, that thou mayst true love call', '<  all mine was thine, before thou hadst this more', '<  then, if for my love, thou my love receivest', '<  i cannot blame thee, for my love thou usest', \"<  but yet be blam'd, if thou thy self deceives\", '<  by wilful taste of what thyself refusest', '<  i do forgive thy robbery, gentle thief', '<  although thou steal thee all my poverty', '<  and yet, love knows it is a greater grie', \"<  to bear love's wrong, than hate's known injury\", '<    lascivious grace, in whom all ill well shows', '<    kill me with spites yet we must not be foes', '<  those pretty wrongs that liberty commits', '<  when i am sometime absent from thy heart', '<  thy beauty, and thy years full well befits', '<  for still temptation follows where thou art', '<  gentle thou art, and therefore to be won', \"<  beauteous thou art, therefore to be assail'd\", \"<  and when a woman woos, what woman's so\", \"<  will sourly leave her till he have prevail'd\", '<  ay me! but yet thou mightst my seat forbear', '<  and chide thy beauty and thy straying youth', '<  who lead thee in their riot even ther', '<  where thou art forced to break a twofold truth:-', '<    hers by thy beauty tempting her to thee', '<    thine by thy beauty being false to me', '<  that thou hast her it is not all my grief', '<  and yet it may be said i loved her dearly', '<  that she hath thee is of my wailing chief', '<  a loss in love that touches me more nearly', '<  loving offenders thus i will excuse ye', \"<  thou dost love her, because thou know'st i love her\", '<  and for my sake even so doth she abuse me', '<  suffering my friend for my sake to approve her', \"<  if i lose thee, my loss is my love's gain\", '<  and losing her, my friend hath found that loss', '<  both find each other, and i lose both twain', '<  and both for my sake lay on me this cross', \"<    but here's the joy; my friend and i are one\", '<    sweet flattery! then she loves but me alone', '<  when most i wink, then do mine eyes best see', '<  for all the day they view things unrespected', '<  but when i sleep, in dreams they look on thee', '<  and darkly bright, are bright in dark directed', '<  then thou, whose shadow shadows doth make bright', \"<  how would thy shadow's form form happy sho\", '<  to the clear day with thy much clearer light', '<  when to unseeing eyes thy shade shines so', '<  how would, i say, mine eyes be blessed mad', '<  by looking on thee in the living day', '<  when in dead night thy fair imperfect shad', '<  through heavy sleep on sightless eyes doth stay', '<    all days are nights to see till i see thee', '<    and nights bright days when dreams do show thee me', '<  if the dull substance of my flesh were thought', '<  injurious distance should not stop my way', '<  for then despite of space i would be brought', '<  from limits far remote, where thou dost stay', '<  no matter then although my foot did stan', \"<  upon the farthest earth remov'd from thee\", '<  for nimble thought can jump both sea and land', '<  as soon as think the place where he would be', '<  but, ah! thought kills me that i am not thought', '<  to leap large lengths of miles when thou art gone', '<  but that so much of earth and water wrought', \"<  i must attend time's leisure with my moan\", '<    receiving nought by elements so slo', \"<    but heavy tears, badges of either's woe\", '<  the other two, slight air, and purging fir', '<  are both with thee, wherever i abide', '<  the first my thought, the other my desire', '<  these present-absent with swift motion slide', '<  for when these quicker elements are gon', '<  in tender embassy of love to thee', '<  my life, being made of four, with two alon', \"<  sinks down to death, oppress'd with melancholy\", \"<  until life's composition be recur'\", \"<  by those swift messengers return'd from thee\", \"<  who even but now come back again, assur'd\", '<  of thy fair health, recounting it to me', '<    this told, i joy; but then no longer glad', '<    i send them back again, and straight grow sad', '<  mine eye and heart are at a mortal war', '<  how to divide the conquest of thy sight', \"<  mine eye my heart thy picture's sight would bar\", '<  my heart mine eye the freedom of that right', '<  my heart doth plead that thou in him dost lie,-', \"<  a closet never pierc'd with crystal eyes-\", '<  but the defendant doth that plea deny', '<  and says in him thy fair appearance lies', '<  to side this title is impannelle', '<  a quest of thoughts, all tenants to the heart', '<  and by their verdict is determine', \"<  the clear eye's moiety, and the dear heart's part\", \"<    as thus; mine eye's due is thy outward part\", \"<    and my heart's right, thy inward love of heart\", '<  betwixt mine eye and heart a league is took', '<  and each doth good turns now unto the other', \"<  when that mine eye is famish'd for a look\", '<  or heart in love with sighs himself doth smother', \"<  with my love's picture then my eye doth feast\", '<  and to the painted banquet bids my heart', \"<  another time mine eye is my heart's guest\", '<  and in his thoughts of love doth share a part', '<  so, either by thy picture or my love', '<  thy self away, art present still with me', '<  for thou not farther than my thoughts canst move', '<  and i am still with them, and they with thee', '<    or, if they sleep, thy picture in my sigh', \"<    awakes my heart, to heart's and eye's delight\", '<  how careful was i when i took my way', '<  each trifle under truest bars to thrust', '<  that to my use it might unused sta', '<  from hands of falsehood, in sure wards of trust', '<  but thou, to whom my jewels trifles are', '<  most worthy comfort, now my greatest grief', '<  thou best of dearest, and mine only care', '<  art left the prey of every vulgar thief', \"<  thee have i not lock'd up in any chest\", '<  save where thou art not, though i feel thou art', '<  within the gentle closure of my breast', '<  from whence at pleasure thou mayst come and part', \"<    and even thence thou wilt be stol'n i fear\", '<    for truth proves thievish for a prize so dear', '<  against that time, if ever that time come', '<  when i shall see thee frown on my defects', '<  when as thy love hath cast his utmost sum', \"<  call'd to that audit by advis'd respects\", '<  against that time when thou shalt strangely pass', '<  and scarcely greet me with that sun, thine eye', '<  when love, converted from the thing it was', '<  shall reasons find of settled gravity', '<  against that time do i ensconce me here', '<  within the knowledge of mine own desert', '<  and this my hand, against my self uprear', '<  to guard the lawful reasons on thy part', '<    to leave poor me thou hast the strength of laws', '<    since why to love i can allege no cause', '<  how heavy do i journey on the way', \"<  when what i seek, my weary travel's end\", '<  doth teach that ease and that repose to say', \"<  'thus far the miles are measured from thy friend!\", '<  the beast that bears me, tired with my woe', '<  plods dully on, to bear that weight in me', '<  as if by some instinct the wretch did kno', \"<  his rider lov'd not speed, being made from thee\", '<  the bloody spur cannot provoke him on', '<  that sometimes anger thrusts into his hide', '<  which heavily he answers with a groan', '<  more sharp to me than spurring to his side', '<    for that same groan doth put this in my mind', '<    my grief lies onward, and my joy behind', '<  thus can my love excuse the slow offenc', '<  of my dull bearer when from thee i speed', '<  from where thou art why should i haste me thence', '<  till i return, of posting is no need', '<  o! what excuse will my poor beast then find', '<  when swift extremity can seem but slow', '<  then should i spur, though mounted on the wind', '<  in winged speed no motion shall i know', '<  then can no horse with my desire keep pace', \"<  therefore desire, of perfect'st love being made\", '<  shall neigh--no dull flesh--in his fiery race', '<  but love, for love, thus shall excuse my jade,-', \"<    'since from thee going, he went wilful-slow\", \"<    towards thee i'll run, and give him leave to go.\", '<  so am i as the rich, whose blessed key', '<  can bring him to his sweet up-locked treasure', '<  the which he will not every hour survey', '<  for blunting the fine point of seldom pleasure', '<  therefore are feasts so solemn and so rare', '<  since, seldom coming in that long year set', '<  like stones of worth they thinly placed are', '<  or captain jewels in the carcanet', '<  so is the time that keeps you as my chest', '<  or as the wardrobe which the robe doth hide', '<  to make some special instant special-blest', \"<  by new unfolding his imprison'd pride\", '<    blessed are you whose worthiness gives scope', '<    being had, to triumph; being lacked, to hope', '<  what is your substance, whereof are you made', '<  that millions of strange shadows on you tend', '<  since every one, hath every one, one shade', '<  and you but one, can every shadow lend', '<  describe adonis, and the counterfei', '<  is poorly imitated after you', \"<  on helen's cheek all art of beauty set\", '<  and you in grecian tires are painted new', '<  speak of the spring, and foison of the year', '<  the one doth shadow of your beauty show', '<  the other as your bounty doth appear', '<  and you in every blessed shape we know', '<    in all external grace you have some part', '<    but you like none, none you, for constant heart', '<  o! how much more doth beauty beauteous see', '<  by that sweet ornament which truth doth give', '<  the rose looks fair, but fairer we it dee', '<  for that sweet odour, which doth in it live', '<  the canker blooms have full as deep a dy', '<  as the perfumed tincture of the roses', '<  hang on such thorns, and play as wantonl', \"<  when summer's breath their masked buds discloses\", '<  but, for their virtue only is their show', \"<  they live unwoo'd, and unrespected fade\", '<  die to themselves. sweet roses do not so', '<  of their sweet deaths, are sweetest odours made', '<    and so of you, beauteous and lovely youth', '<    when that shall vade, by verse distills your truth', '<  not marble, nor the gilded monument', '<  of princes, shall outlive this powerful rhyme', '<  but you shall shine more bright in these content', \"<  than unswept stone, besmear'd with sluttish time\", '<  when wasteful war shall statues overturn', '<  and broils root out the work of masonry', \"<  nor mars his sword, nor war's quick fire shall bur\", '<  the living record of your memory', \"<  'gainst death, and all-oblivious enmit\", '<  shall you pace forth; your praise shall still find roo', '<  even in the eyes of all posterit', '<  that wear this world out to the ending doom', '<    so, till the judgment that yourself arise', \"<    you live in this, and dwell in lovers' eyes\", '<  sweet love, renew thy force; be it not sai', '<  thy edge should blunter be than appetite', \"<  which but to-day by feeding is allay'd\", '<  to-morrow sharpened in his former might', '<  so, love, be thou, although to-day thou fil', '<  thy hungry eyes, even till they wink with fulness', '<  to-morrow see again, and do not kil', '<  the spirit of love, with a perpetual dulness', '<  let this sad interim like the ocean b', '<  which parts the shore, where two contracted ne', '<  come daily to the banks, that when they se', '<  return of love, more blest may be the view', '<    or call it winter, which being full of care', \"<    makes summer's welcome, thrice more wished, more rare\", '<  being your slave what should i do but tend', '<  upon the hours, and times of your desire', '<  i have no precious time at all to spend', '<  nor services to do, till you require', '<  nor dare i chide the world-without-end hour', '<  whilst i, my sovereign, watch the clock for you', '<  nor think the bitterness of absence sour', '<  when you have bid your servant once adieu', '<  nor dare i question with my jealous though', '<  where you may be, or your affairs suppose', '<  but, like a sad slave, stay and think of nough', '<  save, where you are, how happy you make those', '<    so true a fool is love, that in your will', '<    though you do anything, he thinks no ill', '<  that god forbid, that made me first your slave', '<  i should in thought control your times of pleasure', '<  or at your hand the account of hours to crave', '<  being your vassal, bound to stay your leisure', '<  o! let me suffer, being at your beck', \"<  the imprison'd absence of your liberty\", '<  and patience, tame to sufferance, bide each check', '<  without accusing you of injury', '<  be where you list, your charter is so stron', '<  that you yourself may privilage your tim', '<  to what you will; to you it doth belon', '<  yourself to pardon of self-doing crime', '<    i am to wait, though waiting so be hell', '<    not blame your pleasure be it ill or well', '<  if there be nothing new, but that which i', \"<  hath been before, how are our brains beguil'd\", '<  which labouring for invention bear amis', '<  the second burthen of a former child', '<  o! that record could with a backward look', '<  even of five hundred courses of the sun', '<  show me your image in some antique book', '<  since mind at first in character was done', '<  that i might see what the old world could sa', '<  to this composed wonder of your frame', \"<  wh'r we are mended, or wh'r better they\", '<  or whether revolution be the same', '<    o! sure i am the wits of former days', '<    to subjects worse have given admiring praise', '<  like as the waves make towards the pebbled shore', '<  so do our minutes hasten to their end', '<  each changing place with that which goes before', '<  in sequent toil all forwards do contend', '<  nativity, once in the main of light', \"<  crawls to maturity, wherewith being crown'd\", \"<  crooked eclipses 'gainst his glory fight\", '<  and time that gave doth now his gift confound', '<  time doth transfix the flourish set on yout', \"<  and delves the parallels in beauty's brow\", \"<  feeds on the rarities of nature's truth\", '<  and nothing stands but for his scythe to mow', '<    and yet to times in hope, my verse shall stand', '<    praising thy worth, despite his cruel hand', '<  is it thy will, thy image should keep ope', '<  my heavy eyelids to the weary night', '<  dost thou desire my slumbers should be broken', '<  while shadows like to thee do mock my sight', \"<  is it thy spirit that thou send'st from the\", '<  so far from home into my deeds to pry', '<  to find out shames and idle hours in me', '<  the scope and tenure of thy jealousy', '<  o, no! thy love, though much, is not so great', '<  it is my love that keeps mine eye awake', '<  mine own true love that doth my rest defeat', '<  to play the watchman ever for thy sake', '<    for thee watch i, whilst thou dost wake elsewhere', '<    from me far off, with others all too near', '<  sin of self-love possesseth all mine ey', '<  and all my soul, and all my every part', '<  and for this sin there is no remedy', '<  it is so grounded inward in my heart', '<  methinks no face so gracious is as mine', '<  no shape so true, no truth of such account', '<  and for myself mine own worth do define', '<  as i all other in all worths surmount', '<  but when my glass shows me myself indee', \"<  beated and chopp'd with tanned antiquity\", '<  mine own self-love quite contrary i read', '<  self so self-loving were iniquity', \"<    'tis thee,--myself,--that for myself i praise\", '<    painting my age with beauty of thy days', '<  against my love shall be as i am now', \"<  with time's injurious hand crush'd and o'erworn\", \"<  when hours have drain'd his blood and fill'd his bro\", '<  with lines and wrinkles; when his youthful mor', \"<  hath travell'd on to age's steepy night\", \"<  and all those beauties whereof now he's kin\", '<  are vanishing, or vanished out of sight', '<  stealing away the treasure of his spring', '<  for such a time do i now fortif', \"<  against confounding age's cruel knife\", '<  that he shall never cut from memor', \"<  my sweet love's beauty, though my lover's life\", '<    his beauty shall in these black lines be seen', '<    and they shall live, and he in them still green', \"<  when i have seen by time's fell hand defac'\", '<  the rich-proud cost of outworn buried age', \"<  when sometime lofty towers i see down-raz'd\", '<  and brass eternal slave to mortal rage', '<  when i have seen the hungry ocean gai', '<  advantage on the kingdom of the shore', '<  and the firm soil win of the watery main', '<  increasing store with loss, and loss with store', '<  when i have seen such interchange of state', '<  or state itself confounded, to decay', '<  ruin hath taught me thus to ruminate-', '<  that time will come and take my love away', '<    this thought is as a death which cannot choos', '<    but weep to have, that which it fears to lose', '<  since brass, nor stone, nor earth, nor boundless sea', \"<  but sad mortality o'ersways their power\", '<  how with this rage shall beauty hold a plea', '<  whose action is no stronger than a flower', \"<  o! how shall summer's honey breath hold out\", '<  against the wrackful siege of battering days', '<  when rocks impregnable are not so stout', '<  nor gates of steel so strong but time decays', '<  o fearful meditation! where, alack', \"<  shall time's best jewel from time's chest lie hid\", '<  or what strong hand can hold his swift foot back', '<  or who his spoil of beauty can forbid', '<    o! none, unless this miracle have might', '<    that in black ink my love may still shine bright', '<  tired with all these, for restful death i cry', '<  as to behold desert a beggar born', \"<  and needy nothing trimm'd in jollity\", '<  and purest faith unhappily forsworn', \"<  and gilded honour shamefully misplac'd\", '<  and maiden virtue rudely strumpeted', \"<  and right perfection wrongfully disgrac'd\", '<  and strength by limping sway disable', '<  and art made tongue-tied by authority', '<  and folly--doctor-like--controlling skill', \"<  and simple truth miscall'd simplicity\", '<  and captive good attending captain ill', \"<    tir'd with all these, from these would i be gone\", '<    save that, to die, i leave my love alone', '<  ah! wherefore with infection should he live', '<  and with his presence grace impiety', '<  that sin by him advantage should achieve', '<  and lace itself with his society', '<  why should false painting imitate his cheek', '<  and steel dead seeming of his living hue', '<  why should poor beauty indirectly see', '<  roses of shadow, since his rose is true', '<  why should he live, now nature bankrupt is', \"<  beggar'd of blood to blush through lively veins\", '<  for she hath no exchequer now but his', '<  and proud of many, lives upon his gains', '<    o! him she stores, to show what wealth she ha', '<    in days long since, before these last so bad', '<  thus is his cheek the map of days outworn', '<  when beauty lived and died as flowers do now', '<  before these bastard signs of fair were born', '<  or durst inhabit on a living brow', '<  before the golden tresses of the dead', '<  the right of sepulchres, were shorn away', '<  to live a second life on second head', \"<  ere beauty's dead fleece made another gay\", '<  in him those holy antique hours are seen', '<  without all ornament, itself and true', \"<  making no summer of another's green\", '<  robbing no old to dress his beauty new', '<    and him as for a map doth nature store', '<    to show false art what beauty was of yore', \"<  those parts of thee that the world's eye doth vie\", '<  want nothing that the thought of hearts can mend', '<  all tongues--the voice of souls--give thee that due', '<  uttering bare truth, even so as foes commend', \"<  thy outward thus with outward praise is crown'd\", '<  but those same tongues, that give thee so thine own', '<  in other accents do this praise confoun', '<  by seeing farther than the eye hath shown', '<  they look into the beauty of thy mind', '<  and that in guess they measure by thy deeds', '<  then--churls--their thoughts, although their eyes were kind', '<  to thy fair flower add the rank smell of weeds', '<    but why thy odour matcheth not thy show', '<    the soil is this, that thou dost common grow', \"<  that thou art blam'd shall not be thy defect\", \"<  for slander's mark was ever yet the fair\", '<  the ornament of beauty is suspect', \"<  a crow that flies in heaven's sweetest air\", '<  so thou be good, slander doth but approv', \"<  thy worth the greater being woo'd of time\", '<  for canker vice the sweetest buds doth love', \"<  and thou present'st a pure unstained prime\", '<  thou hast passed by the ambush of young day', \"<  either not assail'd, or victor being charg'd\", '<  yet this thy praise cannot be so thy praise', \"<  to tie up envy, evermore enlarg'd\", \"<    if some suspect of ill mask'd not thy show\", '<    then thou alone kingdoms of hearts shouldst owe', '<  no longer mourn for me when i am dea', '<  than you shall hear the surly sullen bel', '<  give warning to the world that i am fle', '<  from this vile world with vilest worms to dwell', '<  nay, if you read this line, remember no', '<  the hand that writ it, for i love you so', '<  that i in your sweet thoughts would be forgot', '<  if thinking on me then should make you woe', '<  o! if,--i say you look upon this verse', '<  when i perhaps compounded am with clay', '<  do not so much as my poor name rehearse', '<  but let your love even with my life decay', '<    lest the wise world should look into your moan', '<    and mock you with me after i am gone', '<  o! lest the world should task you to recit', '<  what merit lived in me, that you should lov', '<  after my death,--dear love, forget me quite', '<  for you in me can nothing worthy prove', '<  unless you would devise some virtuous lie', '<  to do more for me than mine own desert', '<  and hang more praise upon deceased ', '<  than niggard truth would willingly impart', '<  o! lest your true love may seem false in thi', '<  that you for love speak well of me untrue', '<  my name be buried where my body is', '<  and live no more to shame nor me nor you', '<    for i am shamed by that which i bring forth', '<    and so should you, to love things nothing worth', '<  that time of year thou mayst in me behol', '<  when yellow leaves, or none, or few, do han', '<  upon those boughs which shake against the cold', \"<  bare ruin'd choirs, where late the sweet birds sang\", \"<  in me thou see'st the twilight of such da\", '<  as after sunset fadeth in the west', '<  which by and by black night doth take away', \"<  death's second self, that seals up all in rest\", \"<  in me thou see'st the glowing of such fire\", '<  that on the ashes of his youth doth lie', '<  as the death-bed, whereon it must expire', \"<  consum'd with that which it was nourish'd by\", \"<    this thou perceiv'st, which makes thy love more strong\", '<    to love that well, which thou must leave ere long', '<  but be contented: when that fell arres', '<  without all bail shall carry me away', '<  my life hath in this line some interest', '<  which for memorial still with thee shall stay', '<  when thou reviewest this, thou dost revie', '<  the very part was consecrate to thee', '<  the earth can have but earth, which is his due', '<  my spirit is thine, the better part of me', '<  so then thou hast but lost the dregs of life', '<  the prey of worms, my body being dead', \"<  the coward conquest of a wretch's knife\", '<  too base of thee to be remembered', '<    the worth of that is that which it contains', '<    and that is this, and this with thee remains', '<  so are you to my thoughts as food to life', \"<  or as sweet-season'd showers are to the ground\", '<  and for the peace of you i hold such strif', \"<  as 'twixt a miser and his wealth is found\", '<  now proud as an enjoyer, and ano', '<  doubting the filching age will steal his treasure', '<  now counting best to be with you alone', \"<  then better'd that the world may see my pleasure\", '<  sometime all full with feasting on your sight', '<  and by and by clean starved for a look', '<  possessing or pursuing no delight', '<  save what is had, or must from you be took', '<    thus do i pine and surfeit day by day', '<    or gluttoning on all, or all away', '<  why is my verse so barren of new pride', '<  so far from variation or quick change', '<  why with the time do i not glance asid', '<  to new-found methods, and to compounds strange', '<  why write i still all one, ever the same', '<  and keep invention in a noted weed', '<  that every word doth almost tell my name', '<  showing their birth, and where they did proceed', '<  o! know sweet love i always write of you', '<  and you and love are still my argument', '<  so all my best is dressing old words new', '<  spending again what is already spent', '<    for as the sun is daily new and old', '<    so is my love still telling what is told', '<  thy glass will show thee how thy beauties wear', '<  thy dial how thy precious minutes waste', \"<  these vacant leaves thy mind's imprint will bear\", '<  and of this book, this learning mayst thou taste', '<  the wrinkles which thy glass will truly sho', '<  of mouthed graves will give thee memory', \"<  thou by thy dial's shady stealth mayst kno\", \"<  time's thievish progress to eternity\", '<  look! what thy memory cannot contain', '<  commit to these waste blanks, and thou shalt fin', \"<  those children nursed, deliver'd from thy brain\", '<  to take a new acquaintance of thy mind', '<    these offices, so oft as thou wilt look', '<    shall profit thee and much enrich thy book', '<  so oft have i invoked thee for my muse', '<  and found such fair assistance in my vers', '<  as every alien pen hath got my us', '<  and under thee their poesy disperse', '<  thine eyes, that taught the dumb on high to sin', '<  and heavy ignorance aloft to fly', \"<  have added feathers to the learned's win\", '<  and given grace a double majesty', '<  yet be most proud of that which i compile', '<  whose influence is thine, and born of thee', \"<  in others' works thou dost but mend the style\", '<  and arts with thy sweet graces graced be', '<    but thou art all my art, and dost advanc', '<    as high as learning, my rude ignorance', '<  whilst i alone did call upon thy aid', '<  my verse alone had all thy gentle grace', \"<  but now my gracious numbers are decay'd\", '<  and my sick muse doth give an other place', '<  i grant, sweet love, thy lovely argumen', '<  deserves the travail of a worthier pen', '<  yet what of thee thy poet doth inven', '<  he robs thee of, and pays it thee again', '<  he lends thee virtue, and he stole that wor', '<  from thy behaviour; beauty doth he give', '<  and found it in thy cheek: he can affor', '<  no praise to thee, but what in thee doth live', '<    then thank him not for that which he doth say', '<    since what he owes thee, thou thyself dost pay', '<  o! how i faint when i of you do write', '<  knowing a better spirit doth use your name', '<  and in the praise thereof spends all his might', '<  to make me tongue-tied speaking of your fame', '<  but since your worth--wide as the ocean is,-', '<  the humble as the proudest sail doth bear', '<  my saucy bark, inferior far to his', '<  on your broad main doth wilfully appear', '<  your shallowest help will hold me up afloat', '<  whilst he upon your soundless deep doth ride', \"<  or, being wrack'd, i am a worthless boat\", '<  he of tall building, and of goodly pride', '<    then if he thrive and i be cast away', '<    the worst was this,--my love was my decay', '<  or i shall live your epitaph to make', '<  or you survive when i in earth am rotten', '<  from hence your memory death cannot take', '<  although in me each part will be forgotten', '<  your name from hence immortal life shall have', '<  though i, once gone, to all the world must die', '<  the earth can yield me but a common grave', \"<  when you entombed in men's eyes shall lie\", '<  your monument shall be my gentle verse', \"<  which eyes not yet created shall o'er-read\", '<  and tongues to be, your being shall rehearse', '<  when all the breathers of this world are dead', '<    you still shall live,--such virtue hath my pen,-', '<    where breath most breathes, even in the mouths of men', '<  i grant thou wert not married to my muse', \"<  and therefore mayst without attaint o'erloo\", '<  the dedicated words which writers us', '<  of their fair subject, blessing every book', '<  thou art as fair in knowledge as in hue', '<  finding thy worth a limit past my praise', '<  and therefore art enforced to seek ane', '<  some fresher stamp of the time-bettering days', \"<  and do so, love; yet when they have devis'd\", '<  what strained touches rhetoric can lend', \"<  thou truly fair, wert truly sympathiz'\", '<  in true plain words, by thy true-telling friend', \"<    and their gross painting might be better us'\", \"<    where cheeks need blood; in thee it is abus'd\", '<  i never saw that you did painting need', '<  and therefore to your fair no painting set', '<  i found, or thought i found, you did excee', \"<  that barren tender of a poet's debt\", '<  and therefore have i slept in your report', '<  that you yourself, being extant, well might sho', '<  how far a modern quill doth come too short', '<  speaking of worth, what worth in you doth grow', '<  this silence for my sin you did impute', '<  which shall be most my glory being dumb', '<  for i impair not beauty being mute', '<  when others would give life, and bring a tomb', '<    there lives more life in one of your fair eye', '<    than both your poets can in praise devise', '<  who is it that says most, which can say more', '<  than this rich praise,--that you alone, are you', '<  in whose confine immured is the stor', '<  which should example where your equal grew', '<  lean penury within that pen doth dwel', '<  that to his subject lends not some small glory', '<  but he that writes of you, if he can tel', '<  that you are you, so dignifies his story', '<  let him but copy what in you is writ', '<  not making worse what nature made so clear', '<  and such a counterpart shall fame his wit', '<  making his style admired every where', '<    you to your beauteous blessings add a curse', '<    being fond on praise, which makes your praises worse', '<  my tongue-tied muse in manners holds her still', \"<  while comments of your praise richly compil'd\", '<  reserve their character with golden quill', \"<  and precious phrase by all the muses fil'd\", '<  i think good thoughts, whilst others write good words', \"<  and like unlettered clerk still cry 'amen\", '<  to every hymn that able spirit affords', \"<  in polish'd form of well-refined pen\", \"<  hearing you praised, i say ''tis so, 'tis true,\", '<  and to the most of praise add something more', '<  but that is in my thought, whose love to you', '<  though words come hindmost, holds his rank before', '<    then others, for the breath of words respect', '<    me for my dumb thoughts, speaking in effect', '<  was it the proud full sail of his great verse', '<  bound for the prize of all too precious you', '<  that did my ripe thoughts in my brain inhearse', '<  making their tomb the womb wherein they grew', '<  was it his spirit, by spirits taught to write', '<  above a mortal pitch, that struck me dead', '<  no, neither he, nor his compeers by nigh', '<  giving him aid, my verse astonished', '<  he, nor that affable familiar ghos', '<  which nightly gulls him with intelligence', '<  as victors of my silence cannot boast', '<  i was not sick of any fear from thence', \"<    but when your countenance fill'd up his line\", '<    then lacked i matter; that enfeebled mine', '<  farewell! thou art too dear for my possessing', \"<  and like enough thou know'st thy estimate\", '<  the charter of thy worth gives thee releasing', '<  my bonds in thee are all determinate', '<  for how do i hold thee but by thy granting', '<  and for that riches where is my deserving', '<  the cause of this fair gift in me is wanting', '<  and so my patent back again is swerving', \"<  thy self thou gav'st, thy own worth then not knowing\", \"<  or me to whom thou gav'st it, else mistaking\", '<  so thy great gift, upon misprision growing', '<  comes home again, on better judgement making', '<    thus have i had thee, as a dream doth flatter', '<    in sleep a king, but waking no such matter', \"<  when thou shalt be dispos'd to set me light\", '<  and place my merit in the eye of scorn', \"<  upon thy side, against myself i'll fight\", '<  and prove thee virtuous, though thou art forsworn', '<  with mine own weakness, being best acquainted', '<  upon thy part i can set down a stor', \"<  of faults conceal'd, wherein i am attainted\", '<  that thou in losing me shalt win much glory', '<  and i by this will be a gainer too', '<  for bending all my loving thoughts on thee', '<  the injuries that to myself i do', '<  doing thee vantage, double-vantage me', '<    such is my love, to thee i so belong', '<    that for thy right, myself will bear all wrong', '<  say that thou didst forsake me for some fault', '<  and i will comment upon that offence', '<  speak of my lameness, and i straight will halt', '<  against thy reasons making no defence', '<  thou canst not love disgrace me half so ill', '<  to set a form upon desired change', \"<  as i'll myself disgrace; knowing thy will\", '<  i will acquaintance strangle, and look strange', '<  be absent from thy walks; and in my tongu', '<  thy sweet beloved name no more shall dwell', '<  lest i, too much profane, should do it wrong', '<  and haply of our old acquaintance tell', \"<    for thee, against my self i'll vow debate\", \"<    for i must ne'er love him whom thou dost hate\", '<  then hate me when thou wilt; if ever, now', '<  now, while the world is bent my deeds to cross', '<  join with the spite of fortune, make me bow', '<  and do not drop in for an after-loss', \"<  ah! do not, when my heart hath 'scap'd this sorrow\", \"<  come in the rearward of a conquer'd woe\", '<  give not a windy night a rainy morrow', \"<  to linger out a purpos'd overthrow\", '<  if thou wilt leave me, do not leave me last', '<  when other petty griefs have done their spite', '<  but in the onset come: so shall i tast', \"<  at first the very worst of fortune's might\", '<    and other strains of woe, which now seem woe', \"<    compar'd with loss of thee, will not seem so\", '<  some glory in their birth, some in their skill', \"<  some in their wealth, some in their body's force\", '<  some in their garments though new-fangled ill', '<  some in their hawks and hounds, some in their horse', '<  and every humour hath his adjunct pleasure', '<  wherein it finds a joy above the rest', '<  but these particulars are not my measure', '<  all these i better in one general best', '<  thy love is better than high birth to me', \"<  richer than wealth, prouder than garments' costs\", '<  of more delight than hawks and horses be', \"<  and having thee, of all men's pride i boast\", '<    wretched in this alone, that thou mayst tak', '<    all this away, and me most wretchcd make', '<  but do thy worst to steal thyself away', '<  for term of life thou art assured mine', '<  and life no longer than thy love will stay', '<  for it depends upon that love of thine', '<  then need i not to fear the worst of wrongs', '<  when in the least of them my life hath end', '<  i see a better state to me belong', '<  than that which on thy humour doth depend', '<  thou canst not vex me with inconstant mind', '<  since that my life on thy revolt doth lie', '<  o! what a happy title do i find', '<  happy to have thy love, happy to die', \"<    but what's so blessed-fair that fears no blot\", '<    thou mayst be false, and yet i know it not', '<  so shall i live, supposing thou art true', \"<  like a deceived husband; so love's fac\", \"<  may still seem love to me, though alter'd new\", '<  thy looks with me, thy heart in other place', '<  for there can live no hatred in thine eye', '<  therefore in that i cannot know thy change', \"<  in many's looks, the false heart's histor\", '<  is writ in moods, and frowns, and wrinkles strange', '<  but heaven in thy creation did decre', '<  that in thy face sweet love should ever dwell', \"<  whate'er thy thoughts, or thy heart's workings be\", '<  thy looks should nothing thence, but sweetness tell', \"<    how like eve's apple doth thy beauty grow\", '<    if thy sweet virtue answer not thy show', '<  they that have power to hurt, and will do none', '<  that do not do the thing they most do show', '<  who, moving others, are themselves as stone', '<  unmoved, cold, and to temptation slow', \"<  they rightly do inherit heaven's graces\", \"<  and husband nature's riches from expense\", '<  they are the lords and owners of their faces', '<  others, but stewards of their excellence', \"<  the summer's flower is to the summer sweet\", '<  though to itself, it only live and die', '<  but if that flower with base infection meet', '<  the basest weed outbraves his dignity', '<    for sweetest things turn sourest by their deeds', '<    lilies that fester, smell far worse than weeds', '<  how sweet and lovely dost thou make the sham', '<  which, like a canker in the fragrant rose', '<  doth spot the beauty of thy budding name', '<  o! in what sweets dost thou thy sins enclose', '<  that tongue that tells the story of thy days', '<  making lascivious comments on thy sport', '<  cannot dispraise, but in a kind of praise', '<  naming thy name, blesses an ill report', '<  o! what a mansion have those vices go', '<  which for their habitation chose out thee', \"<  where beauty's veil doth cover every blo\", '<  and all things turns to fair that eyes can see', '<    take heed, dear heart, of this large privilege', \"<    the hardest knife ill-us'd doth lose his edge\", '<  some say thy fault is youth, some wantonness', '<  some say thy grace is youth and gentle sport', \"<  both grace and faults are lov'd of more and less\", \"<  thou mak'st faults graces that to thee resort\", '<  as on the finger of a throned quee', \"<  the basest jewel will be well esteem'd\", '<  so are those errors that in thee are see', \"<  to truths translated, and for true things deem'd\", '<  how many lambs might the stern wolf betray', '<  if like a lamb he could his looks translate', '<  how many gazers mightst thou lead away', '<  if thou wouldst use the strength of all thy state', '<    but do not so; i love thee in such sort', '<    as, thou being mine, mine is thy good report', '<  how like a winter hath my absence bee', '<  from thee, the pleasure of the fleeting year', '<  what freezings have i felt, what dark days seen', \"<  what old december's bareness everywhere\", \"<  and yet this time removed was summer's time\", '<  the teeming autumn, big with rich increase', '<  bearing the wanton burden of the prime', \"<  like widow'd wombs after their lords' decease\", \"<  yet this abundant issue seem'd to m\", \"<  but hope of orphans, and unfather'd fruit\", '<  for summer and his pleasures wait on thee', '<  and, thou away, the very birds are mute', \"<    or, if they sing, 'tis with so dull a cheer\", \"<    that leaves look pale, dreading the winter's near\", '<  from you have i been absent in the spring', \"<  when proud-pied april, dress'd in all his trim\", '<  hath put a spirit of youth in every thing', \"<  that heavy saturn laugh'd and leap'd with him\", '<  yet nor the lays of birds, nor the sweet smel', '<  of different flowers in odour and in hue', \"<  could make me any summer's story tell\", '<  or from their proud lap pluck them where they grew', \"<  nor did i wonder at the lily's white\", '<  nor praise the deep vermilion in the rose', '<  they were but sweet, but figures of delight', '<  drawn after you, you pattern of all those', \"<    yet seem'd it winter still, and you away\", '<    as with your shadow i with these did play', '<  the forward violet thus did i chide', '<  sweet thief, whence didst thou steal thy sweet that smells', \"<  if not from my love's breath? the purple prid\", '<  which on thy soft cheek for complexion dwell', \"<  in my love's veins thou hast too grossly dy'd\", '<  the lily i condemned for thy hand', \"<  and buds of marjoram had stol'n thy hair\", '<  the roses fearfully on thorns did stand', '<  one blushing shame, another white despair', \"<  a third, nor red nor white, had stol'n of both\", \"<  and to his robbery had annex'd thy breath\", '<  but, for his theft, in pride of all his growt', '<  a vengeful canker eat him up to death', '<    more flowers i noted, yet i none could see', \"<    but sweet, or colour it had stol'n from thee\", \"<  where art thou muse that thou forget'st so long\", '<  to speak of that which gives thee all thy might', \"<  spend'st thou thy fury on some worthless song\", '<  darkening thy power to lend base subjects light', '<  return forgetful muse, and straight redeem', '<  in gentle numbers time so idly spent', '<  sing to the ear that doth thy lays estee', '<  and gives thy pen both skill and argument', \"<  rise, resty muse, my love's sweet face survey\", '<  if time have any wrinkle graven there', '<  if any, be a satire to decay', \"<  and make time's spoils despised every where\", '<    give my love fame faster than time wastes life', \"<    so thou prevent'st his scythe and crooked knife\", '<  o truant muse what shall be thy amend', \"<  for thy neglect of truth in beauty dy'd\", '<  both truth and beauty on my love depends', '<  so dost thou too, and therein dignified', '<  make answer muse: wilt thou not haply say', \"<  'truth needs no colour, with his colour fix'd\", \"<  beauty no pencil, beauty's truth to lay\", \"<  but best is best, if never intermix'd'\", '<  because he needs no praise, wilt thou be dumb', \"<  excuse not silence so, for't lies in the\", '<  to make him much outlive a gilded tom', \"<  and to be prais'd of ages yet to be\", '<    then do thy office, muse; i teach thee ho', '<    to make him seem long hence as he shows now', \"<  my love is strengthen'd, though more weak in seeming\", '<  i love not less, though less the show appear', \"<  that love is merchandiz'd, whose rich esteeming\", \"<  the owner's tongue doth publish every where\", '<  our love was new, and then but in the spring', '<  when i was wont to greet it with my lays', \"<  as philomel in summer's front doth sing\", '<  and stops her pipe in growth of riper days', '<  not that the summer is less pleasant no', '<  than when her mournful hymns did hush the night', '<  but that wild music burthens every bough', '<  and sweets grown common lose their dear delight', '<    therefore like her, i sometime hold my tongue', '<    because i would not dull you with my song', '<  alack! what poverty my muse brings forth', '<  that having such a scope to show her pride', '<  the argument, all bare, is of more wort', '<  than when it hath my added praise beside', '<  o! blame me not, if i no more can write', '<  look in your glass, and there appears a fac', '<  that over-goes my blunt invention quite', '<  dulling my lines, and doing me disgrace', '<  were it not sinful then, striving to mend', '<  to mar the subject that before was well', '<  for to no other pass my verses ten', '<  than of your graces and your gifts to tell', '<    and more, much more, than in my verse can sit', '<    your own glass shows you when you look in it', '<  to me, fair friend, you never can be old', \"<  for as you were when first your eye i ey'd\", '<  such seems your beauty still. three winters cold', \"<  have from the forests shook three summers' pride\", \"<  three beauteous springs to yellow autumn turn'd\", '<  in process of the seasons have i seen', \"<  three april perfumes in three hot junes burn'd\", '<  since first i saw you fresh, which yet are green', '<  ah! yet doth beauty like a dial-hand', \"<  steal from his figure, and no pace perceiv'd\", '<  so your sweet hue, which methinks still doth stand', \"<  hath motion, and mine eye may be deceiv'd\", '<    for fear of which, hear this thou age unbred', \"<    ere you were born was beauty's summer dead\", \"<  let not my love be call'd idolatry\", '<  nor my beloved as an idol show', '<  since all alike my songs and praises b', '<  to one, of one, still such, and ever so', '<  kind is my love to-day, to-morrow kind', '<  still constant in a wondrous excellence', \"<  therefore my verse to constancy confin'd\", '<  one thing expressing, leaves out difference', \"<  'fair, kind, and true,' is all my argument\", \"<  'fair, kind, and true,' varying to other words\", '<  and in this change is my invention spent', '<  three themes in one, which wondrous scope affords', \"<    fair, kind, and true, have often liv'd alone\", '<    which three till now, never kept seat in one', '<  when in the chronicle of wasted tim', '<  i see descriptions of the fairest wights', '<  and beauty making beautiful old rime', '<  in praise of ladies dead and lovely knights', \"<  then, in the blazon of sweet beauty's best\", '<  of hand, of foot, of lip, of eye, of brow', \"<  i see their antique pen would have express'\", '<  even such a beauty as you master now', '<  so all their praises are but prophecie', '<  of this our time, all you prefiguring', '<  and for they looked but with divining eyes', '<  they had not skill enough your worth to sing', '<    for we, which now behold these present days', '<    have eyes to wonder, but lack tongues to praise', '<  not mine own fears, nor the prophetic sou', '<  of the wide world dreaming on things to come', '<  can yet the lease of my true love control', \"<  supposed as forfeit to a confin'd doom\", \"<  the mortal moon hath her eclipse endur'd\", '<  and the sad augurs mock their own presage', \"<  incertainties now crown themselves assur'd\", '<  and peace proclaims olives of endless age', '<  now with the drops of this most balmy time', '<  my love looks fresh, and death to me subscribes', \"<  since, spite of him, i'll live in this poor rime\", \"<  while he insults o'er dull and speechless tribes\", '<    and thou in this shalt find thy monument', \"<    when tyrants' crests and tombs of brass are spent\", \"<  what's in the brain, that ink may character\", \"<  which hath not figur'd to thee my true spirit\", \"<  what's new to speak, what now to register\", '<  that may express my love, or thy dear merit', '<  nothing, sweet boy; but yet, like prayers divine', \"<  i must each day say o'er the very same\", '<  counting no old thing old, thou mine, i thine', \"<  even as when first i hallow'd thy fair name\", \"<  so that eternal love in love's fresh case\", '<  weighs not the dust and injury of age', '<  nor gives to necessary wrinkles place', '<  but makes antiquity for aye his page', '<    finding the first conceit of love there bred', '<    where time and outward form would show it dead', '<  o! never say that i was false of heart', \"<  though absence seem'd my flame to qualify\", '<  as easy might i from my self depar', '<  as from my soul which in thy breast doth lie', \"<  that is my home of love: if i have rang'd\", '<  like him that travels, i return again', \"<  just to the time, not with the time exchang'd\", '<  so that myself bring water for my stain', \"<  never believe though in my nature reign'd\", '<  all frailties that besiege all kinds of blood', \"<  that it could so preposterously be stain'd\", '<  to leave for nothing all thy sum of good', '<    for nothing this wide universe i call', '<    save thou, my rose, in it thou art my all', \"<  alas! 'tis true, i have gone here and there\", '<  and made my self a motley to the view', \"<  gor'd mine own thoughts, sold cheap what is most dear\", '<  made old offences of affections new', \"<  most true it is, that i have look'd on trut\", '<  askance and strangely; but, by all above', '<  these blenches gave my heart another youth', \"<  and worse essays prov'd thee my best of love\", '<  now all is done, save what shall have no end', '<  mine appetite i never more will grin', '<  on newer proof, to try an older friend', \"<  a god in love, to whom i am confin'd\", '<    then give me welcome, next my heaven the best', '<    even to thy pure and most most loving breast', '<  o! for my sake do you with fortune chide', '<  the guilty goddess of my harmful deeds', '<  that did not better for my life provid', '<  than public means which public manners breeds', '<  thence comes it that my name receives a brand', \"<  and almost thence my nature is subdu'\", \"<  to what it works in, like the dyer's hand\", \"<  pity me, then, and wish i were renew'd\", '<  whilst, like a willing patient, i will drink', \"<  potions of eisel 'gainst my strong infection\", '<  no bitterness that i will bitter think', '<  nor double penance, to correct correction', '<    pity me then, dear friend, and i assure ye', '<    even that your pity is enough to cure me', '<  your love and pity doth the impression fill', \"<  which vulgar scandal stamp'd upon my brow\", '<  for what care i who calls me well or ill', \"<  so you o'er-green my bad, my good allow\", '<  you are my all-the-world, and i must striv', '<  to know my shames and praises from your tongue', '<  none else to me, nor i to none alive', \"<  that my steel'd sense or changes right or wrong\", '<  in so profound abysm i throw all car', \"<  of others' voices, that my adder's sens\", '<  to critic and to flatterer stopped are', '<  mark how with my neglect i do dispense', '<    you are so strongly in my purpose bred', '<    that all the world besides methinks are dead', '<  since i left you, mine eye is in my mind', '<  and that which governs me to go abou', '<  doth part his function and is partly blind', '<  seems seeing, but effectually is out', '<  for it no form delivers to the hear', '<  of bird, of flower, or shape which it doth latch', '<  of his quick objects hath the mind no part', '<  nor his own vision holds what it doth catch', \"<  for if it see the rud'st or gentlest sight\", \"<  the most sweet favour or deformed'st creature\", '<  the mountain or the sea, the day or night', '<  the crow, or dove, it shapes them to your feature', '<    incapable of more, replete with you', '<    my most true mind thus maketh mine untrue', \"<  or whether doth my mind, being crown'd with you\", \"<  drink up the monarch's plague, this flattery\", '<  or whether shall i say, mine eye saith true', '<  and that your love taught it this alchemy', '<  to make of monsters and things indiges', '<  such cherubins as your sweet self resemble', '<  creating every bad a perfect best', '<  as fast as objects to his beams assemble', \"<  o! 'tis the first, 'tis flattery in my seeing\", '<  and my great mind most kingly drinks it up', \"<  mine eye well knows what with his gust is 'greeing\", '<  and to his palate doth prepare the cup', \"<    if it be poison'd, 'tis the lesser si\", '<    that mine eye loves it and doth first begin', '<  those lines that i before have writ do lie', '<  even those that said i could not love you dearer', '<  yet then my judgment knew no reason wh', '<  my most full flame should afterwards burn clearer', \"<  but reckoning time, whose million'd accident\", \"<  creep in 'twixt vows, and change decrees of kings\", \"<  tan sacred beauty, blunt the sharp'st intents\", '<  divert strong minds to the course of altering things', \"<  alas! why fearing of time's tyranny\", \"<  might i not then say, 'now i love you best,\", \"<  when i was certain o'er incertainty\", '<  crowning the present, doubting of the rest', '<    love is a babe, then might i not say so', '<    to give full growth to that which still doth grow', '<  let me not to the marriage of true mind', '<  admit impediments. love is not lov', '<  which alters when it alteration finds', '<  or bends with the remover to remove', '<  o, no! it is an ever-fixed mark', '<  that looks on tempests and is never shaken', '<  it is the star to every wandering bark', \"<  whose worth's unknown, although his height be taken\", \"<  love's not time's fool, though rosy lips and cheek\", \"<  within his bending sickle's compass come\", '<  love alters not with his brief hours and weeks', '<  but bears it out even to the edge of doom', \"<    if this be error and upon me prov'd\", \"<    i never writ, nor no man ever lov'd\", '<  accuse me thus: that i have scanted all', '<  wherein i should your great deserts repay', '<  forgot upon your dearest love to call', '<  whereto all bonds do tie me day by day', '<  that i have frequent been with unknown minds', \"<  and given to time your own dear-purchas'd right\", '<  that i have hoisted sail to all the wind', '<  which should transport me farthest from your sight', '<  book both my wilfulness and errors down', '<  and on just proof surmise, accumulate', '<  bring me within the level of your frown', \"<  but shoot not at me in your waken'd hate\", '<    since my appeal says i did strive to prov', '<    the constancy and virtue of your love', '<  like as, to make our appetite more keen', '<  with eager compounds we our palate urge', '<  as, to prevent our maladies unseen', '<  we sicken to shun sickness when we purge', \"<  even so, being full of your ne'er-cloying sweetness\", '<  to bitter sauces did i frame my feeding', '<  and, sick of welfare, found a kind of meetnes', \"<  to be diseas'd, ere that there was true needing\", '<  thus policy in love, to anticipat', \"<  the ills that were not, grew to faults assur'd\", '<  and brought to medicine a healthful stat', \"<  which, rank of goodness, would by ill be cur'd\", '<    but thence i learn and find the lesson true', '<    drugs poison him that so fell sick of you', '<  what potions have i drunk of siren tears', \"<  distill'd from limbecks foul as hell within\", '<  applying fears to hopes, and hopes to fears', '<  still losing when i saw myself to win', '<  what wretched errors hath my heart committed', '<  whilst it hath thought itself so blessed never', '<  how have mine eyes out of their spheres been fitted', '<  in the distraction of this madding fever', '<  o benefit of ill! now i find tru', '<  that better is, by evil still made better', \"<  and ruin'd love, when it is built anew\", '<  grows fairer than at first, more strong, far greater', \"<    so i return rebuk'd to my content\", '<    and gain by ill thrice more than i have spent', '<  that you were once unkind befriends me now', '<  and for that sorrow, which i then did feel', '<  needs must i under my transgression bow', \"<  unless my nerves were brass or hammer'd steel\", '<  for if you were by my unkindness shaken', \"<  as i by yours, you've pass'd a hell of time\", '<  and i, a tyrant, have no leisure take', \"<  to weigh how once i suffer'd in your crime\", \"<  o! that our night of woe might have remember'\", '<  my deepest sense, how hard true sorrow hits', \"<  and soon to you, as you to me, then tender'\", '<  the humble salve, which wounded bosoms fits', '<    but that your trespass now becomes a fee', '<    mine ransoms yours, and yours must ransom me', \"<  'tis better to be vile than vile esteem'd\", '<  when not to be receives reproach of being', \"<  and the just pleasure lost, which is so deem'\", \"<  not by our feeling, but by others' seeing\", \"<  for why should others' false adulterate eye\", '<  give salutation to my sportive blood', '<  or on my frailties why are frailer spies', '<  which in their wills count bad what i think good', '<  no, i am that i am, and they that leve', '<  at my abuses reckon up their own', '<  i may be straight though they themselves be bevel', '<  by their rank thoughts, my deeds must not be shown', '<    unless this general evil they maintain', '<    all men are bad and in their badness reign', '<  thy gift, thy tables, are within my brai', \"<  full character'd with lasting memory\", '<  which shall above that idle rank remain', '<  beyond all date; even to eternity', '<  or, at the least, so long as brain and hear', '<  have faculty by nature to subsist', \"<  till each to raz'd oblivion yield his par\", \"<  of thee, thy record never can be miss'd\", '<  that poor retention could not so much hold', '<  nor need i tallies thy dear love to score', '<  therefore to give them from me was i bold', '<  to trust those tables that receive thee more', '<    to keep an adjunct to remember the', '<    were to import forgetfulness in me', '<  no, time, thou shalt not boast that i do change', '<  thy pyramids built up with newer migh', '<  to me are nothing novel, nothing strange', '<  they are but dressings of a former sight', '<  our dates are brief, and therefore we admir', '<  what thou dost foist upon us that is old', '<  and rather make them born to our desir', '<  than think that we before have heard them told', '<  thy registers and thee i both defy', '<  not wondering at the present nor the past', '<  for thy records and what we see doth lie', '<  made more or less by thy continual haste', '<    this i do vow and this shall ever be', '<    i will be true despite thy scythe and thee', '<  if my dear love were but the child of state', \"<  it might for fortune's bastard be unfather'd\", \"<  as subject to time's love or to time's hate\", \"<  weeds among weeds, or flowers with flowers gather'd\", '<  no, it was builded far from accident', '<  it suffers not in smiling pomp, nor fall', '<  under the blow of thralled discontent', \"<  whereto th' inviting time our fashion calls\", '<  it fears not policy, that heretic', \"<  which works on leases of short-number'd hours\", '<  but all alone stands hugely politic', '<  that it nor grows with heat, nor drowns with showers', '<    to this i witness call the fools of time', '<    which die for goodness, who have lived for crime', \"<  were't aught to me i bore the canopy\", '<  with my extern the outward honouring', '<  or laid great bases for eternity', '<  which proves more short than waste or ruining', '<  have i not seen dwellers on form and favou', '<  lose all and more by paying too much ren', '<  for compound sweet; forgoing simple savour', '<  pitiful thrivers, in their gazing spent', '<  no; let me be obsequious in thy heart', '<  and take thou my oblation, poor but free', \"<  which is not mix'd with seconds, knows no art\", '<  but mutual render, only me for thee', '<    hence, thou suborned informer! a true sou', \"<    when most impeach'd, stands least in thy control\", '<  o thou, my lovely boy, who in thy powe', \"<  dost hold time's fickle glass, his fickle hour\", \"<  who hast by waning grown, and therein show's\", \"<  thy lovers withering, as thy sweet self grow'st\", '<  if nature, sovereign mistress over wrack', '<  as thou goest onwards, still will pluck thee back', '<  she keeps thee to this purpose, that her skil', '<  may time disgrace and wretched minutes kill', '<  yet fear her, o thou minion of her pleasure', '<  she may detain, but not still keep, her treasure', '<    her audit (though delayed) answered must be', '<    and her quietus is to render thee', '<  in the old age black was not counted fair', \"<  or if it were, it bore not beauty's name\", \"<  but now is black beauty's successive heir\", \"<  and beauty slander'd with a bastard shame\", \"<  for since each hand hath put on nature's power\", \"<  fairing the foul with art's false borrowed face\", '<  sweet beauty hath no name, no holy bower', \"<  but is profan'd, if not lives in disgrace\", \"<  therefore my mistress' eyes are raven black\", '<  her eyes so suited, and they mourners see', '<  at such who, not born fair, no beauty lack', \"<  sland'ring creation with a false esteem\", '<    yet so they mourn becoming of their woe', '<    that every tongue says beauty should look so', \"<  how oft when thou, my music, music play'st\", '<  upon that blessed wood whose motion sound', \"<  with thy sweet fingers when thou gently sway's\", '<  the wiry concord that mine ear confounds', '<  do i envy those jacks that nimble leap', '<  to kiss the tender inward of thy hand', '<  whilst my poor lips which should that harvest reap', \"<  at the wood's boldness by thee blushing stand\", '<  to be so tickled, they would change their stat', '<  and situation with those dancing chips', \"<  o'er whom thy fingers walk with gentle gait\", \"<  making dead wood more bless'd than living lips\", '<    since saucy jacks so happy are in this', '<    give them thy fingers, me thy lips to kiss', '<  the expense of spirit in a waste of sham', '<  is lust in action: and till action, lus', \"<  is perjur'd, murderous, bloody, full of blame\", '<  savage, extreme, rude, cruel, not to trust', \"<  enjoy'd no sooner but despised straight\", '<  past reason hunted; and no sooner had', \"<  past reason hated, as a swallow'd bait\", '<  on purpose laid to make the taker mad', '<  mad in pursuit and in possession so', '<  had, having, and in quest, to have extreme', \"<  a bliss in proof,-- and prov'd, a very woe\", \"<  before, a joy propos'd; behind a dream\", '<    all this the world well knows; yet none knows wel', '<    to shun the heaven that leads men to this hell', \"<  my mistress' eyes are nothing like the sun\", '<  coral is far more red, than her lips red', '<  if snow be white, why then her breasts are dun', '<  if hairs be wires, black wires grow on her head', \"<  i have seen roses damask'd, red and white\", '<  but no such roses see i in her cheeks', '<  and in some perfumes is there more deligh', '<  than in the breath that from my mistress reeks', '<  i love to hear her speak, yet well i kno', '<  that music hath a far more pleasing sound', '<  i grant i never saw a goddess go,-', '<  my mistress, when she walks, treads on the ground', '<    and yet by heaven, i think my love as rare', '<    as any she belied with false compare', '<  thou art as tyrannous, so as thou art', '<  as those whose beauties proudly make them cruel', \"<  for well thou know'st to my dear doting hear\", '<  thou art the fairest and most precious jewel', '<  yet, in good faith, some say that thee behold', '<  thy face hath not the power to make love groan', '<  to say they err i dare not be so bold', '<  although i swear it to myself alone', '<  and to be sure that is not false i swear', '<  a thousand groans, but thinking on thy face', \"<  one on another's neck, do witness bea\", \"<  thy black is fairest in my judgment's place\", '<    in nothing art thou black save in thy deeds', '<    and thence this slander, as i think, proceeds', '<  thine eyes i love, and they, as pitying me', '<  knowing thy heart torment me with disdain', '<  have put on black and loving mourners be', '<  looking with pretty ruth upon my pain', '<  and truly not the morning sun of heave', '<  better becomes the grey cheeks of the east', '<  nor that full star that ushers in the even', '<  doth half that glory to the sober west', '<  as those two mourning eyes become thy face', '<  o! let it then as well beseem thy hear', '<  to mourn for me since mourning doth thee grace', '<  and suit thy pity like in every part', '<    then will i swear beauty herself is black', '<    and all they foul that thy complexion lack', '<  beshrew that heart that makes my heart to groa', '<  for that deep wound it gives my friend and me', \"<  is't not enough to torture me alone\", \"<  but slave to slavery my sweet'st friend must be\", '<  me from myself thy cruel eye hath taken', \"<  and my next self thou harder hast engross'd\", '<  of him, myself, and thee i am forsaken', \"<  a torment thrice three-fold thus to be cross'd\", \"<  prison my heart in thy steel bosom's ward\", \"<  but then my friend's heart let my poor heart bail\", \"<  whoe'er keeps me, let my heart be his guard\", '<  thou canst not then use rigour in my jail', '<    and yet thou wilt; for i, being pent in thee', '<    perforce am thine, and all that is in me', \"<  so, now i have confess'd that he is thine\", \"<  and i my self am mortgag'd to thy will\", \"<  myself i'll forfeit, so that other min\", '<  thou wilt restore to be my comfort still', '<  but thou wilt not, nor he will not be free', '<  for thou art covetous, and he is kind', \"<  he learn'd but surety-like to write for me\", '<  under that bond that him as fast doth bind', '<  the statute of thy beauty thou wilt take', \"<  thou usurer, that putt'st forth all to use\", '<  and sue a friend came debtor for my sake', '<  so him i lose through my unkind abuse', '<    him have i lost; thou hast both him and me', '<    he pays the whole, and yet am i not free', \"<  whoever hath her wish, thou hast thy 'will,\", \"<  and 'will' to boot, and 'will' in over-plus\", \"<  more than enough am i that vex'd thee still\", '<  to thy sweet will making addition thus', '<  wilt thou, whose will is large and spacious', '<  not once vouchsafe to hide my will in thine', '<  shall will in others seem right gracious', '<  and in my will no fair acceptance shine', '<  the sea, all water, yet receives rain still', '<  and in abundance addeth to his store', \"<  so thou, being rich in 'will,' add to thy 'will\", '<  one will of mine, to make thy large will more', \"<    let no unkind 'no' fair beseechers kill\", \"<    think all but one, and me in that one 'will.\", '<  if thy soul check thee that i come so near', \"<  swear to thy blind soul that i was thy 'will'\", '<  and will, thy soul knows, is admitted there', '<  thus far for love, my love-suit, sweet, fulfil', \"<  'will', will fulfil the treasure of thy love\", '<  ay, fill it full with wills, and my will one', '<  in things of great receipt with ease we prov', \"<  among a number one is reckon'd none\", '<  then in the number let me pass untold', \"<  though in thy store's account i one must be\", '<  for nothing hold me, so it please thee hol', '<  that nothing me, a something sweet to thee', '<    make but my name thy love, and love that still', \"<    and then thou lov'st me for my name is 'will.\", '<  thou blind fool, love, what dost thou to mine eyes', '<  that they behold, and see not what they see', '<  they know what beauty is, see where it lies', '<  yet what the best is take the worst to be', '<  if eyes, corrupt by over-partial looks', \"<  be anchor'd in the bay where all men ride\", \"<  why of eyes' falsehood hast thou forged hooks\", '<  whereto the judgment of my heart is tied', '<  why should my heart think that a several plot', \"<  which my heart knows the wide world's common place\", '<  or mine eyes, seeing this, say this is not', '<  to put fair truth upon so foul a face', \"<    in things right true my heart and eyes have err'd\", \"<    and to this false plague are they now transferr'd\", '<  when my love swears that she is made of truth', '<  i do believe her though i know she lies', \"<  that she might think me some untutor'd youth\", \"<  unlearned in the world's false subtleties\", '<  thus vainly thinking that she thinks me young', '<  although she knows my days are past the best', '<  simply i credit her false-speaking tongue', '<  on both sides thus is simple truth suppressed', '<  but wherefore says she not she is unjust', '<  and wherefore say not i that i am old', \"<  o! love's best habit is in seeming trust\", '<  and age in love, loves not to have years told', '<    therefore i lie with her, and she with me', \"<    and in our faults by lies we flatter'd be\", '<  o! call not me to justify the wron', '<  that thy unkindness lays upon my heart', '<  wound me not with thine eye, but with thy tongue', '<  use power with power, and slay me not by art', \"<  tell me thou lov'st elsewhere; but in my sight\", '<  dear heart, forbear to glance thine eye aside', \"<  what need'st thou wound with cunning, when thy migh\", \"<  is more than my o'erpress'd defence can bide\", '<  let me excuse thee: ah! my love well know', '<  her pretty looks have been mine enemies', '<  and therefore from my face she turns my foes', '<  that they elsewhere might dart their injuries', '<    yet do not so; but since i am near slain', '<    kill me outright with looks, and rid my pain', '<  be wise as thou art cruel; do not pres', '<  my tongue-tied patience with too much disdain', '<  lest sorrow lend me words, and words expres', '<  the manner of my pity-wanting pain', '<  if i might teach thee wit, better it were', '<  though not to love, yet, love to tell me so;-', '<  as testy sick men, when their deaths be near', '<  no news but health from their physicians know;-', '<  for, if i should despair, i should grow mad', '<  and in my madness might speak ill of thee', '<  now this ill-wresting world is grown so bad', '<  mad slanderers by mad ears believed be', '<    that i may not be so, nor thou belied', '<    bear thine eyes straight, though thy proud heart go wide', '<  in faith i do not love thee with mine eyes', '<  for they in thee a thousand errors note', \"<  but 'tis my heart that loves what they despise\", '<  who, in despite of view, is pleased to dote', \"<  nor are mine ears with thy tongue's tune delighted\", '<  nor tender feeling, to base touches prone', '<  nor taste, nor smell, desire to be invite', '<  to any sensual feast with thee alone', '<  but my five wits nor my five senses ca', '<  dissuade one foolish heart from serving thee', \"<  who leaves unsway'd the likeness of a man\", \"<  thy proud heart's slave and vassal wretch to be\", '<    only my plague thus far i count my gain', '<    that she that makes me sin awards me pain', '<  love is my sin, and thy dear virtue hate', '<  hate of my sin, grounded on sinful loving', '<  o! but with mine compare thou thine own state', '<  and thou shalt find it merits not reproving', '<  or, if it do, not from those lips of thine', \"<  that have profan'd their scarlet ornament\", \"<  and seal'd false bonds of love as oft as mine\", \"<  robb'd others' beds' revenues of their rents\", \"<  be it lawful i love thee, as thou lov'st thos\", '<  whom thine eyes woo as mine importune thee', '<  root pity in thy heart, that, when it grows', '<  thy pity may deserve to pitied be', '<    if thou dost seek to have what thou dost hide', '<    by self-example mayst thou be denied', '<  lo, as a careful housewife runs to catc', \"<  one of her feather'd creatures broke away\", '<  sets down her babe, and makes all swift dispatc', '<  in pursuit of the thing she would have stay', '<  whilst her neglected child holds her in chase', '<  cries to catch her whose busy care is ben', '<  to follow that which flies before her face', \"<  not prizing her poor infant's discontent\", \"<  so runn'st thou after that which flies from thee\", '<  whilst i thy babe chase thee afar behind', '<  but if thou catch thy hope, turn back to me', \"<  and play the mother's part, kiss me, be kind\", \"<    so will i pray that thou mayst have thy 'will,\", '<    if thou turn back and my loud crying still', '<  two loves i have of comfort and despair', '<  which like two spirits do suggest me still', '<  the better angel is a man right fair', \"<  the worser spirit a woman colour'd ill\", '<  to win me soon to hell, my female evil', '<  tempteth my better angel from my side', '<  and would corrupt my saint to be a devil', '<  wooing his purity with her foul pride', \"<  and whether that my angel be turn'd fiend\", '<  suspect i may, yet not directly tell', '<  but being both from me, both to each friend', \"<  i guess one angel in another's hell\", \"<    yet this shall i ne'er know, but live in doubt\", '<    till my bad angel fire my good one out', \"<  those lips that love's own hand did make\", \"<  breathed forth the sound that said 'i hate'\", \"<  to me that languish'd for her sake\", '<  but when she saw my woeful state', '<  straight in her heart did mercy come', '<  chiding that tongue that ever swee', \"<  was us'd in giving gentle doom\", '<  and taught it thus anew to greet', \"<  'i hate' she alter'd with an end\", '<  that followed it as gentle day', '<  doth follow night, who like a fien', '<  from heaven to hell is flown away', \"<    'i hate', from hate away she threw\", \"<    and sav'd my life, saying 'not you'\", '<  poor soul, the centre of my sinful earth', '<  my sinful earth these rebel powers array', '<  why dost thou pine within and suffer dearth', '<  painting thy outward walls so costly gay', '<  why so large cost, having so short a lease', '<  dost thou upon thy fading mansion spend', '<  shall worms, inheritors of this excess', \"<  eat up thy charge? is this thy body's end\", \"<  then soul, live thou upon thy servant's loss\", '<  and let that pine to aggravate thy store', '<  buy terms divine in selling hours of dross', '<  within be fed, without be rich no more', '<    so shall thou feed on death, that feeds on men', \"<    and death once dead, there's no more dying then\", '<  my love is as a fever longing still', '<  for that which longer nurseth the disease', '<  feeding on that which doth preserve the ill', '<  the uncertain sickly appetite to please', '<  my reason, the physician to my love', '<  angry that his prescriptions are not kept', '<  hath left me, and i desperate now approv', '<  desire is death, which physic did except', '<  past cure i am, now reason is past care', '<  and frantic-mad with evermore unrest', \"<  my thoughts and my discourse as madmen's are\", \"<  at random from the truth vainly express'd\", '<    for i have sworn thee fair, and thought thee bright', '<    who art as black as hell, as dark as night', '<  o me! what eyes hath love put in my head', '<  which have no correspondence with true sight', '<  or, if they have, where is my judgment fled', '<  that censures falsely what they see aright', '<  if that be fair whereon my false eyes dote', '<  what means the world to say it is not so', '<  if it be not, then love doth well denot', \"<  love's eye is not so true as all men's: no\", \"<  how can it? o! how can love's eye be true\", '<  that is so vexed with watching and with tears', '<  no marvel then, though i mistake my view', '<  the sun itself sees not, till heaven clears', \"<    o cunning love! with tears thou keep'st me blind\", '<    lest eyes well-seeing thy foul faults should find', '<  canst thou, o cruel! say i love thee not', '<  when i against myself with thee partake', '<  do i not think on thee, when i forgo', '<  am of my self, all tyrant, for thy sake', '<  who hateth thee that i do call my friend', \"<  on whom frown'st thou that i do fawn upon\", \"<  nay, if thou lour'st on me, do i not spen\", '<  revenge upon myself with present moan', '<  what merit do i in my self respect', '<  that is so proud thy service to despise', '<  when all my best doth worship thy defect', '<  commanded by the motion of thine eyes', '<    but, love, hate on, for now i know thy mind', \"<    those that can see thou lov'st, and i am blind\", '<  o! from what power hast thou this powerful might', '<  with insufficiency my heart to sway', '<  to make me give the lie to my true sight', '<  and swear that brightness doth not grace the day', '<  whence hast thou this becoming of things ill', '<  that in the very refuse of thy deed', '<  there is such strength and warrantise of skill', '<  that, in my mind, thy worst all best exceeds', '<  who taught thee how to make me love thee more', '<  the more i hear and see just cause of hate', '<  o! though i love what others do abhor', '<  with others thou shouldst not abhor my state', \"<    if thy unworthiness rais'd love in me\", \"<    more worthy i to be belov'd of thee\", '<  love is too young to know what conscience is', '<  yet who knows not conscience is born of love', '<  then, gentle cheater, urge not my amiss', '<  lest guilty of my faults thy sweet self prove', '<  for, thou betraying me, i do betra', \"<  my nobler part to my gross body's treason\", '<  my soul doth tell my body that he ma', '<  triumph in love; flesh stays no farther reason', '<  but rising at thy name doth point out thee', '<  as his triumphant prize. proud of this pride', '<  he is contented thy poor drudge to be', '<  to stand in thy affairs, fall by thy side', '<    no want of conscience hold it that i cal', \"<    her 'love,' for whose dear love i rise and fall\", \"<  in loving thee thou know'st i am forsworn\", '<  but thou art twice forsworn, to me love swearing', '<  in act thy bed-vow broke, and new faith torn', '<  in vowing new hate after new love bearing', \"<  but why of two oaths' breach do i accuse thee\", \"<  when i break twenty? i am perjur'd most\", '<  for all my vows are oaths but to misuse thee', '<  and all my honest faith in thee is lost', '<  for i have sworn deep oaths of thy deep kindness', '<  oaths of thy love, thy truth, thy constancy', '<  and, to enlighten thee, gave eyes to blindness', '<  or made them swear against the thing they see', \"<    for i have sworn thee fair; more perjur'd i\", '<    to swear against the truth so foul a lie', '<  cupid laid by his brand and fell asleep', \"<  a maid of dian's this advantage found\", '<  and his love-kindling fire did quickly stee', '<  in a cold valley-fountain of that ground', \"<  which borrow'd from this holy fire of love\", '<  a dateless lively heat, still to endure', '<  and grew a seeting bath, which yet men prov', '<  against strange maladies a sovereign cure', \"<  but at my mistress' eye love's brand new-fired\", '<  the boy for trial needs would touch my breast', '<  i, sick withal, the help of bath desired', \"<  and thither hied, a sad distemper'd guest\", '<    but found no cure, the bath for my help lie', \"<    where cupid got new fire; my mistress' eyes\", '<  the little love-god lying once asleep', '<  laid by his side his heart-inflaming brand', \"<  whilst many nymphs that vow'd chaste life to kee\", '<  came tripping by; but in her maiden han', '<  the fairest votary took up that fir', \"<  which many legions of true hearts had warm'd\", '<  and so the general of hot desir', \"<  was, sleeping, by a virgin hand disarm'd\", '<  this brand she quenched in a cool well by', \"<  which from love's fire took heat perpetual\", '<  growing a bath and healthful remedy', \"<  for men diseas'd; but i, my mistress' thrall\", '<    came there for cure and this by that i prove', \"<    love's fire heats water, water cools not love\"]\n"
          ]
        }
      ]
    },
    {
      "cell_type": "markdown",
      "source": [
        "**I decided not to join the text, because I thought that the model should learn how to generate sonnet lines, looking at the lines, and not intermittent pieces of text. Moreover, the task turns out to be as close as possible to the task of generating names. I also added sos, eos, and took into account the fact that we do not penalize the model for generating short strings**"
      ],
      "metadata": {
        "id": "7itEH4mdPe3i"
      }
    },
    {
      "cell_type": "markdown",
      "metadata": {
        "id": "Q0nvhKE8tfrY"
      },
      "source": [
        "In opposite to the in-class practice, this time we want to predict complex text. Let's reduce the complexity of the task and lowercase all the symbols.\n",
        "\n",
        "Now variable `text` is a list of strings. Join all the strings into one and lowercase it."
      ]
    },
    {
      "cell_type": "code",
      "execution_count": 41,
      "metadata": {
        "colab": {
          "base_uri": "https://localhost:8080/"
        },
        "id": "iEFA4DHZtfrZ",
        "outputId": "6a4163a2-357f-426d-9b1b-55b4194fcce5"
      },
      "outputs": [
        {
          "output_type": "stream",
          "name": "stdout",
          "text": [
            "OK!\n"
          ]
        }
      ],
      "source": [
        "# Join all the strings into one and lowercase it\n",
        "# Put result into variable text.\n",
        " \n",
        "# done while previous preprocessing\n",
        "\n",
        "MAX_LENGTH = max(map(len, text))\n",
        "\n",
        "assert not any([x in set(text) for x in string.ascii_uppercase]), 'Uppercase letters are present'\n",
        "print('OK!')\n"
      ]
    },
    {
      "cell_type": "markdown",
      "metadata": {
        "id": "AdfGY-ZMtfra"
      },
      "source": [
        "### Data loading: \"Евгений Онегин\"\n"
      ]
    },
    {
      "cell_type": "code",
      "execution_count": 42,
      "metadata": {
        "id": "rjkYM920tfra"
      },
      "outputs": [],
      "source": [
        "# !wget https://raw.githubusercontent.com/attatrol/data_sources/master/onegin.txt\n",
        "    \n",
        "# with open('onegin.txt', 'r') as iofile:\n",
        "#     text = iofile.readlines()\n",
        "    \n",
        "# text = [x.replace('\\t\\t', '') for x in text]\n"
      ]
    },
    {
      "cell_type": "markdown",
      "metadata": {
        "id": "4GN1PNdftfrb"
      },
      "source": [
        "In opposite to the in-class practice, this time we want to predict complex text. Let's reduce the complexity of the task and lowercase all the symbols.\n",
        "\n",
        "Now variable `text` is a list of strings. Join all the strings into one and lowercase it."
      ]
    },
    {
      "cell_type": "code",
      "execution_count": 43,
      "metadata": {
        "id": "54JXLjJctfrc"
      },
      "outputs": [],
      "source": [
        "# Join all the strings into one and lowercase it\n",
        "# Put result into variable text.\n",
        "\n",
        "# Your great code here\n",
        "# text_join = ''.join(text).lower()\n",
        "# assert not any([x in set(text_join) for x in string.ascii_uppercase]), 'Uppercase letters are present'"
      ]
    },
    {
      "cell_type": "markdown",
      "metadata": {
        "id": "tKkYHrmKtfrc"
      },
      "source": [
        "Put all the characters, that you've seen in the text, into variable `tokens`."
      ]
    },
    {
      "cell_type": "code",
      "execution_count": 44,
      "metadata": {
        "colab": {
          "base_uri": "https://localhost:8080/"
        },
        "id": "fhbzHQLEtfrd",
        "outputId": "708a2c57-45d4-459b-9b2a-9457ee05c1ed"
      },
      "outputs": [
        {
          "output_type": "stream",
          "name": "stdout",
          "text": [
            "# unique tokens: 40 \n",
            "\n",
            "example: [':', ';', '<', '?', 'a', 'b', 'c']\n"
          ]
        }
      ],
      "source": [
        "tokens = sorted(set(''.join(text)))\n",
        "\n",
        "tokens.append('_')\n",
        "tokens.append('>')\n",
        "num_tokens = len(tokens)\n",
        "\n",
        "print(f'# unique tokens: {num_tokens}', '\\n')\n",
        "print(f'example: {tokens[8:15]}')"
      ]
    },
    {
      "cell_type": "markdown",
      "metadata": {
        "id": "Sm_AHQwZtfrd"
      },
      "source": [
        "Create dictionary `token_to_idx = {<char>: <index>}` and dictionary `idx_to_token = {<index>: <char>}`"
      ]
    },
    {
      "cell_type": "code",
      "execution_count": 45,
      "metadata": {
        "collapsed": true,
        "id": "wF-j6FJitfrd"
      },
      "outputs": [],
      "source": [
        "# dict <index>:<char>\n",
        "# Your great code here\n",
        "idx_to_token = {i: val for i, val in enumerate(tokens)}\n",
        "\n",
        "\n",
        "# dict <char>:<index>\n",
        "# Your great code here\n",
        "token_to_idx = {val:i for i,val in enumerate(tokens)}\n",
        "\n",
        "assert len(idx_to_token) == len(token_to_idx)"
      ]
    },
    {
      "cell_type": "code",
      "source": [
        "# def char_to_tensor(line, token_idx = token_to_idx):\n",
        "#   return torch.LongTensor([token_idx[char] for char in line])\n",
        "\n",
        "# encoded_text_join =  char_to_tensor(text_join, token_to_idx)\n",
        "# encoded_text_join[:5]\n"
      ],
      "metadata": {
        "id": "jaIgujRIwnQy"
      },
      "execution_count": 46,
      "outputs": []
    },
    {
      "cell_type": "markdown",
      "metadata": {
        "id": "Exq6Lwb1tfre"
      },
      "source": [
        "*Comment: in this task we have only 38 different tokens, so let's use one-hot encoding.*"
      ]
    },
    {
      "cell_type": "markdown",
      "metadata": {
        "id": "ARDzZlhxtfre"
      },
      "source": [
        "### Building the model"
      ]
    },
    {
      "cell_type": "markdown",
      "metadata": {
        "id": "unLLjEpCtfre"
      },
      "source": [
        "Now we want to build and train recurrent neural net which would be able to something similar to Shakespeare's poetry.\n",
        "\n",
        "Let's use vanilla RNN, similar to the one created during the lesson."
      ]
    },
    {
      "cell_type": "code",
      "source": [
        "def to_matrix(text:list, pad=token_to_idx['_'], dtype='int32', batch_first=True):\n",
        "    \"\"\"\n",
        "    Casts a list of text into rnn-digestable matrix\n",
        "    \"\"\"\n",
        "    \n",
        "    max_len = MAX_LENGTH + 1\n",
        "    n_rows = len(text)\n",
        "\n",
        "    text_ix = np.zeros([n_rows, max_len], dtype) + pad\n",
        "    text_ix[:, 0] = token_to_idx['<'] # <SOS>\n",
        "\n",
        "    for i in range(n_rows):\n",
        "        line_ix = [token_to_idx[char] for char in text[i]]\n",
        "        text_ix[i, 1:len(line_ix)] = line_ix[1:]\n",
        "        text_ix[i, len(line_ix)] = token_to_idx['>'] # <EOS>\n",
        "\n",
        "        \n",
        "    if not batch_first: # convert [batch, time] into [time, batch]\n",
        "        text_ix = np.transpose(text_ix)\n",
        "\n",
        "    return text_ix"
      ],
      "metadata": {
        "id": "jxJtqIKlKKSs"
      },
      "execution_count": 47,
      "outputs": []
    },
    {
      "cell_type": "code",
      "source": [
        "# from seminar\n",
        "class Vanilla_char_RNN(nn.Module):\n",
        "   \n",
        "    def __init__(\n",
        "        self,\n",
        "        num_tokens: int=len(tokens),\n",
        "        embedding_size: int=64,\n",
        "        rnn_num_units: int=128\n",
        "    ):\n",
        "        super(Vanilla_char_RNN, self).__init__()\n",
        "        self.rnn_num_units = rnn_num_units\n",
        "        self.embedding = nn.Embedding(num_tokens, embedding_size)\n",
        "        self.rnn = nn.RNN(embedding_size, rnn_num_units, batch_first=True)\n",
        "        self.linear = nn.Linear(rnn_num_units, num_tokens)\n",
        "        \n",
        "    def forward(self, x, h_prev):\n",
        "        x_emb = self.embedding(x)\n",
        "        out, h_next = self.rnn(x_emb, h_prev)\n",
        "        logits = self.linear(out)\n",
        "        return h_next, logits\n",
        "    \n",
        "    def initial_state(self, batch_size):\n",
        "        return torch.zeros(batch_size, self.rnn_num_units, requires_grad=True)"
      ],
      "metadata": {
        "id": "J_pD7mLoqSO7"
      },
      "execution_count": 48,
      "outputs": []
    },
    {
      "cell_type": "code",
      "source": [
        "def rnn_loop(char_rnn, batch_ix):\n",
        "    \"\"\"\n",
        "    Computes log P(next_character) for all time-steps in names_ix\n",
        "    :param names_ix: an int32 matrix of shape [batch, time], output of to_matrix(names)\n",
        "    \"\"\"\n",
        "    batch_size, max_length = batch_ix.size()\n",
        "    hid_state = char_rnn.initial_state(batch_size)\n",
        "    \n",
        "    logits = []\n",
        "\n",
        "    for i, x_t in enumerate(batch_ix.transpose(0,1)):\n",
        "      if len(hid_state) != 1:   # initial state, need for one-to-one comparison in RNN\n",
        "         hid_state = hid_state[i, :][None,:]\n",
        "\n",
        "      hid_state, logits_next = char_rnn(x_t, hid_state)\n",
        "      logits.append(logits_next)\n",
        "        \n",
        "    return torch.stack(logits, dim=1)"
      ],
      "metadata": {
        "id": "DvHWBhDZ9djN"
      },
      "execution_count": 49,
      "outputs": []
    },
    {
      "cell_type": "code",
      "source": [
        "def train(model: nn.Module,model_loop, n_epochs: int=16, optim=None, loss_fn = None, batch_size: int=150):\n",
        "    losses = []\n",
        "    state = model.initial_state(batch_size)\n",
        "\n",
        "    for epoch in tqdm(range(n_epochs)):\n",
        "        optim.zero_grad()\n",
        "\n",
        "        ind = np.random.choice(len(text), batch_size, replace = False)\n",
        "        batch_ix = to_matrix([text[i] for i in ind])\n",
        "        batch_ix = torch.tensor(batch_ix, dtype=torch.int64)\n",
        "\n",
        "        logits_seq = model_loop(model, batch_ix)  \n",
        "            \n",
        "        predictions_logits = logits_seq[:, :-1]\n",
        "        actual_next_tokens = batch_ix[:, 1:]\n",
        "\n",
        "\n",
        "        loss = loss_func(\n",
        "        predictions_logits.reshape((-1, num_tokens)),\n",
        "        actual_next_tokens.reshape(-1)\n",
        "        )\n",
        "        losses.append(loss.item())\n",
        "        loss.backward()\n",
        "        optim.step()\n",
        "        \n",
        "    return losses"
      ],
      "metadata": {
        "id": "JcXMUDSQq2ub"
      },
      "execution_count": 51,
      "outputs": []
    },
    {
      "cell_type": "markdown",
      "metadata": {
        "id": "p2SaooZEtfrf"
      },
      "source": [
        "Plot the loss function (axis X: number of epochs, axis Y: loss function)."
      ]
    },
    {
      "cell_type": "code",
      "execution_count": 52,
      "metadata": {
        "collapsed": true,
        "id": "bE-SMCnEtfrf"
      },
      "outputs": [],
      "source": [
        "# Your plot code here\n",
        "\n",
        "def plot_train_process(train_loss):\n",
        "  plt.figure(figsize = (10,6))\n",
        "  plt.title('Loss')\n",
        "  plt.xlabel('# epochs')\n",
        "  plt.ylabel('loss value')\n",
        "  plt.plot(train_loss,label='train')\n",
        "  plt.legend()\n",
        "  plt.grid(which = 'major')\n",
        "  plt.show()"
      ]
    },
    {
      "cell_type": "code",
      "source": [
        "model = Vanilla_char_RNN(rnn_num_units = MAX_LENGTH)\n",
        "optimizer = torch.optim.Adam(model.parameters())\n",
        "loss_func = nn.CrossEntropyLoss(ignore_index=token_to_idx['_'])\n",
        "\n",
        "vanilla_losses = train(model,rnn_loop, n_epochs = 500, optim = optimizer, loss_fn = loss_func)\n",
        "\n",
        "print('\\n', f'Min loss value: %.5f' % min(vanilla_losses))\n",
        "plot_train_process(vanilla_losses)"
      ],
      "metadata": {
        "colab": {
          "base_uri": "https://localhost:8080/",
          "height": 458
        },
        "id": "rvAfo8A72x_K",
        "outputId": "dba86930-a5cb-4fe6-e532-15202bf1aaf9"
      },
      "execution_count": 53,
      "outputs": [
        {
          "output_type": "stream",
          "name": "stderr",
          "text": [
            "100%|██████████| 500/500 [05:03<00:00,  1.65it/s]"
          ]
        },
        {
          "output_type": "stream",
          "name": "stdout",
          "text": [
            "\n",
            " Min loss value: 2.23831\n"
          ]
        },
        {
          "output_type": "stream",
          "name": "stderr",
          "text": [
            "\n"
          ]
        },
        {
          "output_type": "display_data",
          "data": {
            "text/plain": [
              "<Figure size 720x432 with 1 Axes>"
            ],
            "image/png": "[encoded data removed]"
          },
          "metadata": {
            "needs_background": "light"
          }
        }
      ]
    },
    {
      "cell_type": "code",
      "execution_count": 54,
      "metadata": {
        "collapsed": true,
        "id": "bIx-IYlFtfrh"
      },
      "outputs": [],
      "source": [
        "def generate_sample(char_rnn, seed_phrase='<', max_length=MAX_LENGTH, temperature=1.0):\n",
        "    '''\n",
        "    The function generates text given a phrase of length at least SEQ_LENGTH.\n",
        "    :param seed_phrase: prefix characters. The RNN is asked to continue the phrase\n",
        "    :param max_length: maximum output length, including seed_phrase\n",
        "    :param temperature: coefficient for sampling.  higher temperature produces more chaotic outputs,\n",
        "                        smaller temperature converges to the single most likely output\n",
        "    '''\n",
        "    char_rnn.eval()\n",
        "\n",
        "    x_sequence = [token_to_idx[token] for token in seed_phrase]\n",
        "    x_sequence = torch.tensor([x_sequence], dtype=torch.int64)\n",
        "    hid_state = char_rnn.initial_state(batch_size=1)\n",
        "    \n",
        "    #feed the seed phrase, if any\n",
        "    for i in range(len(seed_phrase) - 1):\n",
        "        hid_state, _ = char_rnn(x_sequence[:, i], hid_state)\n",
        "    \n",
        "    #start generating\n",
        "    for _ in range(max_length - len(seed_phrase)):\n",
        "        hid_state, logits_next = char_rnn(x_sequence[:, -1], hid_state)\n",
        "        p_next = F.softmax(logits_next / temperature, dim=-1).data.numpy()[0]\n",
        "        \n",
        "        # sample next token and push it back into x_sequence\n",
        "        next_ix = np.random.choice(num_tokens, p=p_next)\n",
        "        next_ix = torch.tensor([[next_ix]], dtype=torch.int64)\n",
        "        x_sequence = torch.cat([x_sequence, next_ix], dim=1)\n",
        "        if next_ix == token_to_idx['>']:\n",
        "          break\n",
        "    res = ''.join([tokens[ix] for ix in x_sequence.data.numpy()[0]])\n",
        "    if res[0] == '<':\n",
        "      res = res[1:]\n",
        "    if res[-1] == '>':\n",
        "      res = res[:-1]\n",
        "    return res"
      ]
    },
    {
      "cell_type": "code",
      "source": [
        "model.eval()\n",
        "for t in [0.1, 0.2, 0.5, 1.0, 2.0]:\n",
        "    print(\"Temperature: %.1f\" %t)\n",
        "    for _ in range(5):\n",
        "      print(generate_sample(model, seed_phrase=\"sir \", temperature=t))\n",
        "    print('\\n')\n",
        "  "
      ],
      "metadata": {
        "colab": {
          "base_uri": "https://localhost:8080/"
        },
        "id": "bc40iq5OJvl4",
        "outputId": "28c6b805-42d8-40ab-c07a-65838a75c9b9"
      },
      "execution_count": 66,
      "outputs": [
        {
          "output_type": "stream",
          "name": "stdout",
          "text": [
            "Temperature: 0.1\n",
            "sir the the the the the the the the the the the the the the th\n",
            "sir the the the the the the the the the the the the the the th\n",
            "sir the the the the the the the the the the the the t the the \n",
            "sir the the the the the the t the the the the the the the the \n",
            "sir the the the the the the the the the the the the the the th\n",
            "\n",
            "\n",
            "Temperature: 0.2\n",
            "sir the the the the than the the the me my the the the the the\n",
            "sir the the the the the the the the the the the the t the t th\n",
            "sir the the the the the t the the the t the the s the t the t \n",
            "sir thanon the the t the t the s the the the the the t the t t\n",
            "sir the the the s the the the my the the the the the the the i\n",
            "\n",
            "\n",
            "Temperature: 0.5\n",
            "sir inon se alll t w m t s y he me i alond whe thing t thor an\n",
            "sir t y buth mat the thang f thes ban athen ing my the wh ther\n",
            "sir t t li n he llot fe t  owhere mean t s thand in the pe s t\n",
            "sir win t de the pure den hithe t whend t whou d m thangen t w\n",
            "sir d chi s ace my ouro thant tho d  an be ten thind t wouther\n",
            "\n",
            "\n",
            "Temperature: 1.0\n",
            "sir his thio ithi t rthak, te ithovesin il 'd gl an isthe\n",
            "sir leccovin betheand st or ro ise my asin s flllla ve whas ha\n",
            "sir atrswht s, myo! aven th nd hilonoburee, dewind\n",
            "sir ts bucpthof myrsove, dargura'd thacotherre ingale lof an i\n",
            "sir met vothin und agwhie weth f bofe thoolill, wesedsss in, i\n",
            "\n",
            "\n",
            "Temperature: 2.0\n",
            "sir ldusasolve 'trambzelor's  iksuqfxt usto!noviviuy s shbalil\n",
            "sir kab<akr ck fonrou; \n",
            "sir houg! quqdwly'e\n",
            "sir ksant ag djessrave'd aneo tud\n",
            "sir ttund?gr\n",
            "\n",
            "\n"
          ]
        }
      ]
    },
    {
      "cell_type": "markdown",
      "source": [
        "**The lower the temperature, the more conservative the words are given by the model and more similar to the normal text. The fact that he is delusional is most likely due to embedding**"
      ],
      "metadata": {
        "id": "NQLB5mulN4hk"
      }
    },
    {
      "cell_type": "markdown",
      "metadata": {
        "id": "MYiGlyIutfrg"
      },
      "source": [
        "### More poetic model\n",
        "\n",
        "Let's use LSTM instead of vanilla RNN and compare the results."
      ]
    },
    {
      "cell_type": "code",
      "source": [
        "class LSTM_char_RNN(nn.Module):\n",
        "   \n",
        "    def __init__(\n",
        "        self,\n",
        "        num_tokens: int=len(tokens),\n",
        "        embedding_size: int=64,\n",
        "        rnn_num_units: int=128\n",
        "    ):\n",
        "        super(LSTM_char_RNN, self).__init__()\n",
        "        self.rnn_num_units = rnn_num_units\n",
        "        self.embedding = nn.Embedding(num_tokens, embedding_size)\n",
        "        self.lstm = nn.LSTM(embedding_size, rnn_num_units, batch_first=True)\n",
        "        self.linear = nn.Linear(rnn_num_units, num_tokens)\n",
        "        \n",
        "    def forward(self, x, states = None):\n",
        "      \"\"\"\n",
        "      states = h_prev + long_term_memory_prev\n",
        "      \"\"\"\n",
        "      x_emb = self.embedding(x)\n",
        "      if states is None:\n",
        "          states = self.initial_state(1)\n",
        "      out, states = self.lstm(x_emb, states)\n",
        "      \n",
        "      logits = self.linear(out)\n",
        "      return states, logits\n",
        "    \n",
        "    def initial_state(self, batch_size):\n",
        "        return [torch.zeros(1, self.rnn_num_units, requires_grad=True),\n",
        "                torch.zeros(1, self.rnn_num_units, requires_grad=True)]"
      ],
      "metadata": {
        "id": "4WcxsFSekhwT"
      },
      "execution_count": 56,
      "outputs": []
    },
    {
      "cell_type": "code",
      "source": [
        "def lstm_loop(char_rnn, batch_ix):\n",
        "    \"\"\"\n",
        "    Computes log P(next_character) for all time-steps in names_ix\n",
        "    :param names_ix: an int32 matrix of shape [batch, time], output of to_matrix(names)\n",
        "    states = h_prev + long_term_memory_prev\n",
        "    \"\"\"\n",
        "    batch_size, max_length = batch_ix.size()\n",
        "    states = char_rnn.initial_state(1)\n",
        "    \n",
        "    logits = []\n",
        "\n",
        "    for x_t in batch_ix.transpose(0,1):\n",
        "      hidden_state, long_state = states\n",
        "\n",
        "      states = [hidden_state, long_state]\n",
        "\n",
        "      states, logits_next = char_rnn(x_t, states)\n",
        "      logits.append(logits_next)\n",
        "        \n",
        "    return torch.stack(logits, dim=1)"
      ],
      "metadata": {
        "id": "o76G3yUOQ1q7"
      },
      "execution_count": 57,
      "outputs": []
    },
    {
      "cell_type": "markdown",
      "metadata": {
        "id": "mRUZ8xFOtfrh"
      },
      "source": [
        "Plot the loss function of the number of epochs. Does the final loss become better?"
      ]
    },
    {
      "cell_type": "code",
      "source": [
        "lstm_model = LSTM_char_RNN(rnn_num_units = MAX_LENGTH)\n",
        "optimizer = torch.optim.Adam(lstm_model.parameters())\n",
        "loss_func = nn.CrossEntropyLoss(ignore_index=token_to_idx['_'])\n",
        "\n",
        "lstm_losses = train(lstm_model,lstm_loop, n_epochs = 500, optim = optimizer, loss_fn = loss_func)\n",
        "\n",
        "print('\\n',f'Min loss value: %.5f' % min(lstm_losses))\n",
        "plot_train_process(lstm_losses)"
      ],
      "metadata": {
        "colab": {
          "base_uri": "https://localhost:8080/",
          "height": 458
        },
        "id": "jhMOI5n-S4mu",
        "outputId": "499fffd5-86c0-4034-ca91-8bbde5cb6a88"
      },
      "execution_count": 58,
      "outputs": [
        {
          "output_type": "stream",
          "name": "stderr",
          "text": [
            "100%|██████████| 500/500 [13:26<00:00,  1.61s/it]\n"
          ]
        },
        {
          "output_type": "stream",
          "name": "stdout",
          "text": [
            "\n",
            " Min loss value: 2.23393\n"
          ]
        },
        {
          "output_type": "display_data",
          "data": {
            "text/plain": [
              "<Figure size 720x432 with 1 Axes>"
            ],
            "image/png": "[encoded data removed]"
          },
          "metadata": {
            "needs_background": "light"
          }
        }
      ]
    },
    {
      "cell_type": "markdown",
      "metadata": {
        "id": "d1o1bexCtfrh"
      },
      "source": [
        "Generate text using the trained net with different `temperature` parameter: `[0.1, 0.2, 0.5, 1.0, 2.0]`.\n",
        "\n",
        "Evaluate the results visually, try to interpret them."
      ]
    },
    {
      "cell_type": "code",
      "source": [
        "# Text generation with different temperature values here\n",
        "\n",
        "lstm_model.eval()\n",
        "for t in [0.1, 0.2, 0.5, 1.0, 2.0]:\n",
        "    print(\"Temperature: %.1f\" %t)\n",
        "    for _ in range(5):\n",
        "      print(generate_sample(lstm_model, seed_phrase=\"sir \", temperature=t))\n",
        "    print('\\n')"
      ],
      "metadata": {
        "id": "fjDp6_XgJrj8",
        "colab": {
          "base_uri": "https://localhost:8080/"
        },
        "outputId": "c070ac08-9f6f-4983-dc24-16032cf20af9"
      },
      "execution_count": 64,
      "outputs": [
        {
          "output_type": "stream",
          "name": "stdout",
          "text": [
            "Temperature: 0.1\n",
            "sir the the the the the the the the the the the the the the th\n",
            "sir the the the the t the the the the the the the the the the \n",
            "sir the the the the the the the the the the the the the the th\n",
            "sir the the the the the the the the the the the the the the th\n",
            "sir the the the the the the the the the the the the the the th\n",
            "\n",
            "\n",
            "Temperature: 0.2\n",
            "sir the the the the the t than the the the the the be the the \n",
            "sir the the than the s the the the the the the than the the th\n",
            "sir the the t the t the the the the the the the t the whathe t\n",
            "sir and the the the thanouthe there the the than the thathe th\n",
            "sir the the the the the the the th t the the the t the the the\n",
            "\n",
            "\n",
            "Temperature: 0.5\n",
            "sir the s thatin s whan the d t  t me sower by sowowind st th \n",
            "sir he torthan th te t chan mere n t the s ananeathese whase t\n",
            "sir be thy wan is the thorthis be or tho my wache an thor t t \n",
            "sir wholenoun  be fous the n s be m  towhomy winore s chathe a\n",
            "sir and shend my in the be the whe tho nouth ore the at the th\n",
            "\n",
            "\n",
            "Temperature: 1.0\n",
            "sir sesp my tharu pr f mef ha omyovecrghe t d orne hotn kes, i\n",
            "sir meaborokere hitin me thivecroul n thy f stesongichexrof s,\n",
            "sir ngeyicou lllothes winthoutyot hapr bat, hyoos fthathis ghy\n",
            "sir ar t bestr wharse lomperghee asso n t, erndeive ts windebe\n",
            "sir f cowhofor wine tougmy we as e, tillited s b pothathy prit\n",
            "\n",
            "\n",
            "Temperature: 2.0\n",
            "sir fi\n",
            "sir xb me'd juny;chenithe t\n",
            "sir y b!;in ;s m th tln nss\n",
            "sir tesostkllllouosppacsou\n",
            "sir miegherwad orspjirpjuvl!;rs(xm aimy veis:d<t l eseo-\n",
            "\n",
            "\n"
          ]
        }
      ]
    },
    {
      "cell_type": "markdown",
      "source": [
        "**At low temperatures, the behaviors of LSTM and Vanilla_RNN are similar - both generate conservative words, and the results are almost identical to each other. When the temperature rises, LSTM shows results more similar to ordinary English than Vanilla_RNN, as expected in theory**"
      ],
      "metadata": {
        "id": "ao2a3RtLI-Jm"
      }
    },
    {
      "cell_type": "markdown",
      "metadata": {
        "id": "TTGS_3Rhtfrh"
      },
      "source": [
        "### Saving and loading models"
      ]
    },
    {
      "cell_type": "markdown",
      "metadata": {
        "id": "iVZmUAFUtfri"
      },
      "source": [
        "Save the model to the disk, then load it and generate text. Examples are available [here](https://pytorch.org/tutorials/beginner/saving_loading_models.html])."
      ]
    },
    {
      "cell_type": "code",
      "execution_count": 60,
      "metadata": {
        "collapsed": true,
        "id": "DnWRFf01tfri"
      },
      "outputs": [],
      "source": [
        "# Saving and loading code here\n",
        "torch.save(lstm_model.state_dict(), 'lstm_model_sonnet.pth')\n"
      ]
    },
    {
      "cell_type": "code",
      "source": [
        "copy_lstm_model = LSTM_char_RNN(rnn_num_units = MAX_LENGTH)\n",
        "copy_lstm_model.load_state_dict(torch.load('lstm_model_sonnet.pth'))\n",
        "copy_lstm_model.eval()"
      ],
      "metadata": {
        "colab": {
          "base_uri": "https://localhost:8080/"
        },
        "id": "x9FkWn98E_cg",
        "outputId": "6cf6ff22-01ca-400c-ae9a-41d666b82dc7"
      },
      "execution_count": 61,
      "outputs": [
        {
          "output_type": "execute_result",
          "data": {
            "text/plain": [
              "LSTM_char_RNN(\n",
              "  (embedding): Embedding(40, 64)\n",
              "  (lstm): LSTM(64, 62, batch_first=True)\n",
              "  (linear): Linear(in_features=62, out_features=40, bias=True)\n",
              ")"
            ]
          },
          "metadata": {},
          "execution_count": 61
        }
      ]
    },
    {
      "cell_type": "markdown",
      "metadata": {
        "id": "7yCHTFU3tfri"
      },
      "source": [
        "### References\n",
        "1. <a href='http://karpathy.github.io/2015/05/21/rnn-effectiveness/'> Andrew Karpathy blog post about RNN. </a> \n",
        "There are several examples of genration: Shakespeare texts, Latex formulas, Linux Sourse Code and children names.\n",
        "2. <a href='https://github.com/karpathy/char-rnn'> Repo with char-rnn code </a>\n",
        "3. Cool repo with PyTorch examples: [link](https://github.com/spro/practical-pytorch`)"
      ]
    }
  ],
  "metadata": {
    "anaconda-cloud": {},
    "kernelspec": {
      "display_name": "Python 3",
      "language": "python",
      "name": "python3"
    },
    "language_info": {
      "codemirror_mode": {
        "name": "ipython",
        "version": 3
      },
      "file_extension": ".py",
      "mimetype": "text/x-python",
      "name": "python",
      "nbconvert_exporter": "python",
      "pygments_lexer": "ipython3",
      "version": "3.8.10"
    },
    "vscode": {
      "interpreter": {
        "hash": "916dbcbb3f70747c44a77c7bcd40155683ae19c65e1c03b4aa3499c5328201f1"
      }
    },
    "colab": {
      "provenance": []
    },
    "accelerator": "GPU",
    "gpuClass": "standard"
  },
  "nbformat": 4,
  "nbformat_minor": 0
}